{
 "cells": [
  {
   "cell_type": "code",
   "execution_count": 1,
   "metadata": {},
   "outputs": [
    {
     "name": "stderr",
     "output_type": "stream",
     "text": [
      "C:\\Users\\rana_\\anaconda3\\lib\\site-packages\\pandas\\core\\computation\\expressions.py:20: UserWarning: Pandas requires version '2.7.3' or newer of 'numexpr' (version '2.7.1' currently installed).\n",
      "  from pandas.core.computation.check import NUMEXPR_INSTALLED\n"
     ]
    }
   ],
   "source": [
    "import pandas as pd\n",
    "import scipy\n",
    "import pyreadstat\n",
    "import pyshs\n",
    "import matplotlib.pyplot as plt\n",
    "import seaborn as sns\n",
    "import prince\n",
    "import numpy as np"
   ]
  },
  {
   "cell_type": "code",
   "execution_count": 2,
   "metadata": {},
   "outputs": [],
   "source": [
    "pd.set_option('display.max_columns', None)"
   ]
  },
  {
   "cell_type": "code",
   "execution_count": 3,
   "metadata": {},
   "outputs": [],
   "source": [
    "data = pd.read_csv(r\"C:\\Users\\rana_\\OneDrive\\Bureau\\inserm\\travaux\\IFOP et LEEM\\transfer_5678355_files_71b8c3b2\\LEEM-2018\\2018_BDD.csv\")"
   ]
  },
  {
   "cell_type": "code",
   "execution_count": 4,
   "metadata": {},
   "outputs": [
    {
     "data": {
      "text/html": [
       "<div>\n",
       "<style scoped>\n",
       "    .dataframe tbody tr th:only-of-type {\n",
       "        vertical-align: middle;\n",
       "    }\n",
       "\n",
       "    .dataframe tbody tr th {\n",
       "        vertical-align: top;\n",
       "    }\n",
       "\n",
       "    .dataframe thead th {\n",
       "        text-align: right;\n",
       "    }\n",
       "</style>\n",
       "<table border=\"1\" class=\"dataframe\">\n",
       "  <thead>\n",
       "    <tr style=\"text-align: right;\">\n",
       "      <th></th>\n",
       "      <th>CURRENTDAY</th>\n",
       "      <th>CURRENTM</th>\n",
       "      <th>CURRENTY</th>\n",
       "      <th>PSD</th>\n",
       "      <th>GENDER</th>\n",
       "      <th>AGER</th>\n",
       "      <th>REG9</th>\n",
       "      <th>REG5</th>\n",
       "      <th>AGGLO</th>\n",
       "      <th>MARL</th>\n",
       "      <th>HHSIZE</th>\n",
       "      <th>KIDS02</th>\n",
       "      <th>EMP01</th>\n",
       "      <th>PCSC</th>\n",
       "      <th>PCSI</th>\n",
       "      <th>FR02EMPHI</th>\n",
       "      <th>EDU</th>\n",
       "      <th>INC</th>\n",
       "      <th>RS1_0</th>\n",
       "      <th>RS1_1</th>\n",
       "      <th>RS2A</th>\n",
       "      <th>RS2B</th>\n",
       "      <th>Q1</th>\n",
       "      <th>Q2</th>\n",
       "      <th>Q3_0</th>\n",
       "      <th>Q3_1</th>\n",
       "      <th>Q3_2</th>\n",
       "      <th>Q3_3</th>\n",
       "      <th>Q3_4</th>\n",
       "      <th>Q3_5</th>\n",
       "      <th>Q4_0</th>\n",
       "      <th>Q4_1</th>\n",
       "      <th>Q4_2</th>\n",
       "      <th>Q4_3</th>\n",
       "      <th>Q5_0</th>\n",
       "      <th>Q5_1</th>\n",
       "      <th>Q5_2</th>\n",
       "      <th>Q5_3</th>\n",
       "      <th>Q9_0</th>\n",
       "      <th>Q9_1</th>\n",
       "      <th>Q9_2</th>\n",
       "      <th>Q9_3</th>\n",
       "      <th>Q9_4</th>\n",
       "      <th>Q9_5</th>\n",
       "      <th>Q9_6</th>\n",
       "      <th>Q9_7</th>\n",
       "      <th>Q9_8</th>\n",
       "      <th>Q9_9</th>\n",
       "      <th>Q9_10</th>\n",
       "      <th>Q9_11</th>\n",
       "      <th>Q9_12</th>\n",
       "      <th>Q9_13</th>\n",
       "      <th>Q9_14</th>\n",
       "      <th>Q9_15</th>\n",
       "      <th>Q9_16</th>\n",
       "      <th>Q9_17</th>\n",
       "      <th>Q11_0</th>\n",
       "      <th>Q11_1</th>\n",
       "      <th>Q11_2</th>\n",
       "      <th>Q11_3</th>\n",
       "      <th>Q11_4</th>\n",
       "      <th>Q11_5</th>\n",
       "      <th>Q11_6</th>\n",
       "      <th>Q11_7</th>\n",
       "      <th>Q11_8</th>\n",
       "      <th>Q11_9</th>\n",
       "      <th>Q11_10</th>\n",
       "      <th>Q11_11</th>\n",
       "      <th>Q6</th>\n",
       "      <th>Q10_0</th>\n",
       "      <th>Q10_1</th>\n",
       "      <th>Q10_2</th>\n",
       "      <th>Q10_3</th>\n",
       "      <th>Q10_4</th>\n",
       "      <th>Q10_5</th>\n",
       "      <th>Q10_6</th>\n",
       "      <th>Q10_7</th>\n",
       "      <th>Q10_8</th>\n",
       "      <th>Q10_9</th>\n",
       "      <th>Q10_10</th>\n",
       "      <th>Q10_11</th>\n",
       "      <th>Q10_12</th>\n",
       "      <th>Q10_13</th>\n",
       "      <th>Q10_14</th>\n",
       "      <th>Q10_15</th>\n",
       "      <th>Q10_16</th>\n",
       "      <th>Q10_17</th>\n",
       "      <th>Q10_18</th>\n",
       "      <th>Q13</th>\n",
       "      <th>Q14_0</th>\n",
       "      <th>Q14_1</th>\n",
       "      <th>Q14_2</th>\n",
       "      <th>Q14_3</th>\n",
       "      <th>Q14_4</th>\n",
       "      <th>Q14_5</th>\n",
       "      <th>Q14_6</th>\n",
       "      <th>Q16_0</th>\n",
       "      <th>Q16_1</th>\n",
       "      <th>Q17_0</th>\n",
       "      <th>Q17_1</th>\n",
       "      <th>Q18_0</th>\n",
       "      <th>Q18_1</th>\n",
       "      <th>Q18_2</th>\n",
       "      <th>Q19</th>\n",
       "      <th>Q20_0</th>\n",
       "      <th>Q20_1</th>\n",
       "      <th>Q20_2</th>\n",
       "      <th>Q20_3</th>\n",
       "      <th>Q20_4</th>\n",
       "      <th>Q20_5</th>\n",
       "      <th>Q20_6</th>\n",
       "      <th>Q22</th>\n",
       "      <th>Q23_0</th>\n",
       "      <th>Q23_1</th>\n",
       "      <th>Q23_2</th>\n",
       "      <th>Q23_3</th>\n",
       "      <th>Q23_4</th>\n",
       "      <th>Q23_5</th>\n",
       "      <th>Q23_6</th>\n",
       "      <th>Q23_7</th>\n",
       "      <th>Q23_8</th>\n",
       "      <th>Q23_9</th>\n",
       "      <th>Q23_10</th>\n",
       "      <th>Q23_11</th>\n",
       "      <th>Q29</th>\n",
       "      <th>Q30</th>\n",
       "      <th>Q0</th>\n",
       "      <th>QSAMPLE</th>\n",
       "    </tr>\n",
       "  </thead>\n",
       "  <tbody>\n",
       "    <tr>\n",
       "      <th>0</th>\n",
       "      <td>28</td>\n",
       "      <td>8</td>\n",
       "      <td>2018</td>\n",
       "      <td>0.915588</td>\n",
       "      <td>1</td>\n",
       "      <td>5</td>\n",
       "      <td>4</td>\n",
       "      <td>3</td>\n",
       "      <td>3</td>\n",
       "      <td>3</td>\n",
       "      <td>2</td>\n",
       "      <td>0</td>\n",
       "      <td>7</td>\n",
       "      <td>5</td>\n",
       "      <td>7</td>\n",
       "      <td>1</td>\n",
       "      <td>3</td>\n",
       "      <td>10</td>\n",
       "      <td>2</td>\n",
       "      <td>2</td>\n",
       "      <td></td>\n",
       "      <td>1</td>\n",
       "      <td>2</td>\n",
       "      <td>2</td>\n",
       "      <td>2</td>\n",
       "      <td>2</td>\n",
       "      <td>2</td>\n",
       "      <td>2</td>\n",
       "      <td>2</td>\n",
       "      <td>3</td>\n",
       "      <td>3</td>\n",
       "      <td>3</td>\n",
       "      <td>3</td>\n",
       "      <td>3</td>\n",
       "      <td></td>\n",
       "      <td></td>\n",
       "      <td></td>\n",
       "      <td></td>\n",
       "      <td>1</td>\n",
       "      <td>1</td>\n",
       "      <td>2</td>\n",
       "      <td>1</td>\n",
       "      <td>2</td>\n",
       "      <td>1</td>\n",
       "      <td>2</td>\n",
       "      <td>1</td>\n",
       "      <td>3</td>\n",
       "      <td>3</td>\n",
       "      <td>3</td>\n",
       "      <td>2</td>\n",
       "      <td>2</td>\n",
       "      <td>2</td>\n",
       "      <td>1</td>\n",
       "      <td>2</td>\n",
       "      <td>1</td>\n",
       "      <td>2</td>\n",
       "      <td>3</td>\n",
       "      <td>3</td>\n",
       "      <td>2</td>\n",
       "      <td>3</td>\n",
       "      <td>1</td>\n",
       "      <td>3</td>\n",
       "      <td>3</td>\n",
       "      <td>1</td>\n",
       "      <td>4</td>\n",
       "      <td>1</td>\n",
       "      <td>1</td>\n",
       "      <td>2</td>\n",
       "      <td>1</td>\n",
       "      <td>1</td>\n",
       "      <td>1</td>\n",
       "      <td>1</td>\n",
       "      <td>2</td>\n",
       "      <td>1</td>\n",
       "      <td>3</td>\n",
       "      <td>1</td>\n",
       "      <td>2</td>\n",
       "      <td>1</td>\n",
       "      <td>1</td>\n",
       "      <td>4</td>\n",
       "      <td>3</td>\n",
       "      <td>2</td>\n",
       "      <td>2</td>\n",
       "      <td>2</td>\n",
       "      <td>2</td>\n",
       "      <td>2</td>\n",
       "      <td>1</td>\n",
       "      <td>2</td>\n",
       "      <td>2</td>\n",
       "      <td>1</td>\n",
       "      <td>1</td>\n",
       "      <td>1</td>\n",
       "      <td>3</td>\n",
       "      <td>2</td>\n",
       "      <td>1</td>\n",
       "      <td>1</td>\n",
       "      <td>3</td>\n",
       "      <td>2</td>\n",
       "      <td>1</td>\n",
       "      <td>2</td>\n",
       "      <td>2</td>\n",
       "      <td>3</td>\n",
       "      <td>1</td>\n",
       "      <td>5</td>\n",
       "      <td>4</td>\n",
       "      <td>4</td>\n",
       "      <td>4</td>\n",
       "      <td>3</td>\n",
       "      <td>2</td>\n",
       "      <td>1</td>\n",
       "      <td>2</td>\n",
       "      <td>1</td>\n",
       "      <td>1</td>\n",
       "      <td>3</td>\n",
       "      <td>1</td>\n",
       "      <td>1</td>\n",
       "      <td>1</td>\n",
       "      <td>1</td>\n",
       "      <td>1</td>\n",
       "      <td>1</td>\n",
       "      <td>1</td>\n",
       "      <td>1</td>\n",
       "      <td>1</td>\n",
       "      <td>1</td>\n",
       "      <td>3</td>\n",
       "      <td></td>\n",
       "      <td>1</td>\n",
       "      <td>0</td>\n",
       "    </tr>\n",
       "    <tr>\n",
       "      <th>1</th>\n",
       "      <td>29</td>\n",
       "      <td>8</td>\n",
       "      <td>2018</td>\n",
       "      <td>0.978639</td>\n",
       "      <td>1</td>\n",
       "      <td>4</td>\n",
       "      <td>8</td>\n",
       "      <td>5</td>\n",
       "      <td>4</td>\n",
       "      <td>3</td>\n",
       "      <td>2</td>\n",
       "      <td>0</td>\n",
       "      <td>7</td>\n",
       "      <td>7</td>\n",
       "      <td>7</td>\n",
       "      <td>7</td>\n",
       "      <td>4</td>\n",
       "      <td>5</td>\n",
       "      <td>2</td>\n",
       "      <td>1</td>\n",
       "      <td></td>\n",
       "      <td>2</td>\n",
       "      <td>3</td>\n",
       "      <td>2</td>\n",
       "      <td>3</td>\n",
       "      <td>3</td>\n",
       "      <td>3</td>\n",
       "      <td>2</td>\n",
       "      <td>2</td>\n",
       "      <td>3</td>\n",
       "      <td>3</td>\n",
       "      <td>3</td>\n",
       "      <td>3</td>\n",
       "      <td>3</td>\n",
       "      <td></td>\n",
       "      <td></td>\n",
       "      <td></td>\n",
       "      <td></td>\n",
       "      <td>2</td>\n",
       "      <td>2</td>\n",
       "      <td>3</td>\n",
       "      <td>2</td>\n",
       "      <td>3</td>\n",
       "      <td>2</td>\n",
       "      <td>2</td>\n",
       "      <td>3</td>\n",
       "      <td>4</td>\n",
       "      <td>4</td>\n",
       "      <td>3</td>\n",
       "      <td>3</td>\n",
       "      <td>3</td>\n",
       "      <td>3</td>\n",
       "      <td>2</td>\n",
       "      <td>3</td>\n",
       "      <td>2</td>\n",
       "      <td>2</td>\n",
       "      <td>4</td>\n",
       "      <td>3</td>\n",
       "      <td>2</td>\n",
       "      <td>4</td>\n",
       "      <td>4</td>\n",
       "      <td>4</td>\n",
       "      <td>2</td>\n",
       "      <td>3</td>\n",
       "      <td>4</td>\n",
       "      <td>2</td>\n",
       "      <td>1</td>\n",
       "      <td>3</td>\n",
       "      <td>1</td>\n",
       "      <td>2</td>\n",
       "      <td>2</td>\n",
       "      <td>2</td>\n",
       "      <td>3</td>\n",
       "      <td>2</td>\n",
       "      <td>3</td>\n",
       "      <td>2</td>\n",
       "      <td>2</td>\n",
       "      <td>3</td>\n",
       "      <td>3</td>\n",
       "      <td>4</td>\n",
       "      <td>3</td>\n",
       "      <td>3</td>\n",
       "      <td>3</td>\n",
       "      <td>3</td>\n",
       "      <td>2</td>\n",
       "      <td>2</td>\n",
       "      <td>2</td>\n",
       "      <td>1</td>\n",
       "      <td>3</td>\n",
       "      <td>2</td>\n",
       "      <td>3</td>\n",
       "      <td>2</td>\n",
       "      <td>2</td>\n",
       "      <td>3</td>\n",
       "      <td>3</td>\n",
       "      <td>3</td>\n",
       "      <td>2</td>\n",
       "      <td>2</td>\n",
       "      <td>3</td>\n",
       "      <td>3</td>\n",
       "      <td>3</td>\n",
       "      <td>3</td>\n",
       "      <td>3</td>\n",
       "      <td>5</td>\n",
       "      <td>4</td>\n",
       "      <td>4</td>\n",
       "      <td>4</td>\n",
       "      <td>3</td>\n",
       "      <td>2</td>\n",
       "      <td>4</td>\n",
       "      <td>3</td>\n",
       "      <td>1</td>\n",
       "      <td>2</td>\n",
       "      <td>2</td>\n",
       "      <td>2</td>\n",
       "      <td>2</td>\n",
       "      <td>3</td>\n",
       "      <td>4</td>\n",
       "      <td>3</td>\n",
       "      <td>3</td>\n",
       "      <td>3</td>\n",
       "      <td>2</td>\n",
       "      <td>2</td>\n",
       "      <td>2</td>\n",
       "      <td>3</td>\n",
       "      <td></td>\n",
       "      <td>1</td>\n",
       "      <td>0</td>\n",
       "    </tr>\n",
       "    <tr>\n",
       "      <th>2</th>\n",
       "      <td>28</td>\n",
       "      <td>8</td>\n",
       "      <td>2018</td>\n",
       "      <td>1.083472</td>\n",
       "      <td>1</td>\n",
       "      <td>5</td>\n",
       "      <td>9</td>\n",
       "      <td>5</td>\n",
       "      <td>4</td>\n",
       "      <td>3</td>\n",
       "      <td>2</td>\n",
       "      <td>0</td>\n",
       "      <td>7</td>\n",
       "      <td>7</td>\n",
       "      <td>7</td>\n",
       "      <td>7</td>\n",
       "      <td>2</td>\n",
       "      <td>8</td>\n",
       "      <td>1</td>\n",
       "      <td>2</td>\n",
       "      <td></td>\n",
       "      <td>1</td>\n",
       "      <td>2</td>\n",
       "      <td>2</td>\n",
       "      <td>2</td>\n",
       "      <td>2</td>\n",
       "      <td>2</td>\n",
       "      <td>2</td>\n",
       "      <td>2</td>\n",
       "      <td>3</td>\n",
       "      <td>1</td>\n",
       "      <td>3</td>\n",
       "      <td>2</td>\n",
       "      <td>2</td>\n",
       "      <td>2</td>\n",
       "      <td></td>\n",
       "      <td>2</td>\n",
       "      <td>2</td>\n",
       "      <td>2</td>\n",
       "      <td>2</td>\n",
       "      <td>2</td>\n",
       "      <td>2</td>\n",
       "      <td>2</td>\n",
       "      <td>2</td>\n",
       "      <td>2</td>\n",
       "      <td>2</td>\n",
       "      <td>2</td>\n",
       "      <td>3</td>\n",
       "      <td>2</td>\n",
       "      <td>2</td>\n",
       "      <td>2</td>\n",
       "      <td>2</td>\n",
       "      <td>2</td>\n",
       "      <td>2</td>\n",
       "      <td>2</td>\n",
       "      <td>2</td>\n",
       "      <td>2</td>\n",
       "      <td>2</td>\n",
       "      <td>2</td>\n",
       "      <td>2</td>\n",
       "      <td>2</td>\n",
       "      <td>2</td>\n",
       "      <td>2</td>\n",
       "      <td>2</td>\n",
       "      <td>2</td>\n",
       "      <td>2</td>\n",
       "      <td>2</td>\n",
       "      <td>2</td>\n",
       "      <td>1</td>\n",
       "      <td>1</td>\n",
       "      <td>2</td>\n",
       "      <td>1</td>\n",
       "      <td>2</td>\n",
       "      <td>1</td>\n",
       "      <td>2</td>\n",
       "      <td>2</td>\n",
       "      <td>2</td>\n",
       "      <td>2</td>\n",
       "      <td>2</td>\n",
       "      <td>3</td>\n",
       "      <td>2</td>\n",
       "      <td>2</td>\n",
       "      <td>2</td>\n",
       "      <td>2</td>\n",
       "      <td>2</td>\n",
       "      <td>2</td>\n",
       "      <td>2</td>\n",
       "      <td>2</td>\n",
       "      <td>2</td>\n",
       "      <td>2</td>\n",
       "      <td>2</td>\n",
       "      <td>1</td>\n",
       "      <td>2</td>\n",
       "      <td>1</td>\n",
       "      <td>1</td>\n",
       "      <td>2</td>\n",
       "      <td>2</td>\n",
       "      <td>2</td>\n",
       "      <td>2</td>\n",
       "      <td>2</td>\n",
       "      <td>2</td>\n",
       "      <td>3</td>\n",
       "      <td>2</td>\n",
       "      <td>5</td>\n",
       "      <td>2</td>\n",
       "      <td>3</td>\n",
       "      <td>3</td>\n",
       "      <td>2</td>\n",
       "      <td>3</td>\n",
       "      <td>3</td>\n",
       "      <td>2</td>\n",
       "      <td>2</td>\n",
       "      <td>1</td>\n",
       "      <td>2</td>\n",
       "      <td>1</td>\n",
       "      <td>2</td>\n",
       "      <td>1</td>\n",
       "      <td>2</td>\n",
       "      <td>2</td>\n",
       "      <td>2</td>\n",
       "      <td>2</td>\n",
       "      <td>1</td>\n",
       "      <td>1</td>\n",
       "      <td>2</td>\n",
       "      <td>3</td>\n",
       "      <td></td>\n",
       "      <td>1</td>\n",
       "      <td>0</td>\n",
       "    </tr>\n",
       "    <tr>\n",
       "      <th>3</th>\n",
       "      <td>28</td>\n",
       "      <td>8</td>\n",
       "      <td>2018</td>\n",
       "      <td>0.975472</td>\n",
       "      <td>1</td>\n",
       "      <td>3</td>\n",
       "      <td>1</td>\n",
       "      <td>1</td>\n",
       "      <td>5</td>\n",
       "      <td>2</td>\n",
       "      <td>4</td>\n",
       "      <td>2</td>\n",
       "      <td>1</td>\n",
       "      <td>3</td>\n",
       "      <td>3</td>\n",
       "      <td>1</td>\n",
       "      <td>7</td>\n",
       "      <td>10</td>\n",
       "      <td>2</td>\n",
       "      <td>2</td>\n",
       "      <td></td>\n",
       "      <td>4</td>\n",
       "      <td>2</td>\n",
       "      <td>2</td>\n",
       "      <td>2</td>\n",
       "      <td>2</td>\n",
       "      <td>2</td>\n",
       "      <td>2</td>\n",
       "      <td>2</td>\n",
       "      <td>1</td>\n",
       "      <td>3</td>\n",
       "      <td>3</td>\n",
       "      <td>2</td>\n",
       "      <td>3</td>\n",
       "      <td></td>\n",
       "      <td></td>\n",
       "      <td>2</td>\n",
       "      <td></td>\n",
       "      <td>2</td>\n",
       "      <td>2</td>\n",
       "      <td>2</td>\n",
       "      <td>1</td>\n",
       "      <td>3</td>\n",
       "      <td>2</td>\n",
       "      <td>3</td>\n",
       "      <td>2</td>\n",
       "      <td>4</td>\n",
       "      <td>3</td>\n",
       "      <td>4</td>\n",
       "      <td>3</td>\n",
       "      <td>3</td>\n",
       "      <td>3</td>\n",
       "      <td>2</td>\n",
       "      <td>2</td>\n",
       "      <td>3</td>\n",
       "      <td>2</td>\n",
       "      <td>4</td>\n",
       "      <td>3</td>\n",
       "      <td>2</td>\n",
       "      <td>4</td>\n",
       "      <td>4</td>\n",
       "      <td>3</td>\n",
       "      <td>2</td>\n",
       "      <td>3</td>\n",
       "      <td>3</td>\n",
       "      <td>2</td>\n",
       "      <td>2</td>\n",
       "      <td>4</td>\n",
       "      <td>3</td>\n",
       "      <td>2</td>\n",
       "      <td>3</td>\n",
       "      <td>2</td>\n",
       "      <td>2</td>\n",
       "      <td>2</td>\n",
       "      <td>3</td>\n",
       "      <td>2</td>\n",
       "      <td>2</td>\n",
       "      <td>2</td>\n",
       "      <td>3</td>\n",
       "      <td>3</td>\n",
       "      <td>4</td>\n",
       "      <td>3</td>\n",
       "      <td>3</td>\n",
       "      <td>3</td>\n",
       "      <td>3</td>\n",
       "      <td>2</td>\n",
       "      <td>2</td>\n",
       "      <td>2</td>\n",
       "      <td>4</td>\n",
       "      <td>1</td>\n",
       "      <td>3</td>\n",
       "      <td>1</td>\n",
       "      <td>2</td>\n",
       "      <td>3</td>\n",
       "      <td>3</td>\n",
       "      <td>2</td>\n",
       "      <td>2</td>\n",
       "      <td>3</td>\n",
       "      <td>2</td>\n",
       "      <td>2</td>\n",
       "      <td>3</td>\n",
       "      <td>3</td>\n",
       "      <td>2</td>\n",
       "      <td>1</td>\n",
       "      <td>2</td>\n",
       "      <td>3</td>\n",
       "      <td>3</td>\n",
       "      <td>2</td>\n",
       "      <td>3</td>\n",
       "      <td>1</td>\n",
       "      <td>2</td>\n",
       "      <td>1</td>\n",
       "      <td>1</td>\n",
       "      <td>2</td>\n",
       "      <td>2</td>\n",
       "      <td>2</td>\n",
       "      <td>2</td>\n",
       "      <td>2</td>\n",
       "      <td>3</td>\n",
       "      <td>3</td>\n",
       "      <td>3</td>\n",
       "      <td>3</td>\n",
       "      <td>4</td>\n",
       "      <td>2</td>\n",
       "      <td>3</td>\n",
       "      <td></td>\n",
       "      <td>1</td>\n",
       "      <td>0</td>\n",
       "    </tr>\n",
       "    <tr>\n",
       "      <th>4</th>\n",
       "      <td>28</td>\n",
       "      <td>8</td>\n",
       "      <td>2018</td>\n",
       "      <td>1.117661</td>\n",
       "      <td>2</td>\n",
       "      <td>5</td>\n",
       "      <td>1</td>\n",
       "      <td>1</td>\n",
       "      <td>5</td>\n",
       "      <td>5</td>\n",
       "      <td>1</td>\n",
       "      <td>0</td>\n",
       "      <td>7</td>\n",
       "      <td>7</td>\n",
       "      <td>7</td>\n",
       "      <td>7</td>\n",
       "      <td>3</td>\n",
       "      <td>7</td>\n",
       "      <td>2</td>\n",
       "      <td>2</td>\n",
       "      <td></td>\n",
       "      <td>2</td>\n",
       "      <td>2</td>\n",
       "      <td>2</td>\n",
       "      <td>3</td>\n",
       "      <td>2</td>\n",
       "      <td>1</td>\n",
       "      <td>2</td>\n",
       "      <td>1</td>\n",
       "      <td>3</td>\n",
       "      <td>3</td>\n",
       "      <td>3</td>\n",
       "      <td>2</td>\n",
       "      <td>2</td>\n",
       "      <td></td>\n",
       "      <td></td>\n",
       "      <td>2</td>\n",
       "      <td>2</td>\n",
       "      <td>1</td>\n",
       "      <td>2</td>\n",
       "      <td>2</td>\n",
       "      <td>1</td>\n",
       "      <td>2</td>\n",
       "      <td>2</td>\n",
       "      <td>2</td>\n",
       "      <td>1</td>\n",
       "      <td>3</td>\n",
       "      <td>3</td>\n",
       "      <td>3</td>\n",
       "      <td>3</td>\n",
       "      <td>3</td>\n",
       "      <td>3</td>\n",
       "      <td>2</td>\n",
       "      <td>2</td>\n",
       "      <td>1</td>\n",
       "      <td>2</td>\n",
       "      <td>3</td>\n",
       "      <td>2</td>\n",
       "      <td>2</td>\n",
       "      <td>3</td>\n",
       "      <td>3</td>\n",
       "      <td>3</td>\n",
       "      <td>2</td>\n",
       "      <td>2</td>\n",
       "      <td>2</td>\n",
       "      <td>2</td>\n",
       "      <td>2</td>\n",
       "      <td>3</td>\n",
       "      <td>1</td>\n",
       "      <td>1</td>\n",
       "      <td>1</td>\n",
       "      <td>1</td>\n",
       "      <td>2</td>\n",
       "      <td>1</td>\n",
       "      <td>2</td>\n",
       "      <td>2</td>\n",
       "      <td>2</td>\n",
       "      <td>2</td>\n",
       "      <td>2</td>\n",
       "      <td>2</td>\n",
       "      <td>3</td>\n",
       "      <td>2</td>\n",
       "      <td>2</td>\n",
       "      <td>2</td>\n",
       "      <td>1</td>\n",
       "      <td>2</td>\n",
       "      <td>2</td>\n",
       "      <td>2</td>\n",
       "      <td>3</td>\n",
       "      <td>2</td>\n",
       "      <td>2</td>\n",
       "      <td>2</td>\n",
       "      <td>3</td>\n",
       "      <td>3</td>\n",
       "      <td>2</td>\n",
       "      <td>2</td>\n",
       "      <td>3</td>\n",
       "      <td>3</td>\n",
       "      <td>3</td>\n",
       "      <td>3</td>\n",
       "      <td>2</td>\n",
       "      <td>2</td>\n",
       "      <td>1</td>\n",
       "      <td>5</td>\n",
       "      <td>3</td>\n",
       "      <td>2</td>\n",
       "      <td>2</td>\n",
       "      <td>2</td>\n",
       "      <td>2</td>\n",
       "      <td>3</td>\n",
       "      <td>3</td>\n",
       "      <td>3</td>\n",
       "      <td>1</td>\n",
       "      <td>2</td>\n",
       "      <td>2</td>\n",
       "      <td>1</td>\n",
       "      <td>2</td>\n",
       "      <td>2</td>\n",
       "      <td>2</td>\n",
       "      <td>2</td>\n",
       "      <td>2</td>\n",
       "      <td>2</td>\n",
       "      <td>1</td>\n",
       "      <td>2</td>\n",
       "      <td>3</td>\n",
       "      <td></td>\n",
       "      <td>1</td>\n",
       "      <td>0</td>\n",
       "    </tr>\n",
       "    <tr>\n",
       "      <th>...</th>\n",
       "      <td>...</td>\n",
       "      <td>...</td>\n",
       "      <td>...</td>\n",
       "      <td>...</td>\n",
       "      <td>...</td>\n",
       "      <td>...</td>\n",
       "      <td>...</td>\n",
       "      <td>...</td>\n",
       "      <td>...</td>\n",
       "      <td>...</td>\n",
       "      <td>...</td>\n",
       "      <td>...</td>\n",
       "      <td>...</td>\n",
       "      <td>...</td>\n",
       "      <td>...</td>\n",
       "      <td>...</td>\n",
       "      <td>...</td>\n",
       "      <td>...</td>\n",
       "      <td>...</td>\n",
       "      <td>...</td>\n",
       "      <td>...</td>\n",
       "      <td>...</td>\n",
       "      <td>...</td>\n",
       "      <td>...</td>\n",
       "      <td>...</td>\n",
       "      <td>...</td>\n",
       "      <td>...</td>\n",
       "      <td>...</td>\n",
       "      <td>...</td>\n",
       "      <td>...</td>\n",
       "      <td>...</td>\n",
       "      <td>...</td>\n",
       "      <td>...</td>\n",
       "      <td>...</td>\n",
       "      <td>...</td>\n",
       "      <td>...</td>\n",
       "      <td>...</td>\n",
       "      <td>...</td>\n",
       "      <td>...</td>\n",
       "      <td>...</td>\n",
       "      <td>...</td>\n",
       "      <td>...</td>\n",
       "      <td>...</td>\n",
       "      <td>...</td>\n",
       "      <td>...</td>\n",
       "      <td>...</td>\n",
       "      <td>...</td>\n",
       "      <td>...</td>\n",
       "      <td>...</td>\n",
       "      <td>...</td>\n",
       "      <td>...</td>\n",
       "      <td>...</td>\n",
       "      <td>...</td>\n",
       "      <td>...</td>\n",
       "      <td>...</td>\n",
       "      <td>...</td>\n",
       "      <td>...</td>\n",
       "      <td>...</td>\n",
       "      <td>...</td>\n",
       "      <td>...</td>\n",
       "      <td>...</td>\n",
       "      <td>...</td>\n",
       "      <td>...</td>\n",
       "      <td>...</td>\n",
       "      <td>...</td>\n",
       "      <td>...</td>\n",
       "      <td>...</td>\n",
       "      <td>...</td>\n",
       "      <td>...</td>\n",
       "      <td>...</td>\n",
       "      <td>...</td>\n",
       "      <td>...</td>\n",
       "      <td>...</td>\n",
       "      <td>...</td>\n",
       "      <td>...</td>\n",
       "      <td>...</td>\n",
       "      <td>...</td>\n",
       "      <td>...</td>\n",
       "      <td>...</td>\n",
       "      <td>...</td>\n",
       "      <td>...</td>\n",
       "      <td>...</td>\n",
       "      <td>...</td>\n",
       "      <td>...</td>\n",
       "      <td>...</td>\n",
       "      <td>...</td>\n",
       "      <td>...</td>\n",
       "      <td>...</td>\n",
       "      <td>...</td>\n",
       "      <td>...</td>\n",
       "      <td>...</td>\n",
       "      <td>...</td>\n",
       "      <td>...</td>\n",
       "      <td>...</td>\n",
       "      <td>...</td>\n",
       "      <td>...</td>\n",
       "      <td>...</td>\n",
       "      <td>...</td>\n",
       "      <td>...</td>\n",
       "      <td>...</td>\n",
       "      <td>...</td>\n",
       "      <td>...</td>\n",
       "      <td>...</td>\n",
       "      <td>...</td>\n",
       "      <td>...</td>\n",
       "      <td>...</td>\n",
       "      <td>...</td>\n",
       "      <td>...</td>\n",
       "      <td>...</td>\n",
       "      <td>...</td>\n",
       "      <td>...</td>\n",
       "      <td>...</td>\n",
       "      <td>...</td>\n",
       "      <td>...</td>\n",
       "      <td>...</td>\n",
       "      <td>...</td>\n",
       "      <td>...</td>\n",
       "      <td>...</td>\n",
       "      <td>...</td>\n",
       "      <td>...</td>\n",
       "      <td>...</td>\n",
       "      <td>...</td>\n",
       "      <td>...</td>\n",
       "      <td>...</td>\n",
       "      <td>...</td>\n",
       "      <td>...</td>\n",
       "      <td>...</td>\n",
       "      <td>...</td>\n",
       "    </tr>\n",
       "    <tr>\n",
       "      <th>1241</th>\n",
       "      <td>5</td>\n",
       "      <td>9</td>\n",
       "      <td>2018</td>\n",
       "      <td>0.999840</td>\n",
       "      <td>1</td>\n",
       "      <td>4</td>\n",
       "      <td>2</td>\n",
       "      <td>2</td>\n",
       "      <td>4</td>\n",
       "      <td>1</td>\n",
       "      <td>1</td>\n",
       "      <td>0</td>\n",
       "      <td>4</td>\n",
       "      <td>5</td>\n",
       "      <td>5</td>\n",
       "      <td>4</td>\n",
       "      <td>3</td>\n",
       "      <td>1</td>\n",
       "      <td>1</td>\n",
       "      <td>2</td>\n",
       "      <td></td>\n",
       "      <td>1</td>\n",
       "      <td>1</td>\n",
       "      <td>1</td>\n",
       "      <td>4</td>\n",
       "      <td>1</td>\n",
       "      <td>1</td>\n",
       "      <td>1</td>\n",
       "      <td>1</td>\n",
       "      <td>3</td>\n",
       "      <td>3</td>\n",
       "      <td>3</td>\n",
       "      <td>3</td>\n",
       "      <td>3</td>\n",
       "      <td></td>\n",
       "      <td></td>\n",
       "      <td></td>\n",
       "      <td></td>\n",
       "      <td>1</td>\n",
       "      <td>1</td>\n",
       "      <td>1</td>\n",
       "      <td>1</td>\n",
       "      <td>1</td>\n",
       "      <td>2</td>\n",
       "      <td>2</td>\n",
       "      <td>2</td>\n",
       "      <td>2</td>\n",
       "      <td>4</td>\n",
       "      <td>4</td>\n",
       "      <td>4</td>\n",
       "      <td>4</td>\n",
       "      <td>4</td>\n",
       "      <td>2</td>\n",
       "      <td>3</td>\n",
       "      <td>1</td>\n",
       "      <td>3</td>\n",
       "      <td>4</td>\n",
       "      <td>3</td>\n",
       "      <td>3</td>\n",
       "      <td>4</td>\n",
       "      <td>2</td>\n",
       "      <td>2</td>\n",
       "      <td>3</td>\n",
       "      <td>4</td>\n",
       "      <td>4</td>\n",
       "      <td>4</td>\n",
       "      <td>2</td>\n",
       "      <td>4</td>\n",
       "      <td>3</td>\n",
       "      <td>1</td>\n",
       "      <td>4</td>\n",
       "      <td>1</td>\n",
       "      <td>1</td>\n",
       "      <td>1</td>\n",
       "      <td>4</td>\n",
       "      <td>2</td>\n",
       "      <td>3</td>\n",
       "      <td>4</td>\n",
       "      <td>3</td>\n",
       "      <td>4</td>\n",
       "      <td>4</td>\n",
       "      <td>4</td>\n",
       "      <td>4</td>\n",
       "      <td>4</td>\n",
       "      <td>4</td>\n",
       "      <td>4</td>\n",
       "      <td>1</td>\n",
       "      <td>4</td>\n",
       "      <td>4</td>\n",
       "      <td>4</td>\n",
       "      <td>4</td>\n",
       "      <td>4</td>\n",
       "      <td>4</td>\n",
       "      <td>4</td>\n",
       "      <td>4</td>\n",
       "      <td>4</td>\n",
       "      <td>2</td>\n",
       "      <td>2</td>\n",
       "      <td>2</td>\n",
       "      <td>2</td>\n",
       "      <td>4</td>\n",
       "      <td>4</td>\n",
       "      <td>4</td>\n",
       "      <td>5</td>\n",
       "      <td>4</td>\n",
       "      <td>4</td>\n",
       "      <td>4</td>\n",
       "      <td>4</td>\n",
       "      <td>4</td>\n",
       "      <td>4</td>\n",
       "      <td>4</td>\n",
       "      <td>4</td>\n",
       "      <td>4</td>\n",
       "      <td>4</td>\n",
       "      <td>4</td>\n",
       "      <td>4</td>\n",
       "      <td>4</td>\n",
       "      <td>4</td>\n",
       "      <td>4</td>\n",
       "      <td>4</td>\n",
       "      <td>4</td>\n",
       "      <td>3</td>\n",
       "      <td>4</td>\n",
       "      <td>4</td>\n",
       "      <td>3</td>\n",
       "      <td></td>\n",
       "      <td>1</td>\n",
       "      <td>1</td>\n",
       "    </tr>\n",
       "    <tr>\n",
       "      <th>1242</th>\n",
       "      <td>5</td>\n",
       "      <td>9</td>\n",
       "      <td>2018</td>\n",
       "      <td>0.999840</td>\n",
       "      <td>1</td>\n",
       "      <td>4</td>\n",
       "      <td>9</td>\n",
       "      <td>5</td>\n",
       "      <td>3</td>\n",
       "      <td>6</td>\n",
       "      <td>1</td>\n",
       "      <td>0</td>\n",
       "      <td>7</td>\n",
       "      <td>7</td>\n",
       "      <td>7</td>\n",
       "      <td>7</td>\n",
       "      <td>4</td>\n",
       "      <td>6</td>\n",
       "      <td>1</td>\n",
       "      <td>2</td>\n",
       "      <td></td>\n",
       "      <td>1</td>\n",
       "      <td>1</td>\n",
       "      <td>1</td>\n",
       "      <td>1</td>\n",
       "      <td>1</td>\n",
       "      <td>1</td>\n",
       "      <td>1</td>\n",
       "      <td>1</td>\n",
       "      <td>2</td>\n",
       "      <td>3</td>\n",
       "      <td>3</td>\n",
       "      <td>2</td>\n",
       "      <td>2</td>\n",
       "      <td></td>\n",
       "      <td></td>\n",
       "      <td>2</td>\n",
       "      <td>2</td>\n",
       "      <td>1</td>\n",
       "      <td>1</td>\n",
       "      <td>1</td>\n",
       "      <td>1</td>\n",
       "      <td>2</td>\n",
       "      <td>2</td>\n",
       "      <td>2</td>\n",
       "      <td>1</td>\n",
       "      <td>2</td>\n",
       "      <td>3</td>\n",
       "      <td>3</td>\n",
       "      <td>3</td>\n",
       "      <td>3</td>\n",
       "      <td>3</td>\n",
       "      <td>2</td>\n",
       "      <td>3</td>\n",
       "      <td>2</td>\n",
       "      <td>3</td>\n",
       "      <td>3</td>\n",
       "      <td>2</td>\n",
       "      <td>2</td>\n",
       "      <td>2</td>\n",
       "      <td>2</td>\n",
       "      <td>2</td>\n",
       "      <td>2</td>\n",
       "      <td>2</td>\n",
       "      <td>2</td>\n",
       "      <td>2</td>\n",
       "      <td>2</td>\n",
       "      <td>2</td>\n",
       "      <td>1</td>\n",
       "      <td>1</td>\n",
       "      <td>1</td>\n",
       "      <td>1</td>\n",
       "      <td>1</td>\n",
       "      <td>1</td>\n",
       "      <td>2</td>\n",
       "      <td>1</td>\n",
       "      <td>2</td>\n",
       "      <td>2</td>\n",
       "      <td>2</td>\n",
       "      <td>2</td>\n",
       "      <td>3</td>\n",
       "      <td>3</td>\n",
       "      <td>3</td>\n",
       "      <td>3</td>\n",
       "      <td>2</td>\n",
       "      <td>3</td>\n",
       "      <td>1</td>\n",
       "      <td>2</td>\n",
       "      <td>2</td>\n",
       "      <td>1</td>\n",
       "      <td>2</td>\n",
       "      <td>1</td>\n",
       "      <td>1</td>\n",
       "      <td>3</td>\n",
       "      <td>3</td>\n",
       "      <td>2</td>\n",
       "      <td>2</td>\n",
       "      <td>2</td>\n",
       "      <td>3</td>\n",
       "      <td>3</td>\n",
       "      <td>2</td>\n",
       "      <td>2</td>\n",
       "      <td>3</td>\n",
       "      <td>5</td>\n",
       "      <td>4</td>\n",
       "      <td>4</td>\n",
       "      <td>4</td>\n",
       "      <td>2</td>\n",
       "      <td>2</td>\n",
       "      <td>4</td>\n",
       "      <td>4</td>\n",
       "      <td>4</td>\n",
       "      <td>1</td>\n",
       "      <td>1</td>\n",
       "      <td>1</td>\n",
       "      <td>1</td>\n",
       "      <td>1</td>\n",
       "      <td>2</td>\n",
       "      <td>3</td>\n",
       "      <td>2</td>\n",
       "      <td>1</td>\n",
       "      <td>2</td>\n",
       "      <td>1</td>\n",
       "      <td>1</td>\n",
       "      <td>3</td>\n",
       "      <td></td>\n",
       "      <td>1</td>\n",
       "      <td>1</td>\n",
       "    </tr>\n",
       "    <tr>\n",
       "      <th>1243</th>\n",
       "      <td>5</td>\n",
       "      <td>9</td>\n",
       "      <td>2018</td>\n",
       "      <td>0.999840</td>\n",
       "      <td>1</td>\n",
       "      <td>4</td>\n",
       "      <td>5</td>\n",
       "      <td>2</td>\n",
       "      <td>4</td>\n",
       "      <td>1</td>\n",
       "      <td>1</td>\n",
       "      <td>0</td>\n",
       "      <td>2</td>\n",
       "      <td>4</td>\n",
       "      <td>4</td>\n",
       "      <td>2</td>\n",
       "      <td>4</td>\n",
       "      <td>6</td>\n",
       "      <td>1</td>\n",
       "      <td>2</td>\n",
       "      <td></td>\n",
       "      <td>1</td>\n",
       "      <td>2</td>\n",
       "      <td>2</td>\n",
       "      <td>2</td>\n",
       "      <td>2</td>\n",
       "      <td>2</td>\n",
       "      <td>3</td>\n",
       "      <td>2</td>\n",
       "      <td>3</td>\n",
       "      <td>3</td>\n",
       "      <td>3</td>\n",
       "      <td>2</td>\n",
       "      <td>1</td>\n",
       "      <td></td>\n",
       "      <td></td>\n",
       "      <td>2</td>\n",
       "      <td>2</td>\n",
       "      <td>2</td>\n",
       "      <td>2</td>\n",
       "      <td>2</td>\n",
       "      <td>2</td>\n",
       "      <td>2</td>\n",
       "      <td>2</td>\n",
       "      <td>2</td>\n",
       "      <td>2</td>\n",
       "      <td>2</td>\n",
       "      <td>3</td>\n",
       "      <td>2</td>\n",
       "      <td>2</td>\n",
       "      <td>2</td>\n",
       "      <td>2</td>\n",
       "      <td>2</td>\n",
       "      <td>2</td>\n",
       "      <td>2</td>\n",
       "      <td>2</td>\n",
       "      <td>2</td>\n",
       "      <td>3</td>\n",
       "      <td>2</td>\n",
       "      <td>3</td>\n",
       "      <td>2</td>\n",
       "      <td>3</td>\n",
       "      <td>3</td>\n",
       "      <td>3</td>\n",
       "      <td>3</td>\n",
       "      <td>2</td>\n",
       "      <td>3</td>\n",
       "      <td>2</td>\n",
       "      <td>1</td>\n",
       "      <td>2</td>\n",
       "      <td>2</td>\n",
       "      <td>2</td>\n",
       "      <td>2</td>\n",
       "      <td>2</td>\n",
       "      <td>2</td>\n",
       "      <td>2</td>\n",
       "      <td>2</td>\n",
       "      <td>2</td>\n",
       "      <td>2</td>\n",
       "      <td>3</td>\n",
       "      <td>2</td>\n",
       "      <td>2</td>\n",
       "      <td>2</td>\n",
       "      <td>2</td>\n",
       "      <td>2</td>\n",
       "      <td>2</td>\n",
       "      <td>2</td>\n",
       "      <td>2</td>\n",
       "      <td>3</td>\n",
       "      <td>2</td>\n",
       "      <td>3</td>\n",
       "      <td>2</td>\n",
       "      <td>3</td>\n",
       "      <td>3</td>\n",
       "      <td>3</td>\n",
       "      <td>2</td>\n",
       "      <td>3</td>\n",
       "      <td>3</td>\n",
       "      <td>3</td>\n",
       "      <td>3</td>\n",
       "      <td>2</td>\n",
       "      <td>2</td>\n",
       "      <td>2</td>\n",
       "      <td>5</td>\n",
       "      <td>3</td>\n",
       "      <td>3</td>\n",
       "      <td>3</td>\n",
       "      <td>1</td>\n",
       "      <td>2</td>\n",
       "      <td>2</td>\n",
       "      <td>2</td>\n",
       "      <td>2</td>\n",
       "      <td>2</td>\n",
       "      <td>1</td>\n",
       "      <td>2</td>\n",
       "      <td>2</td>\n",
       "      <td>3</td>\n",
       "      <td>3</td>\n",
       "      <td>2</td>\n",
       "      <td>1</td>\n",
       "      <td>1</td>\n",
       "      <td>3</td>\n",
       "      <td>3</td>\n",
       "      <td>1</td>\n",
       "      <td>2</td>\n",
       "      <td>1</td>\n",
       "      <td>1</td>\n",
       "      <td>1</td>\n",
       "    </tr>\n",
       "    <tr>\n",
       "      <th>1244</th>\n",
       "      <td>5</td>\n",
       "      <td>9</td>\n",
       "      <td>2018</td>\n",
       "      <td>0.999840</td>\n",
       "      <td>2</td>\n",
       "      <td>4</td>\n",
       "      <td>2</td>\n",
       "      <td>2</td>\n",
       "      <td>1</td>\n",
       "      <td>1</td>\n",
       "      <td>1</td>\n",
       "      <td>0</td>\n",
       "      <td>1</td>\n",
       "      <td>5</td>\n",
       "      <td>5</td>\n",
       "      <td>1</td>\n",
       "      <td>4</td>\n",
       "      <td>7</td>\n",
       "      <td>1</td>\n",
       "      <td>2</td>\n",
       "      <td></td>\n",
       "      <td>7</td>\n",
       "      <td>2</td>\n",
       "      <td>2</td>\n",
       "      <td>2</td>\n",
       "      <td>2</td>\n",
       "      <td>2</td>\n",
       "      <td>2</td>\n",
       "      <td>2</td>\n",
       "      <td>2</td>\n",
       "      <td>3</td>\n",
       "      <td>3</td>\n",
       "      <td>2</td>\n",
       "      <td>3</td>\n",
       "      <td></td>\n",
       "      <td></td>\n",
       "      <td>2</td>\n",
       "      <td></td>\n",
       "      <td>1</td>\n",
       "      <td>1</td>\n",
       "      <td>1</td>\n",
       "      <td>2</td>\n",
       "      <td>3</td>\n",
       "      <td>1</td>\n",
       "      <td>2</td>\n",
       "      <td>2</td>\n",
       "      <td>3</td>\n",
       "      <td>3</td>\n",
       "      <td>4</td>\n",
       "      <td>3</td>\n",
       "      <td>3</td>\n",
       "      <td>3</td>\n",
       "      <td>2</td>\n",
       "      <td>3</td>\n",
       "      <td>2</td>\n",
       "      <td>2</td>\n",
       "      <td>3</td>\n",
       "      <td>3</td>\n",
       "      <td>2</td>\n",
       "      <td>2</td>\n",
       "      <td>3</td>\n",
       "      <td>2</td>\n",
       "      <td>2</td>\n",
       "      <td>2</td>\n",
       "      <td>3</td>\n",
       "      <td>2</td>\n",
       "      <td>3</td>\n",
       "      <td>3</td>\n",
       "      <td>3</td>\n",
       "      <td>1</td>\n",
       "      <td>2</td>\n",
       "      <td>1</td>\n",
       "      <td>1</td>\n",
       "      <td>2</td>\n",
       "      <td>3</td>\n",
       "      <td>2</td>\n",
       "      <td>2</td>\n",
       "      <td>2</td>\n",
       "      <td>3</td>\n",
       "      <td>3</td>\n",
       "      <td>4</td>\n",
       "      <td>3</td>\n",
       "      <td>3</td>\n",
       "      <td>3</td>\n",
       "      <td>2</td>\n",
       "      <td>3</td>\n",
       "      <td>2</td>\n",
       "      <td>2</td>\n",
       "      <td>3</td>\n",
       "      <td>2</td>\n",
       "      <td>3</td>\n",
       "      <td>2</td>\n",
       "      <td>2</td>\n",
       "      <td>4</td>\n",
       "      <td>2</td>\n",
       "      <td>2</td>\n",
       "      <td>3</td>\n",
       "      <td>3</td>\n",
       "      <td>3</td>\n",
       "      <td>3</td>\n",
       "      <td>2</td>\n",
       "      <td>3</td>\n",
       "      <td>2</td>\n",
       "      <td>3</td>\n",
       "      <td>3</td>\n",
       "      <td>3</td>\n",
       "      <td>3</td>\n",
       "      <td>1</td>\n",
       "      <td>4</td>\n",
       "      <td>1</td>\n",
       "      <td>2</td>\n",
       "      <td>2</td>\n",
       "      <td>1</td>\n",
       "      <td>2</td>\n",
       "      <td>1</td>\n",
       "      <td>1</td>\n",
       "      <td>1</td>\n",
       "      <td>2</td>\n",
       "      <td>2</td>\n",
       "      <td>2</td>\n",
       "      <td>2</td>\n",
       "      <td>1</td>\n",
       "      <td>1</td>\n",
       "      <td>1</td>\n",
       "      <td>3</td>\n",
       "      <td></td>\n",
       "      <td>1</td>\n",
       "      <td>1</td>\n",
       "    </tr>\n",
       "    <tr>\n",
       "      <th>1245</th>\n",
       "      <td>5</td>\n",
       "      <td>9</td>\n",
       "      <td>2018</td>\n",
       "      <td>0.999840</td>\n",
       "      <td>2</td>\n",
       "      <td>5</td>\n",
       "      <td>1</td>\n",
       "      <td>1</td>\n",
       "      <td>5</td>\n",
       "      <td>3</td>\n",
       "      <td>3</td>\n",
       "      <td>0</td>\n",
       "      <td>7</td>\n",
       "      <td>7</td>\n",
       "      <td>7</td>\n",
       "      <td>7</td>\n",
       "      <td>4</td>\n",
       "      <td>11</td>\n",
       "      <td>1</td>\n",
       "      <td>2</td>\n",
       "      <td></td>\n",
       "      <td>1</td>\n",
       "      <td>2</td>\n",
       "      <td>2</td>\n",
       "      <td>2</td>\n",
       "      <td>2</td>\n",
       "      <td>2</td>\n",
       "      <td>2</td>\n",
       "      <td>3</td>\n",
       "      <td>3</td>\n",
       "      <td>3</td>\n",
       "      <td>3</td>\n",
       "      <td>3</td>\n",
       "      <td>3</td>\n",
       "      <td></td>\n",
       "      <td></td>\n",
       "      <td></td>\n",
       "      <td></td>\n",
       "      <td>1</td>\n",
       "      <td>2</td>\n",
       "      <td>2</td>\n",
       "      <td>2</td>\n",
       "      <td>3</td>\n",
       "      <td>2</td>\n",
       "      <td>3</td>\n",
       "      <td>2</td>\n",
       "      <td>4</td>\n",
       "      <td>4</td>\n",
       "      <td>4</td>\n",
       "      <td>4</td>\n",
       "      <td>4</td>\n",
       "      <td>4</td>\n",
       "      <td>2</td>\n",
       "      <td>3</td>\n",
       "      <td>2</td>\n",
       "      <td>3</td>\n",
       "      <td>3</td>\n",
       "      <td>3</td>\n",
       "      <td>2</td>\n",
       "      <td>2</td>\n",
       "      <td>3</td>\n",
       "      <td>3</td>\n",
       "      <td>3</td>\n",
       "      <td>2</td>\n",
       "      <td>3</td>\n",
       "      <td>2</td>\n",
       "      <td>4</td>\n",
       "      <td>2</td>\n",
       "      <td>3</td>\n",
       "      <td>2</td>\n",
       "      <td>2</td>\n",
       "      <td>2</td>\n",
       "      <td>2</td>\n",
       "      <td>2</td>\n",
       "      <td>4</td>\n",
       "      <td>2</td>\n",
       "      <td>3</td>\n",
       "      <td>3</td>\n",
       "      <td>4</td>\n",
       "      <td>4</td>\n",
       "      <td>4</td>\n",
       "      <td>4</td>\n",
       "      <td>4</td>\n",
       "      <td>4</td>\n",
       "      <td>2</td>\n",
       "      <td>4</td>\n",
       "      <td>2</td>\n",
       "      <td>4</td>\n",
       "      <td>3</td>\n",
       "      <td>2</td>\n",
       "      <td>4</td>\n",
       "      <td>2</td>\n",
       "      <td>3</td>\n",
       "      <td>3</td>\n",
       "      <td>3</td>\n",
       "      <td>2</td>\n",
       "      <td>3</td>\n",
       "      <td>3</td>\n",
       "      <td>2</td>\n",
       "      <td>2</td>\n",
       "      <td>1</td>\n",
       "      <td>2</td>\n",
       "      <td>1</td>\n",
       "      <td>5</td>\n",
       "      <td>4</td>\n",
       "      <td>4</td>\n",
       "      <td>4</td>\n",
       "      <td>4</td>\n",
       "      <td>4</td>\n",
       "      <td>4</td>\n",
       "      <td>3</td>\n",
       "      <td>2</td>\n",
       "      <td>1</td>\n",
       "      <td>2</td>\n",
       "      <td>1</td>\n",
       "      <td>1</td>\n",
       "      <td>1</td>\n",
       "      <td>1</td>\n",
       "      <td>2</td>\n",
       "      <td>1</td>\n",
       "      <td>1</td>\n",
       "      <td>1</td>\n",
       "      <td>1</td>\n",
       "      <td>1</td>\n",
       "      <td>3</td>\n",
       "      <td></td>\n",
       "      <td>1</td>\n",
       "      <td>1</td>\n",
       "    </tr>\n",
       "  </tbody>\n",
       "</table>\n",
       "<p>1246 rows × 128 columns</p>\n",
       "</div>"
      ],
      "text/plain": [
       "      CURRENTDAY  CURRENTM  CURRENTY       PSD  GENDER  AGER  REG9  REG5  \\\n",
       "0             28         8      2018  0.915588       1     5     4     3   \n",
       "1             29         8      2018  0.978639       1     4     8     5   \n",
       "2             28         8      2018  1.083472       1     5     9     5   \n",
       "3             28         8      2018  0.975472       1     3     1     1   \n",
       "4             28         8      2018  1.117661       2     5     1     1   \n",
       "...          ...       ...       ...       ...     ...   ...   ...   ...   \n",
       "1241           5         9      2018  0.999840       1     4     2     2   \n",
       "1242           5         9      2018  0.999840       1     4     9     5   \n",
       "1243           5         9      2018  0.999840       1     4     5     2   \n",
       "1244           5         9      2018  0.999840       2     4     2     2   \n",
       "1245           5         9      2018  0.999840       2     5     1     1   \n",
       "\n",
       "      AGGLO  MARL  HHSIZE  KIDS02  EMP01  PCSC  PCSI  FR02EMPHI  EDU  INC  \\\n",
       "0         3     3       2       0      7     5     7          1    3   10   \n",
       "1         4     3       2       0      7     7     7          7    4    5   \n",
       "2         4     3       2       0      7     7     7          7    2    8   \n",
       "3         5     2       4       2      1     3     3          1    7   10   \n",
       "4         5     5       1       0      7     7     7          7    3    7   \n",
       "...     ...   ...     ...     ...    ...   ...   ...        ...  ...  ...   \n",
       "1241      4     1       1       0      4     5     5          4    3    1   \n",
       "1242      3     6       1       0      7     7     7          7    4    6   \n",
       "1243      4     1       1       0      2     4     4          2    4    6   \n",
       "1244      1     1       1       0      1     5     5          1    4    7   \n",
       "1245      5     3       3       0      7     7     7          7    4   11   \n",
       "\n",
       "      RS1_0  RS1_1 RS2A RS2B  Q1  Q2  Q3_0  Q3_1  Q3_2  Q3_3  Q3_4  Q3_5  \\\n",
       "0         2      2         1   2   2     2     2     2     2     2     3   \n",
       "1         2      1         2   3   2     3     3     3     2     2     3   \n",
       "2         1      2         1   2   2     2     2     2     2     2     3   \n",
       "3         2      2         4   2   2     2     2     2     2     2     1   \n",
       "4         2      2         2   2   2     3     2     1     2     1     3   \n",
       "...     ...    ...  ...  ...  ..  ..   ...   ...   ...   ...   ...   ...   \n",
       "1241      1      2         1   1   1     4     1     1     1     1     3   \n",
       "1242      1      2         1   1   1     1     1     1     1     1     2   \n",
       "1243      1      2         1   2   2     2     2     2     3     2     3   \n",
       "1244      1      2         7   2   2     2     2     2     2     2     2   \n",
       "1245      1      2         1   2   2     2     2     2     2     3     3   \n",
       "\n",
       "      Q4_0  Q4_1  Q4_2  Q4_3 Q5_0 Q5_1 Q5_2 Q5_3  Q9_0  Q9_1  Q9_2  Q9_3  \\\n",
       "0        3     3     3     3                         1     1     2     1   \n",
       "1        3     3     3     3                         2     2     3     2   \n",
       "2        1     3     2     2    2         2    2     2     2     2     2   \n",
       "3        3     3     2     3              2          2     2     2     1   \n",
       "4        3     3     2     2              2    2     1     2     2     1   \n",
       "...    ...   ...   ...   ...  ...  ...  ...  ...   ...   ...   ...   ...   \n",
       "1241     3     3     3     3                         1     1     1     1   \n",
       "1242     3     3     2     2              2    2     1     1     1     1   \n",
       "1243     3     3     2     1              2    2     2     2     2     2   \n",
       "1244     3     3     2     3              2          1     1     1     2   \n",
       "1245     3     3     3     3                         1     2     2     2   \n",
       "\n",
       "      Q9_4  Q9_5  Q9_6  Q9_7  Q9_8  Q9_9  Q9_10  Q9_11  Q9_12  Q9_13  Q9_14  \\\n",
       "0        2     1     2     1     3     3      3      2      2      2      1   \n",
       "1        3     2     2     3     4     4      3      3      3      3      2   \n",
       "2        2     2     2     2     2     3      2      2      2      2      2   \n",
       "3        3     2     3     2     4     3      4      3      3      3      2   \n",
       "4        2     2     2     1     3     3      3      3      3      3      2   \n",
       "...    ...   ...   ...   ...   ...   ...    ...    ...    ...    ...    ...   \n",
       "1241     1     2     2     2     2     4      4      4      4      4      2   \n",
       "1242     2     2     2     1     2     3      3      3      3      3      2   \n",
       "1243     2     2     2     2     2     3      2      2      2      2      2   \n",
       "1244     3     1     2     2     3     3      4      3      3      3      2   \n",
       "1245     3     2     3     2     4     4      4      4      4      4      2   \n",
       "\n",
       "      Q9_15  Q9_16  Q9_17  Q11_0  Q11_1  Q11_2  Q11_3  Q11_4  Q11_5  Q11_6  \\\n",
       "0         2      1      2      3      3      2      3      1      3      3   \n",
       "1         3      2      2      4      3      2      4      4      4      2   \n",
       "2         2      2      2      2      2      2      2      2      2      2   \n",
       "3         2      3      2      4      3      2      4      4      3      2   \n",
       "4         2      1      2      3      2      2      3      3      3      2   \n",
       "...     ...    ...    ...    ...    ...    ...    ...    ...    ...    ...   \n",
       "1241      3      1      3      4      3      3      4      2      2      3   \n",
       "1242      3      2      3      3      2      2      2      2      2      2   \n",
       "1243      2      2      2      2      3      2      3      2      3      3   \n",
       "1244      3      2      2      3      3      2      2      3      2      2   \n",
       "1245      3      2      3      3      3      2      2      3      3      3   \n",
       "\n",
       "      Q11_7  Q11_8  Q11_9  Q11_10  Q11_11  Q6  Q10_0  Q10_1  Q10_2  Q10_3  \\\n",
       "0         1      4      1       1       2   1      1      1      1      2   \n",
       "1         3      4      2       1       3   1      2      2      2      3   \n",
       "2         2      2      2       2       2   1      1      2      1      2   \n",
       "3         3      3      2       2       4   3      2      3      2      2   \n",
       "4         2      2      2       2       3   1      1      1      1      2   \n",
       "...     ...    ...    ...     ...     ...  ..    ...    ...    ...    ...   \n",
       "1241      4      4      4       2       4   3      1      4      1      1   \n",
       "1242      2      2      2       2       2   1      1      1      1      1   \n",
       "1243      3      3      2       3       2   1      2      2      2      2   \n",
       "1244      2      3      2       3       3   3      1      2      1      1   \n",
       "1245      2      3      2       4       2   3      2      2      2      2   \n",
       "\n",
       "      Q10_4  Q10_5  Q10_6  Q10_7  Q10_8  Q10_9  Q10_10  Q10_11  Q10_12  \\\n",
       "0         1      3      1      2      1      1       4       3       2   \n",
       "1         2      3      2      2      3      3       4       3       3   \n",
       "2         1      2      2      2      2      2       3       2       2   \n",
       "3         2      3      2      2      2      3       3       4       3   \n",
       "4         1      2      2      2      2      2       2       3       2   \n",
       "...     ...    ...    ...    ...    ...    ...     ...     ...     ...   \n",
       "1241      1      4      2      3      4      3       4       4       4   \n",
       "1242      1      2      1      2      2      2       2       3       3   \n",
       "1243      2      2      2      2      2      2       3       2       2   \n",
       "1244      2      3      2      2      2      3       3       4       3   \n",
       "1245      2      4      2      3      3      4       4       4       4   \n",
       "\n",
       "      Q10_13  Q10_14  Q10_15  Q10_16  Q10_17  Q10_18  Q13  Q14_0  Q14_1  \\\n",
       "0          2       2       2       2       1       2    2      1      1   \n",
       "1          3       3       2       2       2       1    3      2      3   \n",
       "2          2       2       2       2       2       2    2      2      2   \n",
       "3          3       3       3       2       2       2    4      1      3   \n",
       "4          2       2       1       2       2       2    3      2      2   \n",
       "...      ...     ...     ...     ...     ...     ...  ...    ...    ...   \n",
       "1241       4       4       4       4       1       4    4      4      4   \n",
       "1242       3       3       2       3       1       2    2      1      2   \n",
       "1243       2       2       2       2       2       2    3      2      3   \n",
       "1244       3       3       2       3       2       2    3      2      3   \n",
       "1245       4       4       2       4       2       4    3      2      4   \n",
       "\n",
       "      Q14_2  Q14_3  Q14_4  Q14_5  Q14_6  Q16_0  Q16_1  Q17_0  Q17_1  Q18_0  \\\n",
       "0         1      3      2      1      1      3      2      1      2      2   \n",
       "1         2      2      3      3      3      2      2      3      3      3   \n",
       "2         1      2      1      1      2      2      2      2      2      2   \n",
       "3         1      2      3      3      2      2      3      2      2      3   \n",
       "4         2      3      3      2      2      3      3      3      3      2   \n",
       "...     ...    ...    ...    ...    ...    ...    ...    ...    ...    ...   \n",
       "1241      4      4      4      4      4      2      2      2      2      4   \n",
       "1242      1      1      3      3      2      2      2      3      3      2   \n",
       "1243      2      3      3      3      2      3      3      3      3      2   \n",
       "1244      2      2      4      2      2      3      3      3      3      2   \n",
       "1245      2      3      3      3      2      3      3      2      2      1   \n",
       "\n",
       "      Q18_1  Q18_2  Q19  Q20_0  Q20_1  Q20_2  Q20_3  Q20_4  Q20_5  Q20_6  Q22  \\\n",
       "0         3      1    5      4      4      4      3      2      1      2    1   \n",
       "1         3      3    5      4      4      4      3      2      4      3    1   \n",
       "2         3      2    5      2      3      3      2      3      3      2    2   \n",
       "3         3      2    1      2      3      3      2      3      1      2    1   \n",
       "4         2      1    5      3      2      2      2      2      3      3    3   \n",
       "...     ...    ...  ...    ...    ...    ...    ...    ...    ...    ...  ...   \n",
       "1241      4      4    5      4      4      4      4      4      4      4    4   \n",
       "1242      2      3    5      4      4      4      2      2      4      4    4   \n",
       "1243      2      2    5      3      3      3      1      2      2      2    2   \n",
       "1244      3      2    3      3      3      3      1      4      1      2    2   \n",
       "1245      2      1    5      4      4      4      4      4      4      3    2   \n",
       "\n",
       "      Q23_0  Q23_1  Q23_2  Q23_3  Q23_4  Q23_5  Q23_6  Q23_7  Q23_8  Q23_9  \\\n",
       "0         1      3      1      1      1      1      1      1      1      1   \n",
       "1         2      2      2      2      3      4      3      3      3      2   \n",
       "2         1      2      1      2      1      2      2      2      2      1   \n",
       "3         1      2      2      2      2      2      3      3      3      3   \n",
       "4         1      2      2      1      2      2      2      2      2      2   \n",
       "...     ...    ...    ...    ...    ...    ...    ...    ...    ...    ...   \n",
       "1241      4      4      4      4      4      4      4      4      4      3   \n",
       "1242      1      1      1      1      1      2      3      2      1      2   \n",
       "1243      2      1      2      2      3      3      2      1      1      3   \n",
       "1244      1      2      1      1      1      2      2      2      2      1   \n",
       "1245      1      2      1      1      1      1      2      1      1      1   \n",
       "\n",
       "      Q23_10  Q23_11  Q29 Q30  Q0  QSAMPLE  \n",
       "0          1       1    3       1        0  \n",
       "1          2       2    3       1        0  \n",
       "2          1       2    3       1        0  \n",
       "3          4       2    3       1        0  \n",
       "4          1       2    3       1        0  \n",
       "...      ...     ...  ...  ..  ..      ...  \n",
       "1241       4       4    3       1        1  \n",
       "1242       1       1    3       1        1  \n",
       "1243       3       1    2   1   1        1  \n",
       "1244       1       1    3       1        1  \n",
       "1245       1       1    3       1        1  \n",
       "\n",
       "[1246 rows x 128 columns]"
      ]
     },
     "execution_count": 4,
     "metadata": {},
     "output_type": "execute_result"
    }
   ],
   "source": [
    "data"
   ]
  },
  {
   "cell_type": "code",
   "execution_count": 206,
   "metadata": {},
   "outputs": [],
   "source": [
    "list_indeps = ['GENDER', 'AGER', 'REG9', 'AGGLO', 'HHSIZE', 'PCSI', 'PCSC', 'FR02EMPHI', 'EMP01', 'MARL', 'EDU'\n",
    "              , 'INC', 'RS1_0', 'RS1_1', 'RS2A','RS2B', 'Q1', 'Q2', 'Q3_0', 'Q3_1', 'Q3_2', 'Q3_3', 'Q3_4', 'Q3_5'\n",
    "              , 'Q4_0', 'Q4_1', 'Q4_2', 'Q4_3', 'Q5_0', 'Q5_1', 'Q5_2', 'Q5_3', 'Q9_0', 'Q9_1', 'Q9_2', 'Q9_3', 'Q9_4'\n",
    "              , 'Q9_5', 'Q9_6', 'Q9_7', 'Q9_8', 'Q9_9', 'Q9_10', 'Q9_11', 'Q9_12', 'Q9_13', 'Q9_14', 'Q9_15', 'Q9_16', 'Q9_17'\n",
    "              , 'Q11_4', 'Q6', 'Q10_0', 'Q10_1', 'Q10_2', 'Q10_3', 'Q10_4', 'Q10_5', 'Q10_6', 'Q10_7', 'Q10_8', 'Q10_9'\n",
    "              , 'Q10_10', 'Q10_11', 'Q10_12', 'Q10_13', 'Q10_14', 'Q10_15', 'Q10_16', 'Q10_17', 'Q10_18', 'Q13', 'Q14_0'\n",
    "              , 'Q14_1', 'Q14_2', 'Q14_3', 'Q14_4', 'Q14_5', 'Q14_6', 'Q16_0', 'Q16_1', 'Q18_0', 'Q18_1', 'Q18_2'\n",
    "              , 'Q20_0', 'Q20_1', 'Q20_2', 'Q20_3', 'Q20_4', 'Q20_5', 'Q20_6', 'Q22', 'Q23_0', 'Q23_1', 'Q23_2', 'Q23_3', 'Q23_4'\n",
    "              , 'Q23_5', 'Q23_6', 'Q23_7', 'Q23_8', 'Q23_9', 'Q23_10', 'Q23_11', 'Q29', 'Q30']\n",
    "\n",
    "questions_variables = {'GENDER' : \"Sexe\", 'AGER' : \"Groupe d'ages\", 'REG9' : \"Région\", 'AGGLO' : \"Agglomération\", 'HHSIZE' : \"Taille du foyer\"\n",
    "                      , 'PCSI' : \"CSP de l’individu\", 'PCSC' : \"PCS de la personne ayant les revenus les plus élevés\", 'FR02EMPHI' : \"Actuellement, quelle est la situation professionnelle de la personne ayant les revenus les plus élevés ?\"\n",
    "                      , 'EMP01' : \"Quelle est votre situation professionnelle actuelle ?\", 'MARL' : \"Situation maritale\", 'EDU' : \"Niveau de scolarité le plus élevé.\"\n",
    "                      , 'INC' : \"Revenu annuel net du foyer\", 'RS1_0' : \"Vous-même ou l’un de vos proches, souffre-t-il d’une ou plusieurs Affection(s) de Longue Durée (ALD) (Moi-même) ?\"\n",
    "                      , 'RS1_1' : \"Vous-même ou l’un de vos proches, souffre-t-il d’une ou plusieurs Affection(s) de Longue Durée (ALD) (Un de mes proches) ?\"\n",
    "                      , 'RS2A' : \"A quelle fréquence prenez-vous des médicaments, qu’ils soient avec ou sans ordonnance ? (sans prendre en compte la pilule contraceptive)\"\n",
    "                      , 'RS2B' : \"A quelle fréquence prenez-vous des médicaments, qu’ils soient avec ou sans ordonnance ?\"\n",
    "                      , 'Q1' : \"Faites-vous tout à fait confiance, plutôt confiance, plutôt pas confiance ou pas du tout confiance aux médicaments ?\"\n",
    "                      , 'Q2' : \"Et faites-vous tout à fait confiance, plutôt confiance, plutôt pas confiance ou pas du tout confiance aux médicaments que vous prenez ?\"\n",
    "                      , 'Q3_0' : \"Pour chacun des types de médicaments ou traitements suivants, lui faites-vous tout à fait confiance, plutôt confiance, plutôt pas confiance ou pas du tout confiance ? Les médicaments sur / sans ordonnance\"\n",
    "                      , 'Q3_1' : \"Pour chacun des types de médicaments ou traitements suivants, lui faites-vous tout à fait confiance, plutôt confiance, plutôt pas confiance ou pas du tout confiance ? Les médicaments remboursés / non remboursés\"\n",
    "                      , 'Q3_2' : \"Pour chacun des types de médicaments ou traitements suivants, lui faites-vous tout à fait confiance, plutôt confiance, plutôt pas confiance ou pas du tout confiance ? Les médicaments de marque\"\n",
    "                      , 'Q3_3' : \"Pour chacun des types de médicaments ou traitements suivants, lui faites-vous tout à fait confiance, plutôt confiance, plutôt pas confiance ou pas du tout confiance ? Les médicaments génériques\"\n",
    "                      , 'Q3_4' : \"Pour chacun des types de médicaments ou traitements suivants, lui faites-vous tout à fait confiance, plutôt confiance, plutôt pas confiance ou pas du tout confiance ? Les vaccins\"\n",
    "                      , 'Q3_5' : \"Pour chacun des types de médicaments ou traitements suivants, lui faites-vous tout à fait confiance, plutôt confiance, plutôt pas confiance ou pas du tout confiance ? L’homéopathie\"\n",
    "                      , 'Q4_0' : \"Avez-vous déjà entendu parler des médicaments et traitements suivants ? Les médicaments biologiques\"\n",
    "                      , 'Q4_1' : \"Avez-vous déjà entendu parler des médicaments et traitements suivants ? Les médicaments biosimilaires\"\n",
    "                      , 'Q4_2' : \"Avez-vous déjà entendu parler des médicaments et traitements suivants ? Les médicaments de thérapie génique\"\n",
    "                      , 'Q4_3' : \"Avez-vous déjà entendu parler des médicaments et traitements suivants ? Les médicaments d'immunothérapie\"\n",
    "                      , 'Q5_0' : \"Et globalement, diriez-vous que vous faîtes confiance aux médicaments et traitements suivants ? Les médicaments biologiques\"\n",
    "                      , 'Q5_1' : \"Et globalement, diriez-vous que vous faîtes confiance aux médicaments et traitements suivants ? Les médicaments biosimilaires\"\n",
    "                      , 'Q5_2' : \"Et globalement, diriez-vous que vous faîtes confiance aux médicaments et traitements suivants ? Les médicaments de thérapie génique\"\n",
    "                      , 'Q5_3' : \"Et globalement, diriez-vous que vous faîtes confiance aux médicaments et traitements suivants ? Les médicaments d'immunothérapie\"\n",
    "                      , 'Q9_0' : \"En matière d’information sur les médicaments, diriez-vous que vous faites personnellement tout à fait confiance, plutôt confiance, plutôt pas confiance ou pas du tout confiance : A votre médecin traitant\"\n",
    "                      , 'Q9_1' : \"En matière d’information sur les médicaments, diriez-vous que vous faites personnellement tout à fait confiance, plutôt confiance, plutôt pas confiance ou pas du tout confiance : Aux médecins spécialistes\"\n",
    "                      , 'Q9_2' : \"En matière d’information sur les médicaments, diriez-vous que vous faites personnellement tout à fait confiance, plutôt confiance, plutôt pas confiance ou pas du tout confiance : Aux pharmaciens\"\n",
    "                      , 'Q9_3' : \"En matière d’information sur les médicaments, diriez-vous que vous faites personnellement tout à fait confiance, plutôt confiance, plutôt pas confiance ou pas du tout confiance : Aux infirmières\"\n",
    "                      , 'Q9_4' : \"En matière d’information sur les médicaments, diriez-vous que vous faites personnellement tout à fait confiance, plutôt confiance, plutôt pas confiance ou pas du tout confiance : Aux autorités de santé/Aux pouvoirs publics\"\n",
    "                      , 'Q9_5' : \"En matière d’information sur les médicaments, diriez-vous que vous faites personnellement tout à fait confiance, plutôt confiance, plutôt pas confiance ou pas du tout confiance : Aux chercheurs\"\n",
    "                      , 'Q9_6' : \"En matière d’information sur les médicaments, diriez-vous que vous faites personnellement tout à fait confiance, plutôt confiance, plutôt pas confiance ou pas du tout confiance : Aux associations de patients\"\n",
    "                      , 'Q9_7' : \"En matière d’information sur les médicaments, diriez-vous que vous faites personnellement tout à fait confiance, plutôt confiance, plutôt pas confiance ou pas du tout confiance : Aux notices des médicaments\"\n",
    "                      , 'Q9_8' : \"En matière d’information sur les médicaments, diriez-vous que vous faites personnellement tout à fait confiance, plutôt confiance, plutôt pas confiance ou pas du tout confiance : Aux entreprises du médicament\"\n",
    "                      , 'Q9_9' : \"En matière d’information sur les médicaments, diriez-vous que vous faites personnellement tout à fait confiance, plutôt confiance, plutôt pas confiance ou pas du tout confiance : Aux responsables politiques\"\n",
    "                      , 'Q9_10' : \"En matière d’information sur les médicaments, diriez-vous que vous faites personnellement tout à fait confiance, plutôt confiance, plutôt pas confiance ou pas du tout confiance : A internet\"\n",
    "                      , 'Q9_11' : \"En matière d’information sur les médicaments, diriez-vous que vous faites personnellement tout à fait confiance, plutôt confiance, plutôt pas confiance ou pas du tout confiance : A la presse écrite\"\n",
    "                      , 'Q9_12' : \"En matière d’information sur les médicaments, diriez-vous que vous faites personnellement tout à fait confiance, plutôt confiance, plutôt pas confiance ou pas du tout confiance : A la télévision\"\n",
    "                      , 'Q9_13' : \"En matière d’information sur les médicaments, diriez-vous que vous faites personnellement tout à fait confiance, plutôt confiance, plutôt pas confiance ou pas du tout confiance : A la radio\"\n",
    "                      , 'Q9_14' : \"En matière d’information sur les médicaments, diriez-vous que vous faites personnellement tout à fait confiance, plutôt confiance, plutôt pas confiance ou pas du tout confiance : A votre entourage\"\n",
    "                      , 'Q9_15' : \"En matière d’information sur les médicaments, diriez-vous que vous faites personnellement tout à fait confiance, plutôt confiance, plutôt pas confiance ou pas du tout confiance : Aux livres publiés sur les médicaments\"\n",
    "                      , 'Q9_16' : \"En matière d’information sur les médicaments, diriez-vous que vous faites personnellement tout à fait confiance, plutôt confiance, plutôt pas confiance ou pas du tout confiance : Aux médecins qui exercent à l'hôpital\"\n",
    "                      , 'Q9_17' : \"En matière d’information sur les médicaments, diriez-vous que vous faites personnellement tout à fait confiance, plutôt confiance, plutôt pas confiance ou pas du tout confiance : Aux lanceurs d'alerte de l'opinion publique\"\n",
    "                      , 'Q11_4' : \"Diriez-vous que vous avez tout à fait, plutôt, plutôt pas ou pas du tout confiance dans les entreprises du secteur : Du médicament\"\n",
    "                      , 'Q6' : \"Aujourd’hui concernant les vaccins en général, vous diriez qu’ils présentent pour la santé...\"\n",
    "                      , 'Q10_0' : \"En matière d’information sur les vaccins, diriez-vous que vous faites personnellement tout à fait confiance, plutôt confiance, plutôt pas confiance ou pas du tout confiance : A votre médecin traitant\"\n",
    "                      , 'Q10_1' : \"En matière d’information sur les vaccins, diriez-vous que vous faites personnellement tout à fait confiance, plutôt confiance, plutôt pas confiance ou pas du tout confiance : Aux pédiatres\"\n",
    "                      , 'Q10_2' : \"En matière d’information sur les vaccins, diriez-vous que vous faites personnellement tout à fait confiance, plutôt confiance, plutôt pas confiance ou pas du tout confiance : Aux médecins spécialistes\"\n",
    "                      , 'Q10_3' : \"En matière d’information sur les vaccins, diriez-vous que vous faites personnellement tout à fait confiance, plutôt confiance, plutôt pas confiance ou pas du tout confiance : Aux pharmaciens\"\n",
    "                      , 'Q10_4' : \"En matière d’information sur les vaccins, diriez-vous que vous faites personnellement tout à fait confiance, plutôt confiance, plutôt pas confiance ou pas du tout confiance : Aux infirmières\"\n",
    "                      , 'Q10_5' : \"En matière d’information sur les vaccins, diriez-vous que vous faites personnellement tout à fait confiance, plutôt confiance, plutôt pas confiance ou pas du tout confiance : Aux autorités de santé/Aux pouvoirs publics\"\n",
    "                      , 'Q10_6' : \"En matière d’information sur les vaccins, diriez-vous que vous faites personnellement tout à fait confiance, plutôt confiance, plutôt pas confiance ou pas du tout confiance : Aux chercheurs\"\n",
    "                      , 'Q10_7' : \"En matière d’information sur les vaccins, diriez-vous que vous faites personnellement tout à fait confiance, plutôt confiance, plutôt pas confiance ou pas du tout confiance : Aux associations de patients\"\n",
    "                      , 'Q10_8' : \"En matière d’information sur les vaccins, diriez-vous que vous faites personnellement tout à fait confiance, plutôt confiance, plutôt pas confiance ou pas du tout confiance : Aux notices des vaccins\"\n",
    "                      , 'Q10_9' : \"En matière d’information sur les vaccins, diriez-vous que vous faites personnellement tout à fait confiance, plutôt confiance, plutôt pas confiance ou pas du tout confiance : Aux entreprises du médicament\"\n",
    "                      , 'Q10_10' : \"En matière d’information sur les vaccins, diriez-vous que vous faites personnellement tout à fait confiance, plutôt confiance, plutôt pas confiance ou pas du tout confiance : Aux responsables politiques\"\n",
    "                      , 'Q10_11' : \"En matière d’information sur les vaccins, diriez-vous que vous faites personnellement tout à fait confiance, plutôt confiance, plutôt pas confiance ou pas du tout confiance : A internet\"\n",
    "                      , 'Q10_12' : \"En matière d’information sur les vaccins, diriez-vous que vous faites personnellement tout à fait confiance, plutôt confiance, plutôt pas confiance ou pas du tout confiance : A la presse écrite\"\n",
    "                      , 'Q10_13' : \"En matière d’information sur les vaccins, diriez-vous que vous faites personnellement tout à fait confiance, plutôt confiance, plutôt pas confiance ou pas du tout confiance : A la télévision\"\n",
    "                      , 'Q10_14' : \"En matière d’information sur les vaccins, diriez-vous que vous faites personnellement tout à fait confiance, plutôt confiance, plutôt pas confiance ou pas du tout confiance : A la radio\"\n",
    "                      , 'Q10_15' : \"En matière d’information sur les vaccins, diriez-vous que vous faites personnellement tout à fait confiance, plutôt confiance, plutôt pas confiance ou pas du tout confiance : A votre entourage\"\n",
    "                      , 'Q10_16' : \"En matière d’information sur les vaccins, diriez-vous que vous faites personnellement tout à fait confiance, plutôt confiance, plutôt pas confiance ou pas du tout confiance : Aux livres publiés sur les vaccins\"\n",
    "                      , 'Q10_17' : \"En matière d’information sur les vaccins, diriez-vous que vous faites personnellement tout à fait confiance, plutôt confiance, plutôt pas confiance ou pas du tout confiance : Aux médecins qui exercent à l’hôpital\"\n",
    "                      , 'Q10_18' : \"En matière d’information sur les vaccins, diriez-vous que vous faites personnellement tout à fait confiance, plutôt confiance, plutôt pas confiance ou pas du tout confiance : Aux lanceurs d’alerte de l’opinion publique\"\n",
    "                      , 'Q13' : \"Globalement, vous diriez que vous avez une bonne ou une mauvaise image des entreprises du médicament\" , 'Q14_0' : \"Etes-vous d’accord ou pas avec chacune des propositions suivantes ? Les entreprises du médicament sont des acteurs essentiels du système de santé français\"\n",
    "                      , 'Q14_1' : \"Etes-vous d’accord ou pas avec chacune des propositions suivantes ? Les entreprises du médicament sont très attentives aux risques d’effets secondaires de leurs traitements pour les résoudre\"\n",
    "                      , 'Q14_2' : \"Etes-vous d’accord ou pas avec chacune des propositions suivantes ? Les entreprises du médicament sont des acteurs essentiels de la recherche contre la maladie et de la découverte de nouveaux traitements\"\n",
    "                      , 'Q14_3' : \"Etes-vous d’accord ou pas avec chacune des propositions suivantes ? Les entreprises du médicament ont un impact positif sur l’emploi en France\"\n",
    "                      , 'Q14_4' : \"Etes-vous d’accord ou pas avec chacune des propositions suivantes ? Les entreprises du médicament permettent de prévenir l’apparition de nouvelles maladies\"\n",
    "                      , 'Q14_5' : \"Etes-vous d’accord ou pas avec chacune des propositions suivantes ? Les entreprises du médicament proposent de plus en plus de médicaments innovants\"\n",
    "                      , 'Q14_6' : \"Etes-vous d’accord ou pas avec chacune des propositions suivantes ? Les entreprises du médicament contribuent à l’allongement de la durée de vie\"\n",
    "                      , 'Q16_0' : \"Aujourd’hui, considérez-vous qu’il est facile ou pas en France d’avoir accès aux médicaments les plus innovants ? Pour vous-même\"\n",
    "                      , 'Q16_1' : \"Aujourd’hui, considérez-vous qu’il est facile ou pas en France d’avoir accès aux médicaments les plus innovants ? Pour les Français en général\"\n",
    "                      , 'Q18_0' : \"Etes-vous d’accord ou pas avec chacune des affirmations suivantes ? La recherche et le développement de nouveaux traitements coûtent de plus en plus chers aux entreprises du médicament\"\n",
    "                      , 'Q18_1' : \"Etes-vous d’accord ou pas avec chacune des affirmations suivantes ? 'Compte tenu des investissements financiers très importants qu’ils représentent, il est normal que certains traitements coûtent chers'\"\n",
    "                      , 'Q18_2' : \"Etes-vous d’accord ou pas avec chacune des affirmations suivantes ? Les contraintes administratives que doivent respecter les entreprises du médicament sont longues et ralentissent l’accès des malades aux nouveaux traitements\"\n",
    "                      , 'Q20_0' : \"A l’avenir, accepteriez-vous que des systèmes d’intelligence artificielle ou des robots fasse les choses suivantes … : Pose le diagnostic d’un problème de santé que vous rencontrez à la place d’un médecin\"\n",
    "                      , 'Q20_1' : \"A l’avenir, accepteriez-vous que des systèmes d’intelligence artificielle ou des robots fasse les choses suivantes … : Vous prescrive le médicament le plus adapté à votre problème de santé à la place de votre médecin\"\n",
    "                      , 'Q20_2' : \"A l’avenir, accepteriez-vous que des systèmes d’intelligence artificielle ou des robots fasse les choses suivantes … : Vous conseille des médicaments disponibles sans ordonnance adaptés à votre problème de santé\"\n",
    "                      , 'Q20_3' : \"A l’avenir, accepteriez-vous que des systèmes d’intelligence artificielle ou des robots fasse les choses suivantes … : 'Vous donne des conseils d’hygiène de vie et de bien-être pour améliorer votre état de santé (alimentation, activité physique)'\"\n",
    "                      , 'Q20_4' : \"A l’avenir, accepteriez-vous que des systèmes d’intelligence artificielle ou des robots fasse les choses suivantes … : Vous opère sous le contrôle d’une équipe médicale\"\n",
    "                      , 'Q20_5' : \"A l’avenir, accepteriez-vous que des systèmes d’intelligence artificielle ou des robots fasse les choses suivantes … : Vous oriente vers le professionnel de santé le plus adapté à votre problème de santé\"\n",
    "                      , 'Q20_6' : \"A l’avenir, accepteriez-vous que des systèmes d’intelligence artificielle ou des robots fasse les choses suivantes … : 'Ait accès à vos données de santé pour les analyser, les interpréter et les transmettre à votre médecin'\"\n",
    "                      , 'Q22' : \"Il est aujourd’hui possible d’identifier les gênes responsables de certaines  maladies*. Vous-même, vous souhaiteriez connaitre le niveau de risques que vous avez de développer des maladies grâce à l’analyse de votre profil génétique\"\n",
    "                      , 'Q23_0' : \"Selon vous, les entreprises du médicament sont-elles légitimes pour : Investir dans la recherche pour développer des traitements innovants\"\n",
    "                      , 'Q23_1' : \"Selon vous, les entreprises du médicament sont-elles légitimes pour : Mener des essais cliniques pour tester de futurs médicaments\"\n",
    "                      , 'Q23_2' : \"Selon vous, les entreprises du médicament sont-elles légitimes pour : Informer les professionnels de santé sur les médicaments\"\n",
    "                      , 'Q23_3' : \"Selon vous, les entreprises du médicament sont-elles légitimes pour : Informer les patients sur les traitements pour soigner leurs maladies\"\n",
    "                      , 'Q23_4' : \"Selon vous, les entreprises du médicament sont-elles légitimes pour : Garantir la sécurité des médicaments\"\n",
    "                      , 'Q23_5' : \"Selon vous, les entreprises du médicament sont-elles légitimes pour : Soutenir les associations de patients dans leurs actions\"\n",
    "                      , 'Q23_6' : \"Selon vous, les entreprises du médicament sont-elles légitimes pour : Participer aux débats d’idées sur les enjeux actuels et à venir du système de santé\"\n",
    "                      , 'Q23_7' : \"Selon vous, les entreprises du médicament sont-elles légitimes pour : 'Conseiller sur les bons comportements à adopter pour rester en bonne santé (alimentation, activité physique)'\"\n",
    "                      , 'Q23_8' : \"Selon vous, les entreprises du médicament sont-elles légitimes pour : Conseiller sur les bons comportements à adopter pour prévenir le risque de développer certaines maladies\"\n",
    "                      , 'Q23_9' : \"Selon vous, les entreprises du médicament sont-elles légitimes pour : Agir efficacement en faveur de la protection de l’environnement\"\n",
    "                      , 'Q23_10' : \"Selon vous, les entreprises du médicament sont-elles légitimes pour : Délivrer des informations objectives et transparentes en cas de crise liée à un médicament\"\n",
    "                      , 'Q23_11' : \"Selon vous, les entreprises du médicament sont-elles légitimes pour : Soutenir la recherche publique en menant des partenariats public / privé\"\n",
    "                      , 'Q29' : \"Ces six derniers mois, il vous est arrivé de venir chercher des médicaments à la pharmacie et qu’ils ne soient pas disponibles pour une durée indéterminée en raison d’une rupture de stock?\"\n",
    "                      , 'Q30' : \"A qui en attribuez-vous la responsabilité ?\"}"
   ]
  },
  {
   "cell_type": "code",
   "execution_count": 6,
   "metadata": {},
   "outputs": [
    {
     "data": {
      "text/plain": [
       "GENDER\n",
       "2    652\n",
       "1    594\n",
       "Name: count, dtype: int64"
      ]
     },
     "execution_count": 6,
     "metadata": {},
     "output_type": "execute_result"
    }
   ],
   "source": [
    "# Variable 'GENDER'\n",
    "# Question : Sexe\n",
    "data['GENDER'].value_counts()"
   ]
  },
  {
   "cell_type": "code",
   "execution_count": 7,
   "metadata": {},
   "outputs": [],
   "source": [
    "data['GENDER'] = data['GENDER'].astype('category')\n",
    "data['GENDER'] =data['GENDER'].cat.rename_categories({1 : \"Homme\"\n",
    "                                                 , 2 : \"Femme\"})"
   ]
  },
  {
   "cell_type": "code",
   "execution_count": 8,
   "metadata": {},
   "outputs": [],
   "source": [
    "data['GENDER'] = pd.Categorical(data['GENDER'], \n",
    "                            categories=['Femme', 'Homme'], \n",
    "                            ordered=True)"
   ]
  },
  {
   "cell_type": "code",
   "execution_count": 9,
   "metadata": {},
   "outputs": [
    {
     "data": {
      "text/plain": [
       "AGER\n",
       "4    378\n",
       "5    360\n",
       "3    223\n",
       "2    180\n",
       "1    105\n",
       "Name: count, dtype: int64"
      ]
     },
     "execution_count": 9,
     "metadata": {},
     "output_type": "execute_result"
    }
   ],
   "source": [
    "# Variable 'AGER'\n",
    "# Question : Groupe d'ages\n",
    "data['AGER'].value_counts()"
   ]
  },
  {
   "cell_type": "code",
   "execution_count": 10,
   "metadata": {},
   "outputs": [],
   "source": [
    "data['AGER'] = data['AGER'].astype('category')\n",
    "data['AGER'] =data['AGER'].cat.rename_categories({1 : \"18 à 24 ans\"\n",
    "                                                 , 2 : \"25 à 34 ans\"\n",
    "                                                 , 3 : \"35 à 44 ans\"\n",
    "                                                 , 4 : \"45 à 59 ans\"\n",
    "                                                 , 5 : \"60 ans et plus\"})"
   ]
  },
  {
   "cell_type": "code",
   "execution_count": 11,
   "metadata": {},
   "outputs": [],
   "source": [
    "#changer l'order des categories de la variable 'AGER'\n",
    "data['AGER'] = pd.Categorical(data['AGER'], \n",
    "                            categories=['18 à 24 ans'\n",
    "                                        , '25 à 34 ans'\n",
    "                                        , '35 à 44 ans'\n",
    "                                       , '45 à 59 ans'\n",
    "                                       , '60 ans et plus'], \n",
    "                            ordered=True)"
   ]
  },
  {
   "cell_type": "code",
   "execution_count": 12,
   "metadata": {},
   "outputs": [
    {
     "data": {
      "text/plain": [
       "REG9\n",
       "1    232\n",
       "5    180\n",
       "9    153\n",
       "8    152\n",
       "7    133\n",
       "2    119\n",
       "3     98\n",
       "6     97\n",
       "4     82\n",
       "Name: count, dtype: int64"
      ]
     },
     "execution_count": 12,
     "metadata": {},
     "output_type": "execute_result"
    }
   ],
   "source": [
    "# Variable 'REG9'\n",
    "# Question : \"Région\"\n",
    "data['REG9'].value_counts()"
   ]
  },
  {
   "cell_type": "code",
   "execution_count": 13,
   "metadata": {},
   "outputs": [],
   "source": [
    "data['REG9'] = data['REG9'].astype('category')\n",
    "data['REG9'] = data['REG9'].cat.rename_categories({1 : \"Region Parisienne\"\n",
    "                                                 , 2 : \"Bassin Parisien Ouest\"\n",
    "                                                 , 3 : \"Bassin Parisien Est\"\n",
    "                                                 , 4 : \"Nord\"\n",
    "                                                 , 5 : \"Ouest\"\n",
    "                                                 , 6 : \"Est\"\n",
    "                                                 , 7 : \"Sud-Ouest\"\n",
    "                                                 , 8 : \"Sud-Est\"\n",
    "                                                 , 9 : \"Méditerranée\"})"
   ]
  },
  {
   "cell_type": "code",
   "execution_count": 14,
   "metadata": {},
   "outputs": [
    {
     "data": {
      "text/plain": [
       "AGGLO\n",
       "4    368\n",
       "1    263\n",
       "2    233\n",
       "5    197\n",
       "3    185\n",
       "Name: count, dtype: int64"
      ]
     },
     "execution_count": 14,
     "metadata": {},
     "output_type": "execute_result"
    }
   ],
   "source": [
    "# Variable 'AGGLO'\n",
    "# Question : Agglomération\n",
    "data['AGGLO'].value_counts()"
   ]
  },
  {
   "cell_type": "code",
   "execution_count": 15,
   "metadata": {},
   "outputs": [],
   "source": [
    "data['AGGLO'] = data['AGGLO'].astype('category')\n",
    "data['AGGLO'] = data['AGGLO'].cat.rename_categories({1 : \"Rural\"\n",
    "                                                 , 2 : \"Moins de 20.000 hab.\"\n",
    "                                                 , 3 : \"20.000 à 100.000 hab.\"\n",
    "                                                 , 4 : \"Plus de 100.000 hab.\"\n",
    "                                                 , 5 : \"Agglomération Parisienne\"})"
   ]
  },
  {
   "cell_type": "code",
   "execution_count": 16,
   "metadata": {},
   "outputs": [],
   "source": [
    "#changer l'order des categories de la variable 'AGGLO'\n",
    "data['AGGLO'] = pd.Categorical(data['AGGLO'], \n",
    "                            categories=['Rural'\n",
    "                                        , 'Moins de 20.000 hab.'\n",
    "                                        , '20.000 à 100.000 hab.'\n",
    "                                        , 'Plus de 100.000 hab.'\n",
    "                                        , 'Agglomération Parisienne'], \n",
    "                            ordered=True)"
   ]
  },
  {
   "cell_type": "code",
   "execution_count": 17,
   "metadata": {},
   "outputs": [
    {
     "data": {
      "text/plain": [
       "HHSIZE\n",
       "2    496\n",
       "1    268\n",
       "3    248\n",
       "4    171\n",
       "5     63\n",
       "Name: count, dtype: int64"
      ]
     },
     "execution_count": 17,
     "metadata": {},
     "output_type": "execute_result"
    }
   ],
   "source": [
    "# Variable 'HHSIZE'\n",
    "# Question : \"Taille du foyer\"\n",
    "data['HHSIZE'].value_counts()"
   ]
  },
  {
   "cell_type": "code",
   "execution_count": 18,
   "metadata": {},
   "outputs": [
    {
     "data": {
      "text/plain": [
       "dtype('int64')"
      ]
     },
     "execution_count": 18,
     "metadata": {},
     "output_type": "execute_result"
    }
   ],
   "source": [
    "data['HHSIZE'].dtype"
   ]
  },
  {
   "cell_type": "code",
   "execution_count": 19,
   "metadata": {},
   "outputs": [],
   "source": [
    "data['HHSIZE'] = data['HHSIZE'].astype('category')\n",
    "data['HHSIZE'] = data['HHSIZE'].cat.rename_categories({1 : \"1\"\n",
    "                                                 , 2 : \"2\"\n",
    "                                                 , 3 : \"3\"\n",
    "                                                 , 4 : \"4\"\n",
    "                                                 , 5 : \"5 personnes et plus\"})"
   ]
  },
  {
   "cell_type": "code",
   "execution_count": 20,
   "metadata": {},
   "outputs": [],
   "source": [
    "#changer l'order des categories de la variable 'HHSIZE'\n",
    "data['HHSIZE'] = pd.Categorical(data['HHSIZE'], \n",
    "                            categories=['1'\n",
    "                                        , '2'\n",
    "                                        , '3'\n",
    "                                       , '4'\n",
    "                                       , '5 personnes et plus'], \n",
    "                            ordered=True)"
   ]
  },
  {
   "cell_type": "code",
   "execution_count": 21,
   "metadata": {},
   "outputs": [
    {
     "data": {
      "text/plain": [
       "PCSI\n",
       "7    326\n",
       "5    233\n",
       "4    196\n",
       "8    189\n",
       "3    136\n",
       "6    118\n",
       "2     41\n",
       "1      7\n",
       "Name: count, dtype: int64"
      ]
     },
     "execution_count": 21,
     "metadata": {},
     "output_type": "execute_result"
    }
   ],
   "source": [
    "# Variable 'PCSI'\n",
    "# Question : CSP de l’individu\n",
    "data['PCSI'].value_counts()"
   ]
  },
  {
   "cell_type": "code",
   "execution_count": 22,
   "metadata": {},
   "outputs": [],
   "source": [
    "data['PCSI'] = data['PCSI'].astype('category')\n",
    "data['PCSI'] = data['PCSI'].cat.rename_categories({1 : \"Agriculteur exploitant\"\n",
    "                                                 , 2 : \"Profession indépendante\"\n",
    "                                                 , 3 : \"Cadre supérieur\"\n",
    "                                                 , 4 : \"Profession intermédiaire\"\n",
    "                                                 , 5 : \"Employé\"\n",
    "                                                 , 6 : \"Ouvrier\"\n",
    "                                                 , 7 : \"Retraité\"\n",
    "                                                 , 8 : \"Inactif\"})"
   ]
  },
  {
   "cell_type": "code",
   "execution_count": 23,
   "metadata": {},
   "outputs": [
    {
     "data": {
      "text/plain": [
       "PCSC\n",
       "7    385\n",
       "4    200\n",
       "6    191\n",
       "3    166\n",
       "5    162\n",
       "8     84\n",
       "2     48\n",
       "1     10\n",
       "Name: count, dtype: int64"
      ]
     },
     "execution_count": 23,
     "metadata": {},
     "output_type": "execute_result"
    }
   ],
   "source": [
    "# Variable 'PCSC'\n",
    "# Question : PCS de la personne ayant les revenus les plus élevés\n",
    "data['PCSC'].value_counts()"
   ]
  },
  {
   "cell_type": "code",
   "execution_count": 24,
   "metadata": {},
   "outputs": [],
   "source": [
    "data['PCSC'] = data['PCSC'].astype('category')\n",
    "data['PCSC'] = data['PCSC'].cat.rename_categories({1 : \"Agriculteur exploitant\"\n",
    "                                                 , 2 : \"Profession indépendante\"\n",
    "                                                 , 3 : \"Cadre supérieur\"\n",
    "                                                 , 4 : \"Profession intermédiaire\"\n",
    "                                                 , 5 : \"Employé\"\n",
    "                                                 , 6 : \"Ouvrier\"\n",
    "                                                 , 7 : \"Retraité\"\n",
    "                                                 , 8 : \"Inactif\"})"
   ]
  },
  {
   "cell_type": "code",
   "execution_count": 25,
   "metadata": {},
   "outputs": [
    {
     "data": {
      "text/plain": [
       "FR02EMPHI\n",
       "1    612\n",
       "7    385\n",
       "3     70\n",
       "2     56\n",
       "5     54\n",
       "4     43\n",
       "8     14\n",
       "6     12\n",
       "Name: count, dtype: int64"
      ]
     },
     "execution_count": 25,
     "metadata": {},
     "output_type": "execute_result"
    }
   ],
   "source": [
    "# Variable 'FR02EMPHI'\n",
    "# Question : Actuellement, quelle est la situation professionnelle de la personne ayant les revenus les plus élevés ?\n",
    "data['FR02EMPHI'].value_counts()"
   ]
  },
  {
   "cell_type": "code",
   "execution_count": 26,
   "metadata": {},
   "outputs": [],
   "source": [
    "data['FR02EMPHI'] = data['FR02EMPHI'].astype('category')\n",
    "data['FR02EMPHI'] =data['FR02EMPHI'].cat.rename_categories({1 : \"Salarié(e) à plein temps\"\n",
    "                                                 , 2 : \"Salarié(e) à temps partiel\"\n",
    "                                                 , 3 : \"Travaille à son compte\"\n",
    "                                                 , 4 : \"Ne travaille pas actuellement mais en recherche d'emploi\"\n",
    "                                                 , 5 : \"Ne travaille pas actuellement et ne recherche pas d'emploi / en incapacité de travail\"\n",
    "                                                 , 6 : \"Homme/femme au foyer\"\n",
    "                                                 , 7 : \"Retraité(e)\"\n",
    "                                                 , 8 : \"Etudiant/élève\"\n",
    "                                                 , 9 : \"Militaire\"\n",
    "                                                 , 10 : \"Je préfère ne pas répondre\"})"
   ]
  },
  {
   "cell_type": "code",
   "execution_count": 27,
   "metadata": {},
   "outputs": [
    {
     "data": {
      "text/plain": [
       "EMP01\n",
       "1    505\n",
       "7    326\n",
       "2     91\n",
       "4     84\n",
       "3     62\n",
       "5     62\n",
       "6     62\n",
       "8     54\n",
       "Name: count, dtype: int64"
      ]
     },
     "execution_count": 27,
     "metadata": {},
     "output_type": "execute_result"
    }
   ],
   "source": [
    "# Variable 'EMP01'\n",
    "# Question : Quelle est votre situation professionnelle actuelle ?\n",
    "data['EMP01'].value_counts()"
   ]
  },
  {
   "cell_type": "code",
   "execution_count": 28,
   "metadata": {},
   "outputs": [],
   "source": [
    "data['EMP01'] = data['EMP01'].astype('category')\n",
    "data['EMP01'] =data['EMP01'].cat.rename_categories({1 : \"Salarié(e) à plein temps\"\n",
    "                                                 , 2 : \"Salarié(e) à temps partiel\"\n",
    "                                                 , 3 : \"Travaille à son compte\"\n",
    "                                                 , 4 : \"Ne travaille pas actuellement mais en recherche d'emploi\"\n",
    "                                                 , 5 : \"Ne travaille pas actuellement et ne recherche pas d'emploi / en incapacité de travail\"\n",
    "                                                 , 6 : \"Homme/femme au foyer\"\n",
    "                                                 , 7 : \"Retraité(e)\"\n",
    "                                                 , 8 : \"Etudiant/élève\"\n",
    "                                                 , 9 : \"Militaire\"\n",
    "                                                 , 10 : \"Je préfère ne pas répondre\"})"
   ]
  },
  {
   "cell_type": "code",
   "execution_count": 29,
   "metadata": {},
   "outputs": [
    {
     "data": {
      "text/plain": [
       "MARL\n",
       "3    578\n",
       "1    325\n",
       "2    126\n",
       "5    113\n",
       "7     70\n",
       "6     25\n",
       "4      9\n",
       "Name: count, dtype: int64"
      ]
     },
     "execution_count": 29,
     "metadata": {},
     "output_type": "execute_result"
    }
   ],
   "source": [
    "# Variable 'MARL'\n",
    "# Question : Situation maritale\n",
    "data['MARL'].value_counts()"
   ]
  },
  {
   "cell_type": "code",
   "execution_count": 30,
   "metadata": {},
   "outputs": [],
   "source": [
    "data['MARL'] = data['MARL'].astype('category')\n",
    "data['MARL'] =data['MARL'].cat.rename_categories({1 : \"Célibataire\"\n",
    "                                                 , 2 : \"En union libre\"\n",
    "                                                 , 3 : \"Marié(e)\"\n",
    "                                                 , 4 : \"Séparé(e)\"\n",
    "                                                 , 5 : \"Divorcé(e)\"\n",
    "                                                 , 6 : \"Veuf/ve\"\n",
    "                                                 , 7 : \"Pacsé(e) (Pacte civil de solidarité)\"})"
   ]
  },
  {
   "cell_type": "code",
   "execution_count": 31,
   "metadata": {},
   "outputs": [],
   "source": [
    "#changer l'order des categories de la variable 'MARL'\n",
    "data['MARL'] = pd.Categorical(data['MARL'], \n",
    "                            categories=['Célibataire'\n",
    "                                        , 'En union libre'\n",
    "                                        , 'Marié(e)'\n",
    "                                        , 'Séparé(e)'\n",
    "                                        , 'Divorcé(e)'\n",
    "                                        , 'Veuf/ve'\n",
    "                                        , 'Pacsé(e) (Pacte civil de solidarité)'], \n",
    "                            ordered=True)"
   ]
  },
  {
   "cell_type": "code",
   "execution_count": 32,
   "metadata": {},
   "outputs": [
    {
     "data": {
      "text/plain": [
       "EDU\n",
       "5    295\n",
       "4    286\n",
       "3    256\n",
       "6    195\n",
       "7    142\n",
       "2     57\n",
       "1     15\n",
       "Name: count, dtype: int64"
      ]
     },
     "execution_count": 32,
     "metadata": {},
     "output_type": "execute_result"
    }
   ],
   "source": [
    "# Variable 'EDU'\n",
    "# Question : Niveau de scolarité le plus élevé.\n",
    "data['EDU'].value_counts()"
   ]
  },
  {
   "cell_type": "code",
   "execution_count": 33,
   "metadata": {},
   "outputs": [],
   "source": [
    "data['EDU'] = data['EDU'].astype('category')\n",
    "data['EDU'] = data['EDU'].cat.rename_categories({1 : \"École Élémentaire\"\n",
    "                                                 , 2 : \"Collège (BREVET)\"\n",
    "                                                 , 3 : \"CAP, BEP\"\n",
    "                                                 , 4 : \"Baccalauréat\"\n",
    "                                                 , 5 : \"Bac +2 (BTS, DEUG, DUT)\"\n",
    "                                                 , 6 : \"Bac +3/+4 (Licence, Maîtrise, Master 1)\"\n",
    "                                                 , 7 : \"Bac +5 et plus (Grandes Écoles, DESS, DEA, Doctorat, Master 2)\"})"
   ]
  },
  {
   "cell_type": "code",
   "execution_count": 34,
   "metadata": {},
   "outputs": [],
   "source": [
    "#changer l'order des categories de la variable 'EDU'\n",
    "data['EDU'] = pd.Categorical(data['EDU'], \n",
    "                            categories=['École Élémentaire'\n",
    "                                        , 'Collège (BREVET)'\n",
    "                                        , 'CAP, BEP'\n",
    "                                        , 'Baccalauréat'\n",
    "                                        , 'Bac +2 (BTS, DEUG, DUT)'\n",
    "                                        , 'Bac +3/+4 (Licence, Maîtrise, Master 1)'\n",
    "                                        , 'Bac +5 et plus (Grandes Écoles, DESS, DEA, Doctorat, Master 2)'], \n",
    "                            ordered=True)"
   ]
  },
  {
   "cell_type": "code",
   "execution_count": 35,
   "metadata": {},
   "outputs": [
    {
     "data": {
      "text/plain": [
       "INC\n",
       "10    191\n",
       "14    166\n",
       "8     161\n",
       "9     139\n",
       "7     103\n",
       "6     100\n",
       "11     95\n",
       "5      63\n",
       "4      60\n",
       "1      50\n",
       "12     48\n",
       "3      39\n",
       "2      27\n",
       "13      4\n",
       "Name: count, dtype: int64"
      ]
     },
     "execution_count": 35,
     "metadata": {},
     "output_type": "execute_result"
    }
   ],
   "source": [
    "# Variable 'INC'\n",
    "# Question : Revenu annuel net du foyer\n",
    "data['INC'].value_counts()"
   ]
  },
  {
   "cell_type": "code",
   "execution_count": 36,
   "metadata": {},
   "outputs": [],
   "source": [
    "data['INC'] = data['INC'].astype('category')\n",
    "data['INC'] = data['INC'].cat.rename_categories({1 : \"Entre 0 € et 6000 €\"\n",
    "                                                 , 2 : \"De 6001 € à 9000 €\"\n",
    "                                                 , 3 : \"De 9001 € à 12000 €\"\n",
    "                                                 , 4 : \"De 12001 € à 15000 €\"\n",
    "                                                 , 5 : \"De 15001 € à 18000 €\"\n",
    "                                                 , 6 : \"De 18001 € à 21000 €\"\n",
    "                                                 , 7 : \"De 21001 € à 24000 €\"\n",
    "                                                 , 8 : \"De 24001 € à 30000 €\"\n",
    "                                                 , 9 : \"De 30001 € à 36000 €\"\n",
    "                                                 , 10 : \"De 36001 € à 48000 €\"\n",
    "                                                 , 11 : \"De 48001 € à 60000 €\"\n",
    "                                                 , 12 : \"De 60001 € à 120000 €\"\n",
    "                                                 , 13 : \"120001 € et plus\"\n",
    "                                                 , 14 : \"Refus de répondre\"})"
   ]
  },
  {
   "cell_type": "code",
   "execution_count": 37,
   "metadata": {},
   "outputs": [],
   "source": [
    "#changer l'order des categories de la variable 'INC'\n",
    "data['INC'] = pd.Categorical(data['INC'], \n",
    "                            categories=['Entre 0 € et 6000 €'\n",
    "                                        , 'De 6001 € à 9000 €'\n",
    "                                        , 'De 9001 € à 12000 €'\n",
    "                                        , 'De 12001 € à 15000 €'\n",
    "                                        , 'De 15001 € à 18000 €'\n",
    "                                        , 'De 18001 € à 21000 €'\n",
    "                                        , 'De 21001 € à 24000 €'\n",
    "                                        , 'De 24001 € à 30000 €'\n",
    "                                        , 'De 30001 € à 36000 €'\n",
    "                                        , 'De 36001 € à 48000 €'\n",
    "                                        , 'De 48001 € à 60000 €'\n",
    "                                        , 'De 60001 € à 120000 €'\n",
    "                                        , '120001 € et plus'\n",
    "                                        , 'Refus de répondre'], \n",
    "                            ordered=True)"
   ]
  },
  {
   "cell_type": "code",
   "execution_count": 38,
   "metadata": {},
   "outputs": [
    {
     "data": {
      "text/plain": [
       "RS1_0\n",
       "2    756\n",
       "1    490\n",
       "Name: count, dtype: int64"
      ]
     },
     "execution_count": 38,
     "metadata": {},
     "output_type": "execute_result"
    }
   ],
   "source": [
    "# Variable 'RS1_0'\n",
    "# Question : Vous-même ou l’un de vos proches, souffre-t-il d’une ou plusieurs Affection(s) de Longue Durée (ALD) (Moi-même) ?\n",
    "data['RS1_0'].value_counts()"
   ]
  },
  {
   "cell_type": "code",
   "execution_count": 39,
   "metadata": {},
   "outputs": [],
   "source": [
    "data['RS1_0'] = data['RS1_0'].astype('category')\n",
    "data['RS1_0'] = data['RS1_0'].cat.rename_categories({1 : \"Oui\"\n",
    "                                                 , 2 : \"Non\"})"
   ]
  },
  {
   "cell_type": "code",
   "execution_count": 40,
   "metadata": {},
   "outputs": [
    {
     "data": {
      "text/plain": [
       "RS1_1\n",
       "2    924\n",
       "1    322\n",
       "Name: count, dtype: int64"
      ]
     },
     "execution_count": 40,
     "metadata": {},
     "output_type": "execute_result"
    }
   ],
   "source": [
    "# Variable 'RS1_1'\n",
    "# Question : Vous-même ou l’un de vos proches, souffre-t-il d’une ou plusieurs Affection(s) de Longue Durée (ALD), (Un de mes proches) ?\n",
    "data['RS1_1'].value_counts()"
   ]
  },
  {
   "cell_type": "code",
   "execution_count": 41,
   "metadata": {},
   "outputs": [],
   "source": [
    "data['RS1_1'] = data['RS1_1'].astype('category')\n",
    "data['RS1_1'] = data['RS1_1'].cat.rename_categories({1 : \"Oui\"\n",
    "                                                 , 2 : \"Non\"})"
   ]
  },
  {
   "cell_type": "code",
   "execution_count": 42,
   "metadata": {},
   "outputs": [
    {
     "data": {
      "text/plain": [
       "RS2A\n",
       "     916\n",
       "1    151\n",
       "7     41\n",
       "4     37\n",
       "8     27\n",
       "2     21\n",
       "5     20\n",
       "6     17\n",
       "3     16\n",
       "Name: count, dtype: int64"
      ]
     },
     "execution_count": 42,
     "metadata": {},
     "output_type": "execute_result"
    }
   ],
   "source": [
    "# Variable 'RS2A'\n",
    "# Question : A quelle fréquence prenez-vous des médicaments, qu’ils soient avec ou sans ordonnance ? (sans prendre en compte la pilule contraceptive)\n",
    "data['RS2A'].value_counts()"
   ]
  },
  {
   "cell_type": "code",
   "execution_count": 43,
   "metadata": {},
   "outputs": [
    {
     "data": {
      "text/plain": [
       "array([' ', '1', '7', '6', '3', '2', '8', '5', '4'], dtype=object)"
      ]
     },
     "execution_count": 43,
     "metadata": {},
     "output_type": "execute_result"
    }
   ],
   "source": [
    "data['RS2A'].unique()"
   ]
  },
  {
   "cell_type": "code",
   "execution_count": 44,
   "metadata": {},
   "outputs": [],
   "source": [
    "data['RS2A'] = data['RS2A'].astype('category')\n",
    "data['RS2A'] = data['RS2A'].cat.rename_categories({' ' : \" \"\n",
    "                                                 , '1' : \"Tous les jours\"\n",
    "                                                 , '2' : \"Plusieurs fois par semaine\"\n",
    "                                                 , '3' : \"Environ 1 fois par semaine\"\n",
    "                                                 , '4' : \"2 à 3 fois par mois\"\n",
    "                                                 , '5' : \"1 fois par mois\"\n",
    "                                                 , '6' : \"1 fois tous les 2-3 mois\"\n",
    "                                                 , '7' : \"Moins souvent\"\n",
    "                                                 , '8' : \"Jamais\"})"
   ]
  },
  {
   "cell_type": "code",
   "execution_count": 45,
   "metadata": {},
   "outputs": [],
   "source": [
    "#changer l'order des categories de la variable 'RS2A'\n",
    "data['RS2A'] = pd.Categorical(data['RS2A'], \n",
    "                            categories=['Jamais'\n",
    "                                        , 'Moins souvent'\n",
    "                                        , '1 fois tous les 2-3 mois'\n",
    "                                        , '1 fois par mois'\n",
    "                                        , '2 à 3 fois par mois'\n",
    "                                        , 'Environ 1 fois par semaine'\n",
    "                                        , 'Plusieurs fois par semaine'\n",
    "                                        , 'Tous les jours'\n",
    "                                        , ' '], \n",
    "                            ordered=True)"
   ]
  },
  {
   "cell_type": "code",
   "execution_count": 46,
   "metadata": {},
   "outputs": [
    {
     "data": {
      "text/plain": [
       "RS2B\n",
       "1    481\n",
       "     330\n",
       "7    147\n",
       "6     74\n",
       "8     60\n",
       "4     47\n",
       "5     40\n",
       "2     39\n",
       "3     28\n",
       "Name: count, dtype: int64"
      ]
     },
     "execution_count": 46,
     "metadata": {},
     "output_type": "execute_result"
    }
   ],
   "source": [
    "# Variable 'RS2B'\n",
    "# Question : A quelle fréquence prenez-vous des médicaments, qu’ils soient avec ou sans ordonnance ?\n",
    "data['RS2B'].value_counts()"
   ]
  },
  {
   "cell_type": "code",
   "execution_count": 47,
   "metadata": {},
   "outputs": [],
   "source": [
    "data['RS2B'] = data['RS2B'].astype('category')\n",
    "data['RS2B'] = data['RS2B'].cat.rename_categories({' ' : \" \"\n",
    "                                                 , '1' : \"Tous les jours\"\n",
    "                                                 , '2' : \"Plusieurs fois par semaine\"\n",
    "                                                 , '3' : \"Environ 1 fois par semaine\"\n",
    "                                                 , '4' : \"2 à 3 fois par mois\"\n",
    "                                                 , '5' : \"1 fois par mois\"\n",
    "                                                 , '6' : \"1 fois tous les 2-3 mois\"\n",
    "                                                 , '7' : \"Moins souvent\"\n",
    "                                                 , '8' : \"Jamais\"})"
   ]
  },
  {
   "cell_type": "code",
   "execution_count": 48,
   "metadata": {},
   "outputs": [],
   "source": [
    "#changer l'order des categories de la variable 'RS2B'\n",
    "data['RS2B'] = pd.Categorical(data['RS2B'], \n",
    "                            categories=['Jamais'\n",
    "                                        , 'Moins souvent'\n",
    "                                        , '1 fois tous les 2-3 mois'\n",
    "                                        , '1 fois par mois'\n",
    "                                        , '2 à 3 fois par mois'\n",
    "                                        , 'Environ 1 fois par semaine'\n",
    "                                        , 'Plusieurs fois par semaine'\n",
    "                                        , 'Tous les jours'\n",
    "                                        , ' '], \n",
    "                            ordered=True)"
   ]
  },
  {
   "cell_type": "code",
   "execution_count": 49,
   "metadata": {},
   "outputs": [
    {
     "data": {
      "text/plain": [
       "Q1\n",
       "2    770\n",
       "3    217\n",
       "1    209\n",
       "4     50\n",
       "Name: count, dtype: int64"
      ]
     },
     "execution_count": 49,
     "metadata": {},
     "output_type": "execute_result"
    }
   ],
   "source": [
    "# Variable 'Q1'\n",
    "# Question : Faites-vous tout à fait confiance, plutôt confiance, plutôt pas confiance ou pas du tout confiance aux médicaments ?\n",
    "data['Q1'].value_counts()"
   ]
  },
  {
   "cell_type": "code",
   "execution_count": 50,
   "metadata": {},
   "outputs": [],
   "source": [
    "data['Q1'] = data['Q1'].astype('category')\n",
    "data['Q1'] = data['Q1'].cat.rename_categories({1: \"Tout à fait confiance\"\n",
    "                                                 , 2 : \"Plutôt confiance\"\n",
    "                                                 , 3 : \"Plutôt pas confiance\"\n",
    "                                                 , 4 : \"Pas du tout confiance\"})"
   ]
  },
  {
   "cell_type": "code",
   "execution_count": 51,
   "metadata": {},
   "outputs": [],
   "source": [
    "#changer l'order des categories de la variable 'Q1'\n",
    "data['Q1'] = pd.Categorical(data['Q1'], \n",
    "                            categories=['Pas du tout confiance'\n",
    "                                        , 'Plutôt pas confiance'\n",
    "                                        , 'Plutôt confiance'\n",
    "                                       , 'Tout à fait confiance'], \n",
    "                            ordered=True)"
   ]
  },
  {
   "cell_type": "code",
   "execution_count": 52,
   "metadata": {},
   "outputs": [
    {
     "data": {
      "text/plain": [
       "Q2\n",
       "2    795\n",
       "1    252\n",
       "3    166\n",
       "4     33\n",
       "Name: count, dtype: int64"
      ]
     },
     "execution_count": 52,
     "metadata": {},
     "output_type": "execute_result"
    }
   ],
   "source": [
    "# Variable 'Q2'\n",
    "# Question : Et faites-vous tout à fait confiance, plutôt confiance, plutôt pas confiance ou pas du tout confiance aux médicaments que vous prenez ? \n",
    "data['Q2'].value_counts()"
   ]
  },
  {
   "cell_type": "code",
   "execution_count": 53,
   "metadata": {},
   "outputs": [],
   "source": [
    "data['Q2'] = data['Q2'].astype('category')\n",
    "data['Q2'] = data['Q2'].cat.rename_categories({1: \"Tout à fait confiance\"\n",
    "                                                 , 2 : \"Plutôt confiance\"\n",
    "                                                 , 3 : \"Plutôt pas confiance\"\n",
    "                                                 , 4 : \"Pas du tout confiance\"})"
   ]
  },
  {
   "cell_type": "code",
   "execution_count": 54,
   "metadata": {},
   "outputs": [],
   "source": [
    "#changer l'order des categories de la variable 'Q2'\n",
    "data['Q2'] = pd.Categorical(data['Q2'], \n",
    "                            categories=['Pas du tout confiance'\n",
    "                                        , 'Plutôt pas confiance'\n",
    "                                        , 'Plutôt confiance'\n",
    "                                       , 'Tout à fait confiance'], \n",
    "                            ordered=True)"
   ]
  },
  {
   "cell_type": "code",
   "execution_count": 55,
   "metadata": {},
   "outputs": [
    {
     "data": {
      "text/plain": [
       "Q3_0\n",
       "2    802\n",
       "3    215\n",
       "1    188\n",
       "4     41\n",
       "Name: count, dtype: int64"
      ]
     },
     "execution_count": 55,
     "metadata": {},
     "output_type": "execute_result"
    }
   ],
   "source": [
    "# Variable 'Q3_0'\n",
    "# Question : Pour chacun des types de médicaments ou traitements suivants, lui faites-vous tout à fait confiance, plutôt confiance, plutôt pas confiance ou pas du tout confiance ? Les médicaments sur / sans ordonnance\n",
    "data['Q3_0'].value_counts()"
   ]
  },
  {
   "cell_type": "code",
   "execution_count": 56,
   "metadata": {},
   "outputs": [
    {
     "data": {
      "text/plain": [
       "Q3_1\n",
       "2    807\n",
       "1    229\n",
       "3    175\n",
       "4     35\n",
       "Name: count, dtype: int64"
      ]
     },
     "execution_count": 56,
     "metadata": {},
     "output_type": "execute_result"
    }
   ],
   "source": [
    "# Variable 'Q3_1'\n",
    "# Question : Pour chacun des types de médicaments ou traitements suivants, lui faites-vous tout à fait confiance, plutôt confiance, plutôt pas confiance ou pas du tout confiance ? Les médicaments remboursés / non remboursés\n",
    "data['Q3_1'].value_counts()"
   ]
  },
  {
   "cell_type": "code",
   "execution_count": 57,
   "metadata": {},
   "outputs": [
    {
     "data": {
      "text/plain": [
       "Q3_2\n",
       "2    780\n",
       "1    255\n",
       "3    170\n",
       "4     41\n",
       "Name: count, dtype: int64"
      ]
     },
     "execution_count": 57,
     "metadata": {},
     "output_type": "execute_result"
    }
   ],
   "source": [
    "# Variable 'Q3_2'\n",
    "# Question : Pour chacun des types de médicaments ou traitements suivants, lui faites-vous tout à fait confiance, plutôt confiance, plutôt pas confiance ou pas du tout confiance ? Les médicaments de marque\n",
    "data['Q3_2'].value_counts()"
   ]
  },
  {
   "cell_type": "code",
   "execution_count": 58,
   "metadata": {},
   "outputs": [
    {
     "data": {
      "text/plain": [
       "Q3_3\n",
       "2    626\n",
       "3    270\n",
       "1    225\n",
       "4    125\n",
       "Name: count, dtype: int64"
      ]
     },
     "execution_count": 58,
     "metadata": {},
     "output_type": "execute_result"
    }
   ],
   "source": [
    "# Variable 'Q3_3'\n",
    "# Question : Pour chacun des types de médicaments ou traitements suivants, lui faites-vous tout à fait confiance, plutôt confiance, plutôt pas confiance ou pas du tout confiance ? Les médicaments génériques\n",
    "data['Q3_3'].value_counts()"
   ]
  },
  {
   "cell_type": "code",
   "execution_count": 59,
   "metadata": {},
   "outputs": [
    {
     "data": {
      "text/plain": [
       "Q3_4\n",
       "2    617\n",
       "1    284\n",
       "3    223\n",
       "4    122\n",
       "Name: count, dtype: int64"
      ]
     },
     "execution_count": 59,
     "metadata": {},
     "output_type": "execute_result"
    }
   ],
   "source": [
    "# Variable 'Q3_4'\n",
    "# Question : Pour chacun des types de médicaments ou traitements suivants, lui faites-vous tout à fait confiance, plutôt confiance, plutôt pas confiance ou pas du tout confiance ? Les vaccins\n",
    "data['Q3_4'].value_counts()"
   ]
  },
  {
   "cell_type": "code",
   "execution_count": 60,
   "metadata": {},
   "outputs": [
    {
     "data": {
      "text/plain": [
       "Q3_5\n",
       "2    611\n",
       "3    281\n",
       "1    235\n",
       "4    119\n",
       "Name: count, dtype: int64"
      ]
     },
     "execution_count": 60,
     "metadata": {},
     "output_type": "execute_result"
    }
   ],
   "source": [
    "# Variable 'Q3_5'\n",
    "# Question : Pour chacun des types de médicaments ou traitements suivants, lui faites-vous tout à fait confiance, plutôt confiance, plutôt pas confiance ou pas du tout confiance ? L’homéopathie\n",
    "data['Q3_5'].value_counts()"
   ]
  },
  {
   "cell_type": "code",
   "execution_count": 61,
   "metadata": {},
   "outputs": [],
   "source": [
    "data[['Q3_0', 'Q3_1', 'Q3_2', 'Q3_3', 'Q3_4', 'Q3_5']] = data[['Q3_0', 'Q3_1', 'Q3_2', 'Q3_3', 'Q3_4', 'Q3_5']].astype('category')"
   ]
  },
  {
   "cell_type": "code",
   "execution_count": 62,
   "metadata": {},
   "outputs": [],
   "source": [
    "ItemsQ3 = ['Q3_0', 'Q3_1', 'Q3_2', 'Q3_3', 'Q3_4', 'Q3_5']"
   ]
  },
  {
   "cell_type": "code",
   "execution_count": 63,
   "metadata": {},
   "outputs": [],
   "source": [
    "for i in data[ItemsQ3].columns:\n",
    "    data[i] = data[i].cat.rename_categories({1: \"Tout à fait confiance\"\n",
    "                                                 , 2 : \"Plutôt confiance\"\n",
    "                                                 , 3 : \"Plutôt pas confiance\"\n",
    "                                                 , 4 : \"Pas du tout confiance\"})"
   ]
  },
  {
   "cell_type": "code",
   "execution_count": 64,
   "metadata": {},
   "outputs": [],
   "source": [
    "#changer l'order des categories\n",
    "for i in data[ItemsQ3].columns:\n",
    "    data[i] = pd.Categorical(data[i], \n",
    "                            categories=['Pas du tout confiance'\n",
    "                                        , 'Plutôt pas confiance'\n",
    "                                        , 'Plutôt confiance'\n",
    "                                       , 'Tout à fait confiance'], \n",
    "                            ordered=True)"
   ]
  },
  {
   "cell_type": "code",
   "execution_count": 65,
   "metadata": {},
   "outputs": [
    {
     "data": {
      "text/plain": [
       "Q4_0\n",
       "3    797\n",
       "2    340\n",
       "1    109\n",
       "Name: count, dtype: int64"
      ]
     },
     "execution_count": 65,
     "metadata": {},
     "output_type": "execute_result"
    }
   ],
   "source": [
    "# Variable 'Q4_0'\n",
    "# Question : Avez-vous déjà entendu parler des médicaments et traitements suivants ? Les médicaments biologiques \n",
    "data['Q4_0'].value_counts()"
   ]
  },
  {
   "cell_type": "code",
   "execution_count": 66,
   "metadata": {},
   "outputs": [
    {
     "data": {
      "text/plain": [
       "Q4_1\n",
       "3    1033\n",
       "2     163\n",
       "1      50\n",
       "Name: count, dtype: int64"
      ]
     },
     "execution_count": 66,
     "metadata": {},
     "output_type": "execute_result"
    }
   ],
   "source": [
    "# Variable 'Q4_1'\n",
    "# Question : Avez-vous déjà entendu parler des médicaments et traitements suivants ? Les médicaments biosimilaires \n",
    "data['Q4_1'].value_counts()"
   ]
  },
  {
   "cell_type": "code",
   "execution_count": 67,
   "metadata": {},
   "outputs": [
    {
     "data": {
      "text/plain": [
       "Q4_2\n",
       "3    582\n",
       "2    494\n",
       "1    170\n",
       "Name: count, dtype: int64"
      ]
     },
     "execution_count": 67,
     "metadata": {},
     "output_type": "execute_result"
    }
   ],
   "source": [
    "# Variable 'Q4_2'\n",
    "# Question : Avez-vous déjà entendu parler des médicaments et traitements suivants ? Les médicaments de thérapie génique \n",
    "data['Q4_2'].value_counts()"
   ]
  },
  {
   "cell_type": "code",
   "execution_count": 68,
   "metadata": {},
   "outputs": [
    {
     "data": {
      "text/plain": [
       "Q4_3\n",
       "3    534\n",
       "2    531\n",
       "1    181\n",
       "Name: count, dtype: int64"
      ]
     },
     "execution_count": 68,
     "metadata": {},
     "output_type": "execute_result"
    }
   ],
   "source": [
    "# Variable 'Q4_3'\n",
    "# Question : Avez-vous déjà entendu parler des médicaments et traitements suivants ? Les médicaments d'immunothérapie \n",
    "data['Q4_3'].value_counts()"
   ]
  },
  {
   "cell_type": "code",
   "execution_count": 69,
   "metadata": {},
   "outputs": [],
   "source": [
    "data[['Q4_0', 'Q4_1', 'Q4_2', 'Q4_3']] = data[['Q4_0', 'Q4_1', 'Q4_2', 'Q4_3']].astype('category')"
   ]
  },
  {
   "cell_type": "code",
   "execution_count": 70,
   "metadata": {},
   "outputs": [],
   "source": [
    "ItemsQ4 = ['Q4_0', 'Q4_1', 'Q4_2', 'Q4_3']"
   ]
  },
  {
   "cell_type": "code",
   "execution_count": 71,
   "metadata": {},
   "outputs": [],
   "source": [
    "for i in data[ItemsQ4].columns:\n",
    "    data[i] = data[i].cat.rename_categories({1: \"Oui et je sais précisément ce dont il s'agit\"\n",
    "                                                 , 2 : \"Oui mais je ne sais pas vraiment ce dont il s'agit\"\n",
    "                                                 , 3 : \"Non, je ne sais pas ce dont il s'agit\"})"
   ]
  },
  {
   "cell_type": "code",
   "execution_count": 72,
   "metadata": {},
   "outputs": [],
   "source": [
    "#changer l'order des categories\n",
    "for i in data[ItemsQ4].columns:\n",
    "    data[i] = pd.Categorical(data[i], \n",
    "                            categories=[\"Non, je ne sais pas ce dont il s'agit\"\n",
    "                                        , \"Oui mais je ne sais pas vraiment ce dont il s'agit\" \n",
    "                                        , \"Oui et je sais précisément ce dont il s'agit\"], \n",
    "                            ordered=True)"
   ]
  },
  {
   "cell_type": "code",
   "execution_count": 73,
   "metadata": {},
   "outputs": [
    {
     "data": {
      "text/plain": [
       "Q5_0\n",
       "     797\n",
       "2    312\n",
       "3     71\n",
       "1     55\n",
       "4     11\n",
       "Name: count, dtype: int64"
      ]
     },
     "execution_count": 73,
     "metadata": {},
     "output_type": "execute_result"
    }
   ],
   "source": [
    "# Variable 'Q5_0'\n",
    "# Question : Et globalement, diriez-vous que vous faîtes confiance aux médicaments et traitements suivants ? Les médicaments biologiques\n",
    "data['Q5_0'].value_counts()"
   ]
  },
  {
   "cell_type": "code",
   "execution_count": 74,
   "metadata": {},
   "outputs": [
    {
     "data": {
      "text/plain": [
       "Q5_1\n",
       "     1033\n",
       "2     130\n",
       "3      52\n",
       "1      27\n",
       "4       4\n",
       "Name: count, dtype: int64"
      ]
     },
     "execution_count": 74,
     "metadata": {},
     "output_type": "execute_result"
    }
   ],
   "source": [
    "# Variable 'Q5_1'\n",
    "# Question : Et globalement, diriez-vous que vous faîtes confiance aux médicaments et traitements suivants ? Les médicaments biosimilaires\n",
    "data['Q5_1'].value_counts()"
   ]
  },
  {
   "cell_type": "code",
   "execution_count": 75,
   "metadata": {},
   "outputs": [
    {
     "data": {
      "text/plain": [
       "Q5_2\n",
       "     582\n",
       "2    449\n",
       "3    122\n",
       "1     76\n",
       "4     17\n",
       "Name: count, dtype: int64"
      ]
     },
     "execution_count": 75,
     "metadata": {},
     "output_type": "execute_result"
    }
   ],
   "source": [
    "# Variable 'Q5_2'\n",
    "# Question : Et globalement, diriez-vous que vous faîtes confiance aux médicaments et traitements suivants ? Les médicaments de thérapie génique\n",
    "data['Q5_2'].value_counts()"
   ]
  },
  {
   "cell_type": "code",
   "execution_count": 76,
   "metadata": {},
   "outputs": [
    {
     "data": {
      "text/plain": [
       "Q5_3\n",
       "     534\n",
       "2    515\n",
       "3    108\n",
       "1     81\n",
       "4      8\n",
       "Name: count, dtype: int64"
      ]
     },
     "execution_count": 76,
     "metadata": {},
     "output_type": "execute_result"
    }
   ],
   "source": [
    "# Variable 'Q5_3'\n",
    "# Question : Et globalement, diriez-vous que vous faîtes confiance aux médicaments et traitements suivants ? Les médicaments d'immunothérapie\n",
    "data['Q5_3'].value_counts()"
   ]
  },
  {
   "cell_type": "code",
   "execution_count": 77,
   "metadata": {},
   "outputs": [],
   "source": [
    "data[['Q5_0', 'Q5_1', 'Q5_2', 'Q5_3']] = data[['Q5_0', 'Q5_1', 'Q5_2', 'Q5_3']].astype('category')"
   ]
  },
  {
   "cell_type": "code",
   "execution_count": 78,
   "metadata": {},
   "outputs": [],
   "source": [
    "ItemsQ5 = ['Q5_0', 'Q5_1', 'Q5_2', 'Q5_3']"
   ]
  },
  {
   "cell_type": "code",
   "execution_count": 79,
   "metadata": {},
   "outputs": [],
   "source": [
    "for i in data[ItemsQ5].columns:\n",
    "    data[i] = data[i].cat.rename_categories({' ' : \" \"\n",
    "                                          , '1' : \"Tout à fait confiance\"\n",
    "                                          , '2' : \"Plutôt confiance\"\n",
    "                                          , '3' : \"Plutôt pas confiance\"\n",
    "                                          , '4' : \"Pas du tout confiance\"})"
   ]
  },
  {
   "cell_type": "code",
   "execution_count": 80,
   "metadata": {},
   "outputs": [],
   "source": [
    "#changer l'order des categories\n",
    "for i in data[ItemsQ5].columns:\n",
    "    data[i] = pd.Categorical(data[i], \n",
    "                            categories=['Pas du tout confiance'\n",
    "                                        , 'Plutôt pas confiance'\n",
    "                                        , 'Plutôt confiance'\n",
    "                                       , 'Tout à fait confiance'\n",
    "                                       , ' '], \n",
    "                            ordered=True)"
   ]
  },
  {
   "cell_type": "code",
   "execution_count": 81,
   "metadata": {},
   "outputs": [
    {
     "data": {
      "text/plain": [
       "Q9_0\n",
       "2    611\n",
       "1    547\n",
       "3     76\n",
       "4     12\n",
       "Name: count, dtype: int64"
      ]
     },
     "execution_count": 81,
     "metadata": {},
     "output_type": "execute_result"
    }
   ],
   "source": [
    "# Variable 'Q9_0'\n",
    "# Question : En matière d’information sur les médicaments, diriez-vous que vous faites personnellement tout à fait confiance, plutôt confiance, plutôt pas confiance ou pas du tout confiance : A votre médecin traitant\n",
    "data['Q9_0'].value_counts()"
   ]
  },
  {
   "cell_type": "code",
   "execution_count": 82,
   "metadata": {},
   "outputs": [
    {
     "data": {
      "text/plain": [
       "Q9_1\n",
       "2    755\n",
       "1    378\n",
       "3     93\n",
       "4     20\n",
       "Name: count, dtype: int64"
      ]
     },
     "execution_count": 82,
     "metadata": {},
     "output_type": "execute_result"
    }
   ],
   "source": [
    "# Variable 'Q9_1'\n",
    "# Question : En matière d’information sur les médicaments, diriez-vous que vous faites personnellement tout à fait confiance, plutôt confiance, plutôt pas confiance ou pas du tout confiance : Aux médecins spécialistes\n",
    "data['Q9_1'].value_counts()"
   ]
  },
  {
   "cell_type": "code",
   "execution_count": 83,
   "metadata": {},
   "outputs": [
    {
     "data": {
      "text/plain": [
       "Q9_2\n",
       "2    786\n",
       "1    284\n",
       "3    143\n",
       "4     33\n",
       "Name: count, dtype: int64"
      ]
     },
     "execution_count": 83,
     "metadata": {},
     "output_type": "execute_result"
    }
   ],
   "source": [
    "# Variable 'Q9_2'\n",
    "# Question : En matière d’information sur les médicaments, diriez-vous que vous faites personnellement tout à fait confiance, plutôt confiance, plutôt pas confiance ou pas du tout confiance : Aux pharmaciens\n",
    "data['Q9_2'].value_counts()"
   ]
  },
  {
   "cell_type": "code",
   "execution_count": 84,
   "metadata": {},
   "outputs": [
    {
     "data": {
      "text/plain": [
       "Q9_3\n",
       "2    742\n",
       "1    397\n",
       "3     94\n",
       "4     13\n",
       "Name: count, dtype: int64"
      ]
     },
     "execution_count": 84,
     "metadata": {},
     "output_type": "execute_result"
    }
   ],
   "source": [
    "# Variable 'Q9_3'\n",
    "# Question : En matière d’information sur les médicaments, diriez-vous que vous faites personnellement tout à fait confiance, plutôt confiance, plutôt pas confiance ou pas du tout confiance : Aux infirmières\n",
    "data['Q9_3'].value_counts()"
   ]
  },
  {
   "cell_type": "code",
   "execution_count": 85,
   "metadata": {},
   "outputs": [
    {
     "data": {
      "text/plain": [
       "Q9_4\n",
       "2    532\n",
       "3    468\n",
       "4    188\n",
       "1     58\n",
       "Name: count, dtype: int64"
      ]
     },
     "execution_count": 85,
     "metadata": {},
     "output_type": "execute_result"
    }
   ],
   "source": [
    "# Variable 'Q9_4'\n",
    "# Question : En matière d’information sur les médicaments, diriez-vous que vous faites personnellement tout à fait confiance, plutôt confiance, plutôt pas confiance ou pas du tout confiance : Aux autorités de santé/Aux pouvoirs publics\n",
    "data['Q9_4'].value_counts()"
   ]
  },
  {
   "cell_type": "code",
   "execution_count": 86,
   "metadata": {},
   "outputs": [
    {
     "data": {
      "text/plain": [
       "Q9_5\n",
       "2    795\n",
       "1    318\n",
       "3    109\n",
       "4     24\n",
       "Name: count, dtype: int64"
      ]
     },
     "execution_count": 86,
     "metadata": {},
     "output_type": "execute_result"
    }
   ],
   "source": [
    "# Variable 'Q9_5'\n",
    "# Question : En matière d’information sur les médicaments, diriez-vous que vous faites personnellement tout à fait confiance, plutôt confiance, plutôt pas confiance ou pas du tout confiance : Aux chercheurs\n",
    "data['Q9_5'].value_counts()"
   ]
  },
  {
   "cell_type": "code",
   "execution_count": 87,
   "metadata": {},
   "outputs": [
    {
     "data": {
      "text/plain": [
       "Q9_6\n",
       "2    830\n",
       "3    229\n",
       "1    138\n",
       "4     49\n",
       "Name: count, dtype: int64"
      ]
     },
     "execution_count": 87,
     "metadata": {},
     "output_type": "execute_result"
    }
   ],
   "source": [
    "# Variable 'Q9_6'\n",
    "# Question : En matière d’information sur les médicaments, diriez-vous que vous faites personnellement tout à fait confiance, plutôt confiance, plutôt pas confiance ou pas du tout confiance : Aux associations de patients\n",
    "data['Q9_6'].value_counts()"
   ]
  },
  {
   "cell_type": "code",
   "execution_count": 88,
   "metadata": {},
   "outputs": [
    {
     "data": {
      "text/plain": [
       "Q9_7\n",
       "2    813\n",
       "3    193\n",
       "1    181\n",
       "4     59\n",
       "Name: count, dtype: int64"
      ]
     },
     "execution_count": 88,
     "metadata": {},
     "output_type": "execute_result"
    }
   ],
   "source": [
    "# Variable 'Q9_7'\n",
    "# Question : En matière d’information sur les médicaments, diriez-vous que vous faites personnellement tout à fait confiance, plutôt confiance, plutôt pas confiance ou pas du tout confiance : Aux notices des médicaments\n",
    "data['Q9_7'].value_counts()"
   ]
  },
  {
   "cell_type": "code",
   "execution_count": 89,
   "metadata": {},
   "outputs": [
    {
     "data": {
      "text/plain": [
       "Q9_8\n",
       "3    532\n",
       "2    387\n",
       "4    297\n",
       "1     30\n",
       "Name: count, dtype: int64"
      ]
     },
     "execution_count": 89,
     "metadata": {},
     "output_type": "execute_result"
    }
   ],
   "source": [
    "# Variable 'Q9_8'\n",
    "# Question : En matière d’information sur les médicaments, diriez-vous que vous faites personnellement tout à fait confiance, plutôt confiance, plutôt pas confiance ou pas du tout confiance : Aux entreprises du médicament\n",
    "data['Q9_8'].value_counts()"
   ]
  },
  {
   "cell_type": "code",
   "execution_count": 90,
   "metadata": {},
   "outputs": [
    {
     "data": {
      "text/plain": [
       "Q9_9\n",
       "4    592\n",
       "3    487\n",
       "2    154\n",
       "1     13\n",
       "Name: count, dtype: int64"
      ]
     },
     "execution_count": 90,
     "metadata": {},
     "output_type": "execute_result"
    }
   ],
   "source": [
    "# Variable 'Q9_9'\n",
    "# Question : En matière d’information sur les médicaments, diriez-vous que vous faites personnellement tout à fait confiance, plutôt confiance, plutôt pas confiance ou pas du tout confiance : Aux responsables politiques\n",
    "data['Q9_9'].value_counts()"
   ]
  },
  {
   "cell_type": "code",
   "execution_count": 91,
   "metadata": {},
   "outputs": [
    {
     "data": {
      "text/plain": [
       "Q9_10\n",
       "3    668\n",
       "2    281\n",
       "4    278\n",
       "1     19\n",
       "Name: count, dtype: int64"
      ]
     },
     "execution_count": 91,
     "metadata": {},
     "output_type": "execute_result"
    }
   ],
   "source": [
    "# Variable 'Q9_10'\n",
    "# Question : En matière d’information sur les médicaments, diriez-vous que vous faites personnellement tout à fait confiance, plutôt confiance, plutôt pas confiance ou pas du tout confiance : A internet\n",
    "data['Q9_10'].value_counts()"
   ]
  },
  {
   "cell_type": "code",
   "execution_count": 92,
   "metadata": {},
   "outputs": [
    {
     "data": {
      "text/plain": [
       "Q9_11\n",
       "3    579\n",
       "2    482\n",
       "4    162\n",
       "1     23\n",
       "Name: count, dtype: int64"
      ]
     },
     "execution_count": 92,
     "metadata": {},
     "output_type": "execute_result"
    }
   ],
   "source": [
    "# Variable 'Q9_11'\n",
    "# Question : En matière d’information sur les médicaments, diriez-vous que vous faites personnellement tout à fait confiance, plutôt confiance, plutôt pas confiance ou pas du tout confiance : A la presse écrite\n",
    "data['Q9_11'].value_counts()"
   ]
  },
  {
   "cell_type": "code",
   "execution_count": 93,
   "metadata": {},
   "outputs": [
    {
     "data": {
      "text/plain": [
       "Q9_12\n",
       "3    601\n",
       "2    369\n",
       "4    259\n",
       "1     17\n",
       "Name: count, dtype: int64"
      ]
     },
     "execution_count": 93,
     "metadata": {},
     "output_type": "execute_result"
    }
   ],
   "source": [
    "# Variable 'Q9_12'\n",
    "# Question : En matière d’information sur les médicaments, diriez-vous que vous faites personnellement tout à fait confiance, plutôt confiance, plutôt pas confiance ou pas du tout confiance : A la télévision\n",
    "data['Q9_12'].value_counts()"
   ]
  },
  {
   "cell_type": "code",
   "execution_count": 94,
   "metadata": {},
   "outputs": [
    {
     "data": {
      "text/plain": [
       "Q9_13\n",
       "3    609\n",
       "2    437\n",
       "4    176\n",
       "1     24\n",
       "Name: count, dtype: int64"
      ]
     },
     "execution_count": 94,
     "metadata": {},
     "output_type": "execute_result"
    }
   ],
   "source": [
    "# Variable 'Q9_13'\n",
    "# Question : En matière d’information sur les médicaments, diriez-vous que vous faites personnellement tout à fait confiance, plutôt confiance, plutôt pas confiance ou pas du tout confiance : A la radio\n",
    "data['Q9_13'].value_counts()"
   ]
  },
  {
   "cell_type": "code",
   "execution_count": 95,
   "metadata": {},
   "outputs": [
    {
     "data": {
      "text/plain": [
       "Q9_14\n",
       "2    752\n",
       "3    263\n",
       "1    192\n",
       "4     39\n",
       "Name: count, dtype: int64"
      ]
     },
     "execution_count": 95,
     "metadata": {},
     "output_type": "execute_result"
    }
   ],
   "source": [
    "# Variable 'Q9_14'\n",
    "# Question : En matière d’information sur les médicaments, diriez-vous que vous faites personnellement tout à fait confiance, plutôt confiance, plutôt pas confiance ou pas du tout confiance : A votre entourage\n",
    "data['Q9_14'].value_counts()"
   ]
  },
  {
   "cell_type": "code",
   "execution_count": 96,
   "metadata": {},
   "outputs": [
    {
     "data": {
      "text/plain": [
       "Q9_15\n",
       "2    611\n",
       "3    502\n",
       "4     95\n",
       "1     38\n",
       "Name: count, dtype: int64"
      ]
     },
     "execution_count": 96,
     "metadata": {},
     "output_type": "execute_result"
    }
   ],
   "source": [
    "# Variable 'Q9_15'\n",
    "# Question : En matière d’information sur les médicaments, diriez-vous que vous faites personnellement tout à fait confiance, plutôt confiance, plutôt pas confiance ou pas du tout confiance : Aux livres publiés sur les médicaments \n",
    "data['Q9_15'].value_counts()"
   ]
  },
  {
   "cell_type": "code",
   "execution_count": 97,
   "metadata": {},
   "outputs": [
    {
     "data": {
      "text/plain": [
       "Q9_16\n",
       "2    766\n",
       "1    330\n",
       "3    122\n",
       "4     28\n",
       "Name: count, dtype: int64"
      ]
     },
     "execution_count": 97,
     "metadata": {},
     "output_type": "execute_result"
    }
   ],
   "source": [
    "# Variable 'Q9_16'\n",
    "# Question : En matière d’information sur les médicaments, diriez-vous que vous faites personnellement tout à fait confiance, plutôt confiance, plutôt pas confiance ou pas du tout confiance : Aux médecins qui exercent à l'hôpital \n",
    "data['Q9_16'].value_counts()"
   ]
  },
  {
   "cell_type": "code",
   "execution_count": 98,
   "metadata": {},
   "outputs": [
    {
     "data": {
      "text/plain": [
       "Q9_17\n",
       "2    626\n",
       "3    393\n",
       "4    119\n",
       "1    108\n",
       "Name: count, dtype: int64"
      ]
     },
     "execution_count": 98,
     "metadata": {},
     "output_type": "execute_result"
    }
   ],
   "source": [
    "# Variable 'Q9_17'\n",
    "# Question : En matière d’information sur les médicaments, diriez-vous que vous faites personnellement tout à fait confiance, plutôt confiance, plutôt pas confiance ou pas du tout confiance : Aux lanceurs d'alerte de l'opinion publique\n",
    "data['Q9_17'].value_counts()"
   ]
  },
  {
   "cell_type": "code",
   "execution_count": 99,
   "metadata": {},
   "outputs": [],
   "source": [
    "data[['Q9_0', 'Q9_1', 'Q9_2', 'Q9_3', 'Q9_4', 'Q9_5', 'Q9_6', 'Q9_7', 'Q9_8', 'Q9_9', 'Q9_10', 'Q9_11', 'Q9_12', 'Q9_13', 'Q9_14', 'Q9_15', 'Q9_16', 'Q9_17']] = data[['Q9_0', 'Q9_1', 'Q9_2', 'Q9_3', 'Q9_4', 'Q9_5', 'Q9_6', 'Q9_7', 'Q9_8', 'Q9_9', 'Q9_10', 'Q9_11', 'Q9_12', 'Q9_13', 'Q9_14', 'Q9_15', 'Q9_16', 'Q9_17']].astype('category')"
   ]
  },
  {
   "cell_type": "code",
   "execution_count": 100,
   "metadata": {},
   "outputs": [],
   "source": [
    "ItemsQ9 = ['Q9_0', 'Q9_1', 'Q9_2', 'Q9_3', 'Q9_4', 'Q9_5', 'Q9_6', 'Q9_7', 'Q9_8', 'Q9_9', 'Q9_10', 'Q9_11', 'Q9_12', 'Q9_13', 'Q9_14', 'Q9_15', 'Q9_16', 'Q9_17']"
   ]
  },
  {
   "cell_type": "code",
   "execution_count": 101,
   "metadata": {},
   "outputs": [],
   "source": [
    "for i in data[ItemsQ9].columns:\n",
    "    data[i] = data[i].cat.rename_categories({1: \"Tout à fait confiance\"\n",
    "                                                 , 2 : \"Plutôt confiance\"\n",
    "                                                 , 3 : \"Plutôt pas confiance\"\n",
    "                                                 , 4 : \"Pas du tout confiance\"})"
   ]
  },
  {
   "cell_type": "code",
   "execution_count": 102,
   "metadata": {},
   "outputs": [],
   "source": [
    "#changer l'order des categories\n",
    "for i in data[ItemsQ9].columns:\n",
    "    data[i] = pd.Categorical(data[i], \n",
    "                            categories=['Pas du tout confiance'\n",
    "                                        , 'Plutôt pas confiance'\n",
    "                                        , 'Plutôt confiance'\n",
    "                                       , 'Tout à fait confiance'], \n",
    "                            ordered=True)"
   ]
  },
  {
   "cell_type": "code",
   "execution_count": 103,
   "metadata": {},
   "outputs": [
    {
     "data": {
      "text/plain": [
       "Q11_4\n",
       "2    566\n",
       "3    430\n",
       "4    185\n",
       "1     65\n",
       "Name: count, dtype: int64"
      ]
     },
     "execution_count": 103,
     "metadata": {},
     "output_type": "execute_result"
    }
   ],
   "source": [
    "# Variable 'Q11_4'\n",
    "# Question : Diriez-vous que vous avez tout à fait, plutôt, plutôt pas ou pas du tout confiance dans les entreprises du secteur : Du médicament\n",
    "data['Q11_4'].value_counts()"
   ]
  },
  {
   "cell_type": "code",
   "execution_count": 104,
   "metadata": {},
   "outputs": [],
   "source": [
    "data['Q11_4'] = data['Q11_4'].astype('category')\n",
    "data['Q11_4'] = data['Q11_4'].cat.rename_categories({1: \"Tout à fait confiance\"\n",
    "                                                 , 2 : \"Plutôt confiance\"\n",
    "                                                 , 3 : \"Plutôt pas confiance\"\n",
    "                                                 , 4 : \"Pas du tout confiance\"})"
   ]
  },
  {
   "cell_type": "code",
   "execution_count": 105,
   "metadata": {},
   "outputs": [],
   "source": [
    "#changer l'order des categories de la variable 'Q11_4'\n",
    "data['Q11_4'] = pd.Categorical(data['Q11_4'], \n",
    "                            categories=['Pas du tout confiance'\n",
    "                                        , 'Plutôt pas confiance'\n",
    "                                        , 'Plutôt confiance'\n",
    "                                       , 'Tout à fait confiance'], \n",
    "                            ordered=True)"
   ]
  },
  {
   "cell_type": "code",
   "execution_count": 106,
   "metadata": {},
   "outputs": [],
   "source": [
    "# Q12_VISION DES LABORATOIRES PHARMACEUTIQUES\n",
    "# Les variables spécifiques à la question Q12 de la vision des laboratoires pharmaceutiques ne sont\n",
    "# pas dans la base de données qui est à notre disposition."
   ]
  },
  {
   "cell_type": "code",
   "execution_count": 107,
   "metadata": {},
   "outputs": [
    {
     "data": {
      "text/plain": [
       "Q6\n",
       "1    650\n",
       "3    377\n",
       "2    219\n",
       "Name: count, dtype: int64"
      ]
     },
     "execution_count": 107,
     "metadata": {},
     "output_type": "execute_result"
    }
   ],
   "source": [
    "# Variable 'Q6'\n",
    "# Question : Aujourd’hui concernant les vaccins en général, vous diriez qu’ils présentent pour la santé...\n",
    "data['Q6'].value_counts()"
   ]
  },
  {
   "cell_type": "code",
   "execution_count": 108,
   "metadata": {},
   "outputs": [],
   "source": [
    "data['Q6'] = data['Q6'].astype('category')\n",
    "data['Q6'] = data['Q6'].cat.rename_categories({1 : \"Plus de bénéfices que de risques\"\n",
    "                                                 , 2 : \"Plus de risques que de bénéfices\"\n",
    "                                                 , 3 : \"Autant de risques que de bénéfices\"})"
   ]
  },
  {
   "cell_type": "code",
   "execution_count": 109,
   "metadata": {},
   "outputs": [],
   "source": [
    "#changer l'order des categories de la variable 'Q6'\n",
    "data['Q6'] = pd.Categorical(data['Q6'], \n",
    "                            categories=['Plus de risques que de bénéfices'\n",
    "                                        , 'Autant de risques que de bénéfices'\n",
    "                                        , 'Plus de bénéfices que de risques'], \n",
    "                            ordered=True)"
   ]
  },
  {
   "cell_type": "code",
   "execution_count": 110,
   "metadata": {},
   "outputs": [
    {
     "data": {
      "text/plain": [
       "Q10_0\n",
       "2    607\n",
       "1    491\n",
       "3    102\n",
       "4     46\n",
       "Name: count, dtype: int64"
      ]
     },
     "execution_count": 110,
     "metadata": {},
     "output_type": "execute_result"
    }
   ],
   "source": [
    "# Variable 'Q10_0'\n",
    "# Question : En matière d’information sur les vaccins, diriez-vous que vous faites personnellement tout à fait confiance, plutôt confiance, plutôt pas confiance ou pas du tout confiance : A votre médecin traitant\n",
    "data['Q10_0'].value_counts()"
   ]
  },
  {
   "cell_type": "code",
   "execution_count": 111,
   "metadata": {},
   "outputs": [
    {
     "data": {
      "text/plain": [
       "Q10_1\n",
       "2    700\n",
       "1    327\n",
       "3    146\n",
       "4     73\n",
       "Name: count, dtype: int64"
      ]
     },
     "execution_count": 111,
     "metadata": {},
     "output_type": "execute_result"
    }
   ],
   "source": [
    "# Variable 'Q10_1'\n",
    "# Question : En matière d’information sur les vaccins, diriez-vous que vous faites personnellement tout à fait confiance, plutôt confiance, plutôt pas confiance ou pas du tout confiance : Aux pédiatres\n",
    "data['Q10_1'].value_counts()"
   ]
  },
  {
   "cell_type": "code",
   "execution_count": 112,
   "metadata": {},
   "outputs": [
    {
     "data": {
      "text/plain": [
       "Q10_2\n",
       "2    699\n",
       "1    364\n",
       "3    124\n",
       "4     59\n",
       "Name: count, dtype: int64"
      ]
     },
     "execution_count": 112,
     "metadata": {},
     "output_type": "execute_result"
    }
   ],
   "source": [
    "# Variable 'Q10_2'\n",
    "# Question : En matière d’information sur les vaccins, diriez-vous que vous faites personnellement tout à fait confiance, plutôt confiance, plutôt pas confiance ou pas du tout confiance : Aux médecins spécialistes\n",
    "data['Q10_2'].value_counts()"
   ]
  },
  {
   "cell_type": "code",
   "execution_count": 113,
   "metadata": {},
   "outputs": [
    {
     "data": {
      "text/plain": [
       "Q10_3\n",
       "2    756\n",
       "1    263\n",
       "3    164\n",
       "4     63\n",
       "Name: count, dtype: int64"
      ]
     },
     "execution_count": 113,
     "metadata": {},
     "output_type": "execute_result"
    }
   ],
   "source": [
    "# Variable 'Q10_3'\n",
    "# Question : En matière d’information sur les vaccins, diriez-vous que vous faites personnellement tout à fait confiance, plutôt confiance, plutôt pas confiance ou pas du tout confiance : Aux pharmaciens\n",
    "data['Q10_3'].value_counts()"
   ]
  },
  {
   "cell_type": "code",
   "execution_count": 114,
   "metadata": {},
   "outputs": [
    {
     "data": {
      "text/plain": [
       "Q10_4\n",
       "2    699\n",
       "1    376\n",
       "3    132\n",
       "4     39\n",
       "Name: count, dtype: int64"
      ]
     },
     "execution_count": 114,
     "metadata": {},
     "output_type": "execute_result"
    }
   ],
   "source": [
    "# Variable 'Q10_4'\n",
    "# Question : En matière d’information sur les vaccins, diriez-vous que vous faites personnellement tout à fait confiance, plutôt confiance, plutôt pas confiance ou pas du tout confiance : Aux infirmières\n",
    "data['Q10_4'].value_counts()"
   ]
  },
  {
   "cell_type": "code",
   "execution_count": 115,
   "metadata": {},
   "outputs": [
    {
     "data": {
      "text/plain": [
       "Q10_5\n",
       "2    473\n",
       "3    431\n",
       "4    261\n",
       "1     81\n",
       "Name: count, dtype: int64"
      ]
     },
     "execution_count": 115,
     "metadata": {},
     "output_type": "execute_result"
    }
   ],
   "source": [
    "# Variable 'Q10_5'\n",
    "# Question : En matière d’information sur les vaccins, diriez-vous que vous faites personnellement tout à fait confiance, plutôt confiance, plutôt pas confiance ou pas du tout confiance : Aux autorités de santé/Aux pouvoirs publics\n",
    "data['Q10_5'].value_counts()"
   ]
  },
  {
   "cell_type": "code",
   "execution_count": 116,
   "metadata": {},
   "outputs": [
    {
     "data": {
      "text/plain": [
       "Q10_6\n",
       "2    748\n",
       "1    271\n",
       "3    168\n",
       "4     59\n",
       "Name: count, dtype: int64"
      ]
     },
     "execution_count": 116,
     "metadata": {},
     "output_type": "execute_result"
    }
   ],
   "source": [
    "# Variable 'Q10_6'\n",
    "# Question : En matière d’information sur les vaccins, diriez-vous que vous faites personnellement tout à fait confiance, plutôt confiance, plutôt pas confiance ou pas du tout confiance : Aux chercheurs\n",
    "data['Q10_6'].value_counts()"
   ]
  },
  {
   "cell_type": "code",
   "execution_count": 117,
   "metadata": {},
   "outputs": [
    {
     "data": {
      "text/plain": [
       "Q10_7\n",
       "2    750\n",
       "3    273\n",
       "1    146\n",
       "4     77\n",
       "Name: count, dtype: int64"
      ]
     },
     "execution_count": 117,
     "metadata": {},
     "output_type": "execute_result"
    }
   ],
   "source": [
    "# Variable 'Q10_7'\n",
    "# Question : En matière d’information sur les vaccins, diriez-vous que vous faites personnellement tout à fait confiance, plutôt confiance, plutôt pas confiance ou pas du tout confiance : Aux associations de patients\n",
    "data['Q10_7'].value_counts()"
   ]
  },
  {
   "cell_type": "code",
   "execution_count": 118,
   "metadata": {},
   "outputs": [
    {
     "data": {
      "text/plain": [
       "Q10_8\n",
       "2    702\n",
       "3    297\n",
       "1    129\n",
       "4    118\n",
       "Name: count, dtype: int64"
      ]
     },
     "execution_count": 118,
     "metadata": {},
     "output_type": "execute_result"
    }
   ],
   "source": [
    "# Variable 'Q10_8'\n",
    "# Question : En matière d’information sur les vaccins, diriez-vous que vous faites personnellement tout à fait confiance, plutôt confiance, plutôt pas confiance ou pas du tout confiance : Aux notices des vaccins\n",
    "data['Q10_8'].value_counts()"
   ]
  },
  {
   "cell_type": "code",
   "execution_count": 119,
   "metadata": {},
   "outputs": [
    {
     "data": {
      "text/plain": [
       "Q10_9\n",
       "3    480\n",
       "2    447\n",
       "4    256\n",
       "1     63\n",
       "Name: count, dtype: int64"
      ]
     },
     "execution_count": 119,
     "metadata": {},
     "output_type": "execute_result"
    }
   ],
   "source": [
    "# Variable 'Q10_9'\n",
    "# Question : En matière d’information sur les vaccins, diriez-vous que vous faites personnellement tout à fait confiance, plutôt confiance, plutôt pas confiance ou pas du tout confiance : Aux entreprises du médicament\n",
    "data['Q10_9'].value_counts()"
   ]
  },
  {
   "cell_type": "code",
   "execution_count": 120,
   "metadata": {},
   "outputs": [
    {
     "data": {
      "text/plain": [
       "Q10_10\n",
       "4    540\n",
       "3    451\n",
       "2    227\n",
       "1     28\n",
       "Name: count, dtype: int64"
      ]
     },
     "execution_count": 120,
     "metadata": {},
     "output_type": "execute_result"
    }
   ],
   "source": [
    "# Variable 'Q10_10'\n",
    "# Question : En matière d’information sur les vaccins, diriez-vous que vous faites personnellement tout à fait confiance, plutôt confiance, plutôt pas confiance ou pas du tout confiance : Aux responsables politiques\n",
    "data['Q10_10'].value_counts()"
   ]
  },
  {
   "cell_type": "code",
   "execution_count": 121,
   "metadata": {},
   "outputs": [
    {
     "data": {
      "text/plain": [
       "Q10_11\n",
       "3    621\n",
       "4    299\n",
       "2    290\n",
       "1     36\n",
       "Name: count, dtype: int64"
      ]
     },
     "execution_count": 121,
     "metadata": {},
     "output_type": "execute_result"
    }
   ],
   "source": [
    "# Variable 'Q10_11'\n",
    "# Question : En matière d’information sur les vaccins, diriez-vous que vous faites personnellement tout à fait confiance, plutôt confiance, plutôt pas confiance ou pas du tout confiance : A internet\n",
    "data['Q10_11'].value_counts()"
   ]
  },
  {
   "cell_type": "code",
   "execution_count": 122,
   "metadata": {},
   "outputs": [
    {
     "data": {
      "text/plain": [
       "Q10_12\n",
       "3    525\n",
       "2    480\n",
       "4    211\n",
       "1     30\n",
       "Name: count, dtype: int64"
      ]
     },
     "execution_count": 122,
     "metadata": {},
     "output_type": "execute_result"
    }
   ],
   "source": [
    "# Variable 'Q10_12'\n",
    "# Question : En matière d’information sur les vaccins, diriez-vous que vous faites personnellement tout à fait confiance, plutôt confiance, plutôt pas confiance ou pas du tout confiance : A la presse écrite\n",
    "data['Q10_12'].value_counts()"
   ]
  },
  {
   "cell_type": "code",
   "execution_count": 123,
   "metadata": {},
   "outputs": [
    {
     "data": {
      "text/plain": [
       "Q10_13\n",
       "3    560\n",
       "2    381\n",
       "4    274\n",
       "1     31\n",
       "Name: count, dtype: int64"
      ]
     },
     "execution_count": 123,
     "metadata": {},
     "output_type": "execute_result"
    }
   ],
   "source": [
    "# Variable 'Q10_13'\n",
    "# Question : En matière d’information sur les vaccins, diriez-vous que vous faites personnellement tout à fait confiance, plutôt confiance, plutôt pas confiance ou pas du tout confiance : A la télévision \n",
    "data['Q10_13'].value_counts()"
   ]
  },
  {
   "cell_type": "code",
   "execution_count": 124,
   "metadata": {},
   "outputs": [
    {
     "data": {
      "text/plain": [
       "Q10_14\n",
       "3    561\n",
       "2    428\n",
       "4    223\n",
       "1     34\n",
       "Name: count, dtype: int64"
      ]
     },
     "execution_count": 124,
     "metadata": {},
     "output_type": "execute_result"
    }
   ],
   "source": [
    "# Variable 'Q10_14'\n",
    "# Question : En matière d’information sur les vaccins, diriez-vous que vous faites personnellement tout à fait confiance, plutôt confiance, plutôt pas confiance ou pas du tout confiance : A la radio\n",
    "data['Q10_14'].value_counts()"
   ]
  },
  {
   "cell_type": "code",
   "execution_count": 125,
   "metadata": {},
   "outputs": [
    {
     "data": {
      "text/plain": [
       "Q10_15\n",
       "2    734\n",
       "3    248\n",
       "1    189\n",
       "4     75\n",
       "Name: count, dtype: int64"
      ]
     },
     "execution_count": 125,
     "metadata": {},
     "output_type": "execute_result"
    }
   ],
   "source": [
    "# Variable 'Q10_15'\n",
    "# Question : En matière d’information sur les vaccins, diriez-vous que vous faites personnellement tout à fait confiance, plutôt confiance, plutôt pas confiance ou pas du tout confiance : A votre entourage \n",
    "data['Q10_15'].value_counts()"
   ]
  },
  {
   "cell_type": "code",
   "execution_count": 126,
   "metadata": {},
   "outputs": [
    {
     "data": {
      "text/plain": [
       "Q10_16\n",
       "2    550\n",
       "3    487\n",
       "4    151\n",
       "1     58\n",
       "Name: count, dtype: int64"
      ]
     },
     "execution_count": 126,
     "metadata": {},
     "output_type": "execute_result"
    }
   ],
   "source": [
    "# Variable 'Q10_16'\n",
    "# Question : En matière d’information sur les vaccins, diriez-vous que vous faites personnellement tout à fait confiance, plutôt confiance, plutôt pas confiance ou pas du tout confiance : Aux livres publiés sur les vaccins\n",
    "data['Q10_16'].value_counts()"
   ]
  },
  {
   "cell_type": "code",
   "execution_count": 127,
   "metadata": {},
   "outputs": [
    {
     "data": {
      "text/plain": [
       "Q10_17\n",
       "2    725\n",
       "1    316\n",
       "3    144\n",
       "4     61\n",
       "Name: count, dtype: int64"
      ]
     },
     "execution_count": 127,
     "metadata": {},
     "output_type": "execute_result"
    }
   ],
   "source": [
    "# Variable 'Q10_17'\n",
    "# Question : En matière d’information sur les vaccins, diriez-vous que vous faites personnellement tout à fait confiance, plutôt confiance, plutôt pas confiance ou pas du tout confiance : Aux médecins qui exercent à l’hôpital\n",
    "data['Q10_17'].value_counts()"
   ]
  },
  {
   "cell_type": "code",
   "execution_count": 128,
   "metadata": {},
   "outputs": [
    {
     "data": {
      "text/plain": [
       "Q10_18\n",
       "2    566\n",
       "3    391\n",
       "4    159\n",
       "1    130\n",
       "Name: count, dtype: int64"
      ]
     },
     "execution_count": 128,
     "metadata": {},
     "output_type": "execute_result"
    }
   ],
   "source": [
    "# Variable 'Q10_18'\n",
    "# Question : En matière d’information sur les vaccins, diriez-vous que vous faites personnellement tout à fait confiance, plutôt confiance, plutôt pas confiance ou pas du tout confiance : Aux lanceurs d’alerte de l’opinion publique\n",
    "data['Q10_18'].value_counts()"
   ]
  },
  {
   "cell_type": "code",
   "execution_count": 129,
   "metadata": {},
   "outputs": [],
   "source": [
    "data[['Q10_0', 'Q10_1', 'Q10_2', 'Q10_3', 'Q10_4', 'Q10_5', 'Q10_6', 'Q10_7', 'Q10_8', 'Q10_9', 'Q10_10', 'Q10_11', 'Q10_12', 'Q10_13', 'Q10_14', 'Q10_15', 'Q10_16', 'Q10_17', 'Q10_18']] = data[['Q10_0', 'Q10_1', 'Q10_2', 'Q10_3', 'Q10_4', 'Q10_5', 'Q10_6', 'Q10_7', 'Q10_8', 'Q10_9', 'Q10_10', 'Q10_11', 'Q10_12', 'Q10_13', 'Q10_14', 'Q10_15', 'Q10_16', 'Q10_17', 'Q10_18']].astype('category')"
   ]
  },
  {
   "cell_type": "code",
   "execution_count": 130,
   "metadata": {},
   "outputs": [],
   "source": [
    "ItemsQ10 = ['Q10_0', 'Q10_1', 'Q10_2', 'Q10_3', 'Q10_4', 'Q10_5', 'Q10_6', 'Q10_7', 'Q10_8', 'Q10_9', 'Q10_10', 'Q10_11', 'Q10_12', 'Q10_13', 'Q10_14', 'Q10_15', 'Q10_16', 'Q10_17', 'Q10_18']"
   ]
  },
  {
   "cell_type": "code",
   "execution_count": 131,
   "metadata": {},
   "outputs": [],
   "source": [
    "for i in data[ItemsQ10].columns:\n",
    "    data[i] = data[i].cat.rename_categories({1: \"Tout à fait confiance\"\n",
    "                                                 , 2 : \"Plutôt confiance\"\n",
    "                                                 , 3 : \"Plutôt pas confiance\"\n",
    "                                                 , 4 : \"Pas du tout confiance\"})"
   ]
  },
  {
   "cell_type": "code",
   "execution_count": 132,
   "metadata": {},
   "outputs": [],
   "source": [
    "#changer l'order des categories\n",
    "for i in data[ItemsQ10].columns:\n",
    "    data[i] = pd.Categorical(data[i], \n",
    "                            categories=['Pas du tout confiance'\n",
    "                                        , 'Plutôt pas confiance'\n",
    "                                        , 'Plutôt confiance'\n",
    "                                       , 'Tout à fait confiance'], \n",
    "                            ordered=True)"
   ]
  },
  {
   "cell_type": "code",
   "execution_count": 133,
   "metadata": {},
   "outputs": [
    {
     "data": {
      "text/plain": [
       "Q13\n",
       "2    539\n",
       "3    516\n",
       "4    160\n",
       "1     31\n",
       "Name: count, dtype: int64"
      ]
     },
     "execution_count": 133,
     "metadata": {},
     "output_type": "execute_result"
    }
   ],
   "source": [
    "# Variable 'Q13'\n",
    "# Question : Globalement, vous diriez que vous avez une bonne ou une mauvaise image des entreprises du médicament\n",
    "data['Q13'].value_counts()"
   ]
  },
  {
   "cell_type": "code",
   "execution_count": 134,
   "metadata": {},
   "outputs": [],
   "source": [
    "data['Q13'] = data['Q13'].astype('category')\n",
    "data['Q13'] = data['Q13'].cat.rename_categories({1 : \"Très bonne\"\n",
    "                                                 , 2 : \"Plutôt bonne\"\n",
    "                                                 , 3 : \"Plutôt mauvaise\"\n",
    "                                                 , 4 : \"Très mauvaise\"})"
   ]
  },
  {
   "cell_type": "code",
   "execution_count": 135,
   "metadata": {},
   "outputs": [],
   "source": [
    "#changer l'order des categories de la variable 'Q13'\n",
    "data['Q13'] = pd.Categorical(data['Q13'], \n",
    "                            categories=['Très mauvaise'\n",
    "                                        , 'Plutôt mauvaise'\n",
    "                                        , 'Plutôt bonne'\n",
    "                                       , 'Très bonne'], \n",
    "                            ordered=True)"
   ]
  },
  {
   "cell_type": "code",
   "execution_count": 136,
   "metadata": {},
   "outputs": [
    {
     "data": {
      "text/plain": [
       "Q14_0\n",
       "2    789\n",
       "3    227\n",
       "1    164\n",
       "4     66\n",
       "Name: count, dtype: int64"
      ]
     },
     "execution_count": 136,
     "metadata": {},
     "output_type": "execute_result"
    }
   ],
   "source": [
    "# Variable 'Q14_0'\n",
    "# Question : Etes-vous d’accord ou pas avec chacune des propositions suivantes ? Les entreprises du médicament sont des acteurs essentiels du système de santé français\n",
    "data['Q14_0'].value_counts()"
   ]
  },
  {
   "cell_type": "code",
   "execution_count": 137,
   "metadata": {},
   "outputs": [
    {
     "data": {
      "text/plain": [
       "Q14_1\n",
       "3    547\n",
       "2    390\n",
       "4    233\n",
       "1     76\n",
       "Name: count, dtype: int64"
      ]
     },
     "execution_count": 137,
     "metadata": {},
     "output_type": "execute_result"
    }
   ],
   "source": [
    "# Variable 'Q14_1'\n",
    "# Question : Etes-vous d’accord ou pas avec chacune des propositions suivantes ? Les entreprises du médicament sont très attentives aux risques d’effets secondaires de leurs traitements pour les résoudre\n",
    "data['Q14_1'].value_counts()"
   ]
  },
  {
   "cell_type": "code",
   "execution_count": 138,
   "metadata": {},
   "outputs": [
    {
     "data": {
      "text/plain": [
       "Q14_2\n",
       "2    771\n",
       "3    211\n",
       "1    190\n",
       "4     74\n",
       "Name: count, dtype: int64"
      ]
     },
     "execution_count": 138,
     "metadata": {},
     "output_type": "execute_result"
    }
   ],
   "source": [
    "# Variable 'Q14_2'\n",
    "# Question : Etes-vous d’accord ou pas avec chacune des propositions suivantes ? Les entreprises du médicament sont des acteurs essentiels de la recherche contre la maladie et de la découverte de nouveaux traitements\n",
    "data['Q14_2'].value_counts()"
   ]
  },
  {
   "cell_type": "code",
   "execution_count": 139,
   "metadata": {},
   "outputs": [
    {
     "data": {
      "text/plain": [
       "Q14_3\n",
       "2    680\n",
       "3    387\n",
       "4     95\n",
       "1     84\n",
       "Name: count, dtype: int64"
      ]
     },
     "execution_count": 139,
     "metadata": {},
     "output_type": "execute_result"
    }
   ],
   "source": [
    "# Variable 'Q14_3'\n",
    "# Question : Etes-vous d’accord ou pas avec chacune des propositions suivantes ? Les entreprises du médicament ont un impact positif sur l’emploi en France\n",
    "data['Q14_3'].value_counts()"
   ]
  },
  {
   "cell_type": "code",
   "execution_count": 140,
   "metadata": {},
   "outputs": [
    {
     "data": {
      "text/plain": [
       "Q14_4\n",
       "3    515\n",
       "2    510\n",
       "4    134\n",
       "1     87\n",
       "Name: count, dtype: int64"
      ]
     },
     "execution_count": 140,
     "metadata": {},
     "output_type": "execute_result"
    }
   ],
   "source": [
    "# Variable 'Q14_4'\n",
    "# Question : Etes-vous d’accord ou pas avec chacune des propositions suivantes ? Les entreprises du médicament permettent de prévenir l’apparition de nouvelles maladies\n",
    "data['Q14_4'].value_counts()"
   ]
  },
  {
   "cell_type": "code",
   "execution_count": 141,
   "metadata": {},
   "outputs": [
    {
     "data": {
      "text/plain": [
       "Q14_5\n",
       "2    693\n",
       "3    365\n",
       "1    122\n",
       "4     66\n",
       "Name: count, dtype: int64"
      ]
     },
     "execution_count": 141,
     "metadata": {},
     "output_type": "execute_result"
    }
   ],
   "source": [
    "# Variable 'Q14_5'\n",
    "# Question : Etes-vous d’accord ou pas avec chacune des propositions suivantes ? Les entreprises du médicament proposent de plus en plus de médicaments innovants\n",
    "data['Q14_5'].value_counts()"
   ]
  },
  {
   "cell_type": "code",
   "execution_count": 142,
   "metadata": {},
   "outputs": [
    {
     "data": {
      "text/plain": [
       "Q14_6\n",
       "2    695\n",
       "3    310\n",
       "1    149\n",
       "4     92\n",
       "Name: count, dtype: int64"
      ]
     },
     "execution_count": 142,
     "metadata": {},
     "output_type": "execute_result"
    }
   ],
   "source": [
    "# Variable 'Q14_6'\n",
    "# Question : Etes-vous d’accord ou pas avec chacune des propositions suivantes ? Les entreprises du médicament contribuent à l’allongement de la durée de vie\n",
    "data['Q14_6'].value_counts()"
   ]
  },
  {
   "cell_type": "code",
   "execution_count": 143,
   "metadata": {},
   "outputs": [],
   "source": [
    "data[['Q14_0', 'Q14_1', 'Q14_2', 'Q14_3', 'Q14_4', 'Q14_5', 'Q14_6']] = data[['Q14_0', 'Q14_1', 'Q14_2', 'Q14_3', 'Q14_4', 'Q14_5', 'Q14_6']].astype('category')"
   ]
  },
  {
   "cell_type": "code",
   "execution_count": 144,
   "metadata": {},
   "outputs": [],
   "source": [
    "ItemsQ14 = ['Q14_0', 'Q14_1', 'Q14_2', 'Q14_3', 'Q14_4', 'Q14_5', 'Q14_6']"
   ]
  },
  {
   "cell_type": "code",
   "execution_count": 145,
   "metadata": {},
   "outputs": [],
   "source": [
    "for i in data[ItemsQ14].columns:\n",
    "    data[i] = data[i].cat.rename_categories({1: \"Tout à fait d’accord\"\n",
    "                                                 , 2 : \"Plutôt d’accord\"\n",
    "                                                 , 3 : \"Plutôt pas d’accord\"\n",
    "                                                 , 4 : \"Pas du tout d’accord\"})"
   ]
  },
  {
   "cell_type": "code",
   "execution_count": 146,
   "metadata": {},
   "outputs": [],
   "source": [
    "#changer l'order des categories\n",
    "for i in data[ItemsQ14].columns:\n",
    "    data[i] = pd.Categorical(data[i], \n",
    "                            categories=['Pas du tout d’accord'\n",
    "                                        , 'Plutôt pas d’accord'\n",
    "                                        , 'Plutôt d’accord'\n",
    "                                       , 'Tout à fait d’accord'], \n",
    "                            ordered=True)"
   ]
  },
  {
   "cell_type": "code",
   "execution_count": 147,
   "metadata": {},
   "outputs": [
    {
     "data": {
      "text/plain": [
       "Q16_0\n",
       "2    625\n",
       "3    428\n",
       "4     97\n",
       "1     96\n",
       "Name: count, dtype: int64"
      ]
     },
     "execution_count": 147,
     "metadata": {},
     "output_type": "execute_result"
    }
   ],
   "source": [
    "# Variable 'Q16_0'\n",
    "# Question : Aujourd’hui, considérez-vous qu’il est facile ou pas en France d’avoir accès aux médicaments les plus innovants ? Pour vous-même\n",
    "data['Q16_0'].value_counts()"
   ]
  },
  {
   "cell_type": "code",
   "execution_count": 148,
   "metadata": {},
   "outputs": [
    {
     "data": {
      "text/plain": [
       "Q16_1\n",
       "2    573\n",
       "3    492\n",
       "4    105\n",
       "1     76\n",
       "Name: count, dtype: int64"
      ]
     },
     "execution_count": 148,
     "metadata": {},
     "output_type": "execute_result"
    }
   ],
   "source": [
    "# Variable 'Q16_1'\n",
    "# Question : Aujourd’hui, considérez-vous qu’il est facile ou pas en France d’avoir accès aux médicaments les plus innovants ? Pour les Français en général\n",
    "data['Q16_1'].value_counts()"
   ]
  },
  {
   "cell_type": "code",
   "execution_count": 149,
   "metadata": {},
   "outputs": [],
   "source": [
    "data[['Q16_0', 'Q16_1']] = data[['Q16_0', 'Q16_1']].astype('category')"
   ]
  },
  {
   "cell_type": "code",
   "execution_count": 150,
   "metadata": {},
   "outputs": [],
   "source": [
    "ItemsQ16 = ['Q16_0', 'Q16_1']"
   ]
  },
  {
   "cell_type": "code",
   "execution_count": 151,
   "metadata": {},
   "outputs": [],
   "source": [
    "for i in data[ItemsQ16].columns:\n",
    "    data[i] = data[i].cat.rename_categories({1: \"Très facile\"\n",
    "                                                 , 2 : \"Plutôt facile\"\n",
    "                                                 , 3 : \"Plutôt difficile\"\n",
    "                                                 , 4 : \"Très difficile\"})"
   ]
  },
  {
   "cell_type": "code",
   "execution_count": 152,
   "metadata": {},
   "outputs": [],
   "source": [
    "#changer l'order des categories\n",
    "for i in data[ItemsQ16].columns:\n",
    "    data[i] = pd.Categorical(data[i], \n",
    "                            categories=['Très difficile'\n",
    "                                        , 'Plutôt difficile'\n",
    "                                        , 'Plutôt facile'\n",
    "                                       , 'Très facile'], \n",
    "                            ordered=True)"
   ]
  },
  {
   "cell_type": "code",
   "execution_count": 153,
   "metadata": {},
   "outputs": [
    {
     "data": {
      "text/plain": [
       "Q18_0\n",
       "2    654\n",
       "3    352\n",
       "1    171\n",
       "4     69\n",
       "Name: count, dtype: int64"
      ]
     },
     "execution_count": 153,
     "metadata": {},
     "output_type": "execute_result"
    }
   ],
   "source": [
    "# Variable 'Q18_0'\n",
    "# Question : Etes-vous d’accord ou pas avec chacune des affirmations suivantes ? La recherche et le développement de nouveaux traitements coûtent de plus en plus chers aux entreprises du médicament\n",
    "data['Q18_0'].value_counts()"
   ]
  },
  {
   "cell_type": "code",
   "execution_count": 154,
   "metadata": {},
   "outputs": [
    {
     "data": {
      "text/plain": [
       "Q18_1\n",
       "3    500\n",
       "2    500\n",
       "4    179\n",
       "1     67\n",
       "Name: count, dtype: int64"
      ]
     },
     "execution_count": 154,
     "metadata": {},
     "output_type": "execute_result"
    }
   ],
   "source": [
    "# Variable 'Q18_1'\n",
    "# Question : Etes-vous d’accord ou pas avec chacune des affirmations suivantes ? 'Compte tenu des investissements financiers très importants qu’ils représentent, il est normal que certains traitements coûtent chers'\n",
    "data['Q18_1'].value_counts()"
   ]
  },
  {
   "cell_type": "code",
   "execution_count": 155,
   "metadata": {},
   "outputs": [
    {
     "data": {
      "text/plain": [
       "Q18_2\n",
       "2    640\n",
       "3    314\n",
       "1    224\n",
       "4     68\n",
       "Name: count, dtype: int64"
      ]
     },
     "execution_count": 155,
     "metadata": {},
     "output_type": "execute_result"
    }
   ],
   "source": [
    "# Variable 'Q18_2'\n",
    "# Question : Etes-vous d’accord ou pas avec chacune des affirmations suivantes ? Les contraintes administratives que doivent respecter les entreprises du médicament sont longues et ralentissent l’accès des malades aux nouveaux traitements\n",
    "data['Q18_2'].value_counts()"
   ]
  },
  {
   "cell_type": "code",
   "execution_count": 156,
   "metadata": {},
   "outputs": [],
   "source": [
    "data[['Q18_0', 'Q18_1', 'Q18_2']] = data[['Q18_0', 'Q18_1', 'Q18_2']].astype('category')"
   ]
  },
  {
   "cell_type": "code",
   "execution_count": 157,
   "metadata": {},
   "outputs": [],
   "source": [
    "ItemsQ18 = ['Q18_0', 'Q18_1', 'Q18_2']"
   ]
  },
  {
   "cell_type": "code",
   "execution_count": 158,
   "metadata": {},
   "outputs": [],
   "source": [
    "for i in data[ItemsQ18].columns:\n",
    "    data[i] = data[i].cat.rename_categories({1: \"Tout à fait d’accord\"\n",
    "                                                 , 2 : \"Plutôt d’accord\"\n",
    "                                                 , 3 : \"Plutôt pas d’accord\"\n",
    "                                                 , 4 : \"Pas du tout d’accord\"})"
   ]
  },
  {
   "cell_type": "code",
   "execution_count": 159,
   "metadata": {},
   "outputs": [],
   "source": [
    "#changer l'order des categories\n",
    "for i in data[ItemsQ18].columns:\n",
    "    data[i] = pd.Categorical(data[i], \n",
    "                            categories=['Pas du tout d’accord'\n",
    "                                        , 'Plutôt pas d’accord'\n",
    "                                        , 'Plutôt d’accord'\n",
    "                                       , 'Tout à fait d’accord'], \n",
    "                            ordered=True)"
   ]
  },
  {
   "cell_type": "code",
   "execution_count": 160,
   "metadata": {},
   "outputs": [
    {
     "data": {
      "text/plain": [
       "Q20_0\n",
       "3    514\n",
       "4    371\n",
       "2    302\n",
       "1     59\n",
       "Name: count, dtype: int64"
      ]
     },
     "execution_count": 160,
     "metadata": {},
     "output_type": "execute_result"
    }
   ],
   "source": [
    "# Variable 'Q20_0'\n",
    "# Question : A l’avenir, accepteriez-vous que des systèmes d’intelligence artificielle ou des robots fasse les choses suivantes … : Pose le diagnostic d’un problème de santé que vous rencontrez à la place d’un médecin\n",
    "data['Q20_0'].value_counts()"
   ]
  },
  {
   "cell_type": "code",
   "execution_count": 161,
   "metadata": {},
   "outputs": [
    {
     "data": {
      "text/plain": [
       "Q20_1\n",
       "3    512\n",
       "4    377\n",
       "2    300\n",
       "1     57\n",
       "Name: count, dtype: int64"
      ]
     },
     "execution_count": 161,
     "metadata": {},
     "output_type": "execute_result"
    }
   ],
   "source": [
    "# Variable 'Q20_1'\n",
    "# Question : A l’avenir, accepteriez-vous que des systèmes d’intelligence artificielle ou des robots fasse les choses suivantes … : Vous prescrive le médicament le plus adapté à votre problème de santé à la place de votre médecin\n",
    "data['Q20_1'].value_counts()"
   ]
  },
  {
   "cell_type": "code",
   "execution_count": 162,
   "metadata": {},
   "outputs": [
    {
     "data": {
      "text/plain": [
       "Q20_2\n",
       "2    452\n",
       "3    407\n",
       "4    298\n",
       "1     89\n",
       "Name: count, dtype: int64"
      ]
     },
     "execution_count": 162,
     "metadata": {},
     "output_type": "execute_result"
    }
   ],
   "source": [
    "# Variable 'Q20_2'\n",
    "# Question : A l’avenir, accepteriez-vous que des systèmes d’intelligence artificielle ou des robots fasse les choses suivantes … : Vous conseille des médicaments disponibles sans ordonnance adaptés à votre problème de santé\n",
    "data['Q20_2'].value_counts()"
   ]
  },
  {
   "cell_type": "code",
   "execution_count": 163,
   "metadata": {},
   "outputs": [
    {
     "data": {
      "text/plain": [
       "Q20_3\n",
       "2    588\n",
       "3    304\n",
       "4    240\n",
       "1    114\n",
       "Name: count, dtype: int64"
      ]
     },
     "execution_count": 163,
     "metadata": {},
     "output_type": "execute_result"
    }
   ],
   "source": [
    "# Variable 'Q20_3'\n",
    "# Question : A l’avenir, accepteriez-vous que des systèmes d’intelligence artificielle ou des robots fasse les choses suivantes … : 'Vous donne des conseils d’hygiène de vie et de bien-être pour améliorer votre état de santé (alimentation, activité physique)'\n",
    "data['Q20_3'].value_counts()"
   ]
  },
  {
   "cell_type": "code",
   "execution_count": 164,
   "metadata": {},
   "outputs": [
    {
     "data": {
      "text/plain": [
       "Q20_4\n",
       "2    459\n",
       "3    376\n",
       "4    316\n",
       "1     95\n",
       "Name: count, dtype: int64"
      ]
     },
     "execution_count": 164,
     "metadata": {},
     "output_type": "execute_result"
    }
   ],
   "source": [
    "# Variable 'Q20_4'\n",
    "# Question : A l’avenir, accepteriez-vous que des systèmes d’intelligence artificielle ou des robots fasse les choses suivantes … : Vous opère sous le contrôle d’une équipe médicale\n",
    "data['Q20_4'].value_counts()"
   ]
  },
  {
   "cell_type": "code",
   "execution_count": 165,
   "metadata": {},
   "outputs": [
    {
     "data": {
      "text/plain": [
       "Q20_5\n",
       "2    606\n",
       "3    266\n",
       "4    195\n",
       "1    179\n",
       "Name: count, dtype: int64"
      ]
     },
     "execution_count": 165,
     "metadata": {},
     "output_type": "execute_result"
    }
   ],
   "source": [
    "# Variable 'Q20_5'\n",
    "# Question : A l’avenir, accepteriez-vous que des systèmes d’intelligence artificielle ou des robots fasse les choses suivantes … : Vous oriente vers le professionnel de santé le plus adapté à votre problème de santé\n",
    "data['Q20_5'].value_counts()"
   ]
  },
  {
   "cell_type": "code",
   "execution_count": 166,
   "metadata": {},
   "outputs": [
    {
     "data": {
      "text/plain": [
       "Q20_6\n",
       "2    514\n",
       "3    327\n",
       "4    286\n",
       "1    119\n",
       "Name: count, dtype: int64"
      ]
     },
     "execution_count": 166,
     "metadata": {},
     "output_type": "execute_result"
    }
   ],
   "source": [
    "# Variable 'Q20_6'\n",
    "# Question : A l’avenir, accepteriez-vous que des systèmes d’intelligence artificielle ou des robots fasse les choses suivantes … : 'Ait accès à vos données de santé pour les analyser, les interpréter et les transmettre à votre médecin'\n",
    "data['Q20_6'].value_counts()"
   ]
  },
  {
   "cell_type": "code",
   "execution_count": 167,
   "metadata": {},
   "outputs": [],
   "source": [
    "data[['Q20_0', 'Q20_1', 'Q20_2', 'Q20_3', 'Q20_4', 'Q20_5', 'Q20_6']] = data[['Q20_0', 'Q20_1', 'Q20_2', 'Q20_3', 'Q20_4', 'Q20_5', 'Q20_6']].astype('category')"
   ]
  },
  {
   "cell_type": "code",
   "execution_count": 168,
   "metadata": {},
   "outputs": [],
   "source": [
    "ItemsQ20 = ['Q20_0', 'Q20_1', 'Q20_2', 'Q20_3', 'Q20_4', 'Q20_5', 'Q20_6']"
   ]
  },
  {
   "cell_type": "code",
   "execution_count": 169,
   "metadata": {},
   "outputs": [],
   "source": [
    "for i in data[ItemsQ20].columns:\n",
    "    data[i] = data[i].cat.rename_categories({1: \"Oui, tout à fait\"\n",
    "                                                 , 2 : \"Oui, plutôt\"\n",
    "                                                 , 3 : \"Non, plutôt pas\"\n",
    "                                                 , 4 : \"Non, pas du tout\"})"
   ]
  },
  {
   "cell_type": "code",
   "execution_count": 170,
   "metadata": {},
   "outputs": [],
   "source": [
    "#changer l'order des categories\n",
    "for i in data[ItemsQ20].columns:\n",
    "    data[i] = pd.Categorical(data[i], \n",
    "                            categories=['Non, pas du tout'\n",
    "                                        , 'Non, plutôt pas'\n",
    "                                        , 'Oui, plutôt'\n",
    "                                       , 'Oui, tout à fait'], \n",
    "                            ordered=True)"
   ]
  },
  {
   "cell_type": "code",
   "execution_count": 171,
   "metadata": {},
   "outputs": [
    {
     "data": {
      "text/plain": [
       "Q22\n",
       "2    583\n",
       "1    294\n",
       "3    261\n",
       "4    108\n",
       "Name: count, dtype: int64"
      ]
     },
     "execution_count": 171,
     "metadata": {},
     "output_type": "execute_result"
    }
   ],
   "source": [
    "# Variable 'Q22'\n",
    "# Question : Il est aujourd’hui possible d’identifier les gênes responsables de certaines  maladies*. Vous-même, vous souhaiteriez connaitre le niveau de risques que vous avez de développer des maladies grâce à l’analyse de votre profil génétique ?\n",
    "data['Q22'].value_counts()"
   ]
  },
  {
   "cell_type": "code",
   "execution_count": 172,
   "metadata": {},
   "outputs": [],
   "source": [
    "data['Q22'] = data['Q22'].astype('category')\n",
    "data['Q22'] = data['Q22'].cat.rename_categories({1 : \"Oui, certainement\"\n",
    "                                                 , 2 : \"Oui, probablement\"\n",
    "                                                 , 3 : \"Non, probablement pas\"\n",
    "                                                 , 4 : \"Non, certainement pas\"})"
   ]
  },
  {
   "cell_type": "code",
   "execution_count": 173,
   "metadata": {},
   "outputs": [],
   "source": [
    "#changer l'order des categories de la variable 'Q22'\n",
    "data['Q22'] = pd.Categorical(data['Q22'], \n",
    "                            categories=['Non, certainement pas'\n",
    "                                        , 'Non, probablement pas'\n",
    "                                        , 'Oui, probablement'\n",
    "                                       , 'Oui, certainement'], \n",
    "                            ordered=True)"
   ]
  },
  {
   "cell_type": "code",
   "execution_count": 174,
   "metadata": {},
   "outputs": [
    {
     "data": {
      "text/plain": [
       "Q23_0\n",
       "2    648\n",
       "1    456\n",
       "3    110\n",
       "4     32\n",
       "Name: count, dtype: int64"
      ]
     },
     "execution_count": 174,
     "metadata": {},
     "output_type": "execute_result"
    }
   ],
   "source": [
    "# Variable 'Q23_0'\n",
    "# Question : Selon vous, les entreprises du médicament sont-elles légitimes pour : Investir dans la recherche pour développer des traitements innovants\n",
    "data['Q23_0'].value_counts()"
   ]
  },
  {
   "cell_type": "code",
   "execution_count": 175,
   "metadata": {},
   "outputs": [
    {
     "data": {
      "text/plain": [
       "Q23_1\n",
       "2    711\n",
       "1    284\n",
       "3    178\n",
       "4     73\n",
       "Name: count, dtype: int64"
      ]
     },
     "execution_count": 175,
     "metadata": {},
     "output_type": "execute_result"
    }
   ],
   "source": [
    "# Variable 'Q23_1'\n",
    "# Question : Selon vous, les entreprises du médicament sont-elles légitimes pour : Mener des essais cliniques pour tester de futurs médicaments\n",
    "data['Q23_1'].value_counts()"
   ]
  },
  {
   "cell_type": "code",
   "execution_count": 176,
   "metadata": {},
   "outputs": [
    {
     "data": {
      "text/plain": [
       "Q23_2\n",
       "2    648\n",
       "1    380\n",
       "3    164\n",
       "4     54\n",
       "Name: count, dtype: int64"
      ]
     },
     "execution_count": 176,
     "metadata": {},
     "output_type": "execute_result"
    }
   ],
   "source": [
    "# Variable 'Q23_2'\n",
    "# Question : Selon vous, les entreprises du médicament sont-elles légitimes pour : Informer les professionnels de santé sur les médicaments\n",
    "data['Q23_2'].value_counts()"
   ]
  },
  {
   "cell_type": "code",
   "execution_count": 177,
   "metadata": {},
   "outputs": [
    {
     "data": {
      "text/plain": [
       "Q23_3\n",
       "2    657\n",
       "1    272\n",
       "3    244\n",
       "4     73\n",
       "Name: count, dtype: int64"
      ]
     },
     "execution_count": 177,
     "metadata": {},
     "output_type": "execute_result"
    }
   ],
   "source": [
    "# Variable 'Q23_3'\n",
    "# Question : Selon vous, les entreprises du médicament sont-elles légitimes pour : Informer les patients sur les traitements pour soigner leurs maladies\n",
    "data['Q23_3'].value_counts()"
   ]
  },
  {
   "cell_type": "code",
   "execution_count": 178,
   "metadata": {},
   "outputs": [
    {
     "data": {
      "text/plain": [
       "Q23_4\n",
       "2    538\n",
       "1    437\n",
       "3    190\n",
       "4     81\n",
       "Name: count, dtype: int64"
      ]
     },
     "execution_count": 178,
     "metadata": {},
     "output_type": "execute_result"
    }
   ],
   "source": [
    "# Variable 'Q23_4'\n",
    "# Question : Selon vous, les entreprises du médicament sont-elles légitimes pour : Garantir la sécurité des médicaments\n",
    "data['Q23_4'].value_counts()"
   ]
  },
  {
   "cell_type": "code",
   "execution_count": 179,
   "metadata": {},
   "outputs": [
    {
     "data": {
      "text/plain": [
       "Q23_5\n",
       "2    626\n",
       "3    291\n",
       "1    192\n",
       "4    137\n",
       "Name: count, dtype: int64"
      ]
     },
     "execution_count": 179,
     "metadata": {},
     "output_type": "execute_result"
    }
   ],
   "source": [
    "# Variable 'Q23_5'\n",
    "# Question : Selon vous, les entreprises du médicament sont-elles légitimes pour : Soutenir les associations de patients dans leurs actions\n",
    "data['Q23_5'].value_counts()"
   ]
  },
  {
   "cell_type": "code",
   "execution_count": 180,
   "metadata": {},
   "outputs": [
    {
     "data": {
      "text/plain": [
       "Q23_6\n",
       "2    645\n",
       "3    314\n",
       "1    178\n",
       "4    109\n",
       "Name: count, dtype: int64"
      ]
     },
     "execution_count": 180,
     "metadata": {},
     "output_type": "execute_result"
    }
   ],
   "source": [
    "# Variable 'Q23_6'\n",
    "# Question : Selon vous, les entreprises du médicament sont-elles légitimes pour : Participer aux débats d’idées sur les enjeux actuels et à venir du système de santé\n",
    "data['Q23_6'].value_counts()"
   ]
  },
  {
   "cell_type": "code",
   "execution_count": 181,
   "metadata": {},
   "outputs": [
    {
     "data": {
      "text/plain": [
       "Q23_7\n",
       "2    664\n",
       "3    307\n",
       "1    164\n",
       "4    111\n",
       "Name: count, dtype: int64"
      ]
     },
     "execution_count": 181,
     "metadata": {},
     "output_type": "execute_result"
    }
   ],
   "source": [
    "# Variable 'Q23_7'\n",
    "# Question : Selon vous, les entreprises du médicament sont-elles légitimes pour : 'Conseiller sur les bons comportements à adopter pour rester en bonne santé (alimentation, activité physique)'\n",
    "data['Q23_7'].value_counts()"
   ]
  },
  {
   "cell_type": "code",
   "execution_count": 182,
   "metadata": {},
   "outputs": [
    {
     "data": {
      "text/plain": [
       "Q23_8\n",
       "2    665\n",
       "3    288\n",
       "1    215\n",
       "4     78\n",
       "Name: count, dtype: int64"
      ]
     },
     "execution_count": 182,
     "metadata": {},
     "output_type": "execute_result"
    }
   ],
   "source": [
    "# Variable 'Q23_8'\n",
    "# Question : Selon vous, les entreprises du médicament sont-elles légitimes pour : Conseiller sur les bons comportements à adopter pour prévenir le risque de développer certaines maladies\n",
    "data['Q23_8'].value_counts()"
   ]
  },
  {
   "cell_type": "code",
   "execution_count": 183,
   "metadata": {},
   "outputs": [
    {
     "data": {
      "text/plain": [
       "Q23_9\n",
       "2    571\n",
       "3    281\n",
       "1    271\n",
       "4    123\n",
       "Name: count, dtype: int64"
      ]
     },
     "execution_count": 183,
     "metadata": {},
     "output_type": "execute_result"
    }
   ],
   "source": [
    "# Variable 'Q23_9'\n",
    "# Question : Selon vous, les entreprises du médicament sont-elles légitimes pour : Agir efficacement en faveur de la protection de l’environnement\n",
    "data['Q23_9'].value_counts()"
   ]
  },
  {
   "cell_type": "code",
   "execution_count": 184,
   "metadata": {},
   "outputs": [
    {
     "data": {
      "text/plain": [
       "Q23_10\n",
       "2    538\n",
       "1    329\n",
       "3    259\n",
       "4    120\n",
       "Name: count, dtype: int64"
      ]
     },
     "execution_count": 184,
     "metadata": {},
     "output_type": "execute_result"
    }
   ],
   "source": [
    "# Variable 'Q23_10'\n",
    "# Question : Selon vous, les entreprises du médicament sont-elles légitimes pour : Délivrer des informations objectives et transparentes en cas de crise liée à un médicament\n",
    "data['Q23_10'].value_counts()"
   ]
  },
  {
   "cell_type": "code",
   "execution_count": 185,
   "metadata": {},
   "outputs": [
    {
     "data": {
      "text/plain": [
       "Q23_11\n",
       "2    728\n",
       "1    269\n",
       "3    185\n",
       "4     64\n",
       "Name: count, dtype: int64"
      ]
     },
     "execution_count": 185,
     "metadata": {},
     "output_type": "execute_result"
    }
   ],
   "source": [
    "# Variable 'Q23_11'\n",
    "# Question : Selon vous, les entreprises du médicament sont-elles légitimes pour : Soutenir la recherche publique en menant des partenariats public / privé\n",
    "data['Q23_11'].value_counts()"
   ]
  },
  {
   "cell_type": "code",
   "execution_count": 186,
   "metadata": {},
   "outputs": [],
   "source": [
    "data[['Q23_0', 'Q23_1', 'Q23_2', 'Q23_3', 'Q23_4', 'Q23_5', 'Q23_6', 'Q23_7', 'Q23_8', 'Q23_9', 'Q23_10', 'Q23_11']] = data[['Q23_0', 'Q23_1', 'Q23_2', 'Q23_3', 'Q23_4', 'Q23_5', 'Q23_6', 'Q23_7', 'Q23_8', 'Q23_9', 'Q23_10', 'Q23_11']].astype('category')"
   ]
  },
  {
   "cell_type": "code",
   "execution_count": 187,
   "metadata": {},
   "outputs": [],
   "source": [
    "ItemsQ23 = ['Q23_0', 'Q23_1', 'Q23_2', 'Q23_3', 'Q23_4', 'Q23_5', 'Q23_6', 'Q23_7', 'Q23_8', 'Q23_9', 'Q23_10', 'Q23_11']"
   ]
  },
  {
   "cell_type": "code",
   "execution_count": 188,
   "metadata": {},
   "outputs": [],
   "source": [
    "for i in data[ItemsQ23].columns:\n",
    "    data[i] = data[i].cat.rename_categories({1: \"Oui, tout à fait\"\n",
    "                                                 , 2 : \"Oui, plutôt\"\n",
    "                                                 , 3 : \"Non, plutôt pas\"\n",
    "                                                 , 4 : \"Non, pas du tout\"})"
   ]
  },
  {
   "cell_type": "code",
   "execution_count": 189,
   "metadata": {},
   "outputs": [],
   "source": [
    "#changer l'order des categories\n",
    "for i in data[ItemsQ23].columns:\n",
    "    data[i] = pd.Categorical(data[i], \n",
    "                            categories=['Non, pas du tout'\n",
    "                                        , 'Non, plutôt pas'\n",
    "                                        , 'Oui, plutôt'\n",
    "                                       , 'Oui, tout à fait'], \n",
    "                            ordered=True)"
   ]
  },
  {
   "cell_type": "code",
   "execution_count": 190,
   "metadata": {},
   "outputs": [
    {
     "data": {
      "text/plain": [
       "Q29\n",
       "3    812\n",
       "2    251\n",
       "1    183\n",
       "Name: count, dtype: int64"
      ]
     },
     "execution_count": 190,
     "metadata": {},
     "output_type": "execute_result"
    }
   ],
   "source": [
    "# Variable 'Q29'\n",
    "# Question : Ces six derniers mois, il vous est arrivé de venir chercher des médicaments à la pharmacie et qu’ils ne soient pas disponibles pour une durée indéterminée en raison d’une rupture de stock?\n",
    "data['Q29'].value_counts()"
   ]
  },
  {
   "cell_type": "code",
   "execution_count": 191,
   "metadata": {},
   "outputs": [],
   "source": [
    "data['Q29'] = data['Q29'].astype('category')\n",
    "data['Q29'] = data['Q29'].cat.rename_categories({1 : \"Oui, plusieurs fois\"\n",
    "                                                 , 2 : \"Oui, une fois\"\n",
    "                                                 , 3 : \"Non, jamais\"})"
   ]
  },
  {
   "cell_type": "code",
   "execution_count": 192,
   "metadata": {},
   "outputs": [],
   "source": [
    "#changer l'order des categories de la variable 'Q29'\n",
    "data['Q29'] = pd.Categorical(data['Q29'], \n",
    "                            categories=['Non, jamais'\n",
    "                                        , 'Oui, une fois'\n",
    "                                        , 'Oui, plusieurs fois'], \n",
    "                            ordered=True)"
   ]
  },
  {
   "cell_type": "code",
   "execution_count": 193,
   "metadata": {},
   "outputs": [
    {
     "data": {
      "text/plain": [
       "Q30\n",
       "     812\n",
       "1    237\n",
       "3     98\n",
       "2     42\n",
       "4     40\n",
       "5     17\n",
       "Name: count, dtype: int64"
      ]
     },
     "execution_count": 193,
     "metadata": {},
     "output_type": "execute_result"
    }
   ],
   "source": [
    "# Variable 'Q30'\n",
    "# Question : A qui en attribuez-vous la responsabilité ?\n",
    "data['Q30'].value_counts()"
   ]
  },
  {
   "cell_type": "code",
   "execution_count": 194,
   "metadata": {},
   "outputs": [],
   "source": [
    "data['Q30'] = data['Q30'].astype('category')\n",
    "data['Q30'] = data['Q30'].cat.rename_categories({' ' : \" \"\n",
    "                                                 , '1' : \"Les entreprises du médicament\"\n",
    "                                                 , '2' : \"Le pharmacien\"\n",
    "                                                 , '3' : \"Les entreprises en charge de la distribution des médicaments\"\n",
    "                                                 , '4' : \"Les autorités de santé\"\n",
    "                                                 , '5' : \"Les médecins\"})"
   ]
  },
  {
   "cell_type": "code",
   "execution_count": 195,
   "metadata": {},
   "outputs": [],
   "source": [
    "#changer l'order des categories de la variable 'Q30'\n",
    "data['Q30'] = pd.Categorical(data['Q30'], \n",
    "                            categories=['Les entreprises du médicament'\n",
    "                                        , 'Le pharmacien'\n",
    "                                        , 'Les entreprises en charge de la distribution des médicaments'\n",
    "                                        , 'Les autorités de santé'\n",
    "                                        , 'Les médecins'\n",
    "                                        , ' '], \n",
    "                            ordered=True)"
   ]
  },
  {
   "cell_type": "code",
   "execution_count": 207,
   "metadata": {},
   "outputs": [],
   "source": [
    "B = ['RS1_0', 'RS1_1', 'RS2A', 'RS2B', 'Q1', 'Q2', 'Q3_0', 'Q3_1', 'Q3_2', 'Q3_3', 'Q3_4', 'Q3_5', 'Q4_0', 'Q4_1', 'Q4_2', 'Q4_3'\n",
    "     , 'Q5_0', 'Q5_1', 'Q5_2', 'Q5_3', 'Q9_0', 'Q9_1', 'Q9_2', 'Q9_3', 'Q9_4', 'Q9_5', 'Q9_6', 'Q9_7', 'Q9_8', 'Q9_9', 'Q9_10', 'Q9_11'\n",
    "     , 'Q9_12', 'Q9_13', 'Q9_14', 'Q9_15', 'Q9_16', 'Q9_17', 'Q11_4', 'Q6', 'Q10_0', 'Q10_1', 'Q10_2', 'Q10_3', 'Q10_4', 'Q10_5', 'Q10_6'\n",
    "     , 'Q10_7', 'Q10_8', 'Q10_9', 'Q10_10', 'Q10_11', 'Q10_12', 'Q10_13', 'Q10_14', 'Q10_15', 'Q10_16', 'Q10_17', 'Q10_18', 'Q13', 'Q14_0'\n",
    "    , 'Q14_1', 'Q14_2', 'Q14_3', 'Q14_4', 'Q14_5', 'Q14_6', 'Q16_0', 'Q16_1', 'Q18_0', 'Q18_1', 'Q18_2', 'Q20_0', 'Q20_1', 'Q20_2', 'Q20_3'\n",
    "     , 'Q20_4', 'Q20_5', 'Q20_6', 'Q22', 'Q23_0', 'Q23_1', 'Q23_2', 'Q23_3', 'Q23_4', 'Q23_5', 'Q23_6', 'Q23_7', 'Q23_8', 'Q23_9', 'Q23_10'\n",
    "     , 'Q23_11', 'Q29', 'Q30']"
   ]
  },
  {
   "cell_type": "code",
   "execution_count": 208,
   "metadata": {},
   "outputs": [],
   "source": [
    "# fonction pour creer un tableau croisé multiple avec effectifs et pourcentages\n",
    "def tableau_croise_final(\n",
    "    data, var_dep, indeps):\n",
    "    t_nombre = pyshs.tableau_croise_multiple(data,\n",
    "                              var_dep,\n",
    "                              indeps,\n",
    "                              \"PSD\",               \n",
    "                              contenu=\"absolu\") \n",
    "    t_pourcentage = pyshs.tableau_croise_multiple(data,\n",
    "                              var_dep,\n",
    "                              indeps,\n",
    "                              \"PSD\",                   \n",
    "                              contenu=\"pourcentage\" )\n",
    "    t=pd.concat({n:pd.concat({\"Effectif\":t_nombre[n],\"%\":t_pourcentage[n]},axis=1)                     \n",
    "        for n in t_nombre.columns if n != \"Total\" and n != \"Distribution\"},axis=1)\n",
    "    \n",
    "    for n in t_nombre.columns:\n",
    "        if n == \"Total\":\n",
    "            t[\"Total\"] = t_nombre[\"Total\"]\n",
    "\n",
    "    t[\"Distribution\"]= t_pourcentage[\"Distribution\"]\n",
    "    \n",
    "    t = t.reset_index()\n",
    "    \n",
    "    t[\"Question\"] = t[\"Variable\"].apply(lambda x : x.split(' ')[0])\n",
    "    \n",
    "    t[\"Question\"] = t[\"Question\"].apply(lambda x : list({key: questions_variables[key] for key in [x]}.values())[0])\n",
    "    \n",
    "    t = t.set_index(['Question','Variable'])\n",
    "    \n",
    "    return t\n",
    "\n",
    "\n",
    "   "
   ]
  },
  {
   "cell_type": "code",
   "execution_count": 209,
   "metadata": {},
   "outputs": [],
   "source": [
    "Tableaux = {}\n",
    "for i in B:\n",
    "    tableau_i = tableau_croise_final(data, i, list_indeps)\n",
    "    Tableaux.update({i: tableau_i})"
   ]
  },
  {
   "cell_type": "code",
   "execution_count": 210,
   "metadata": {},
   "outputs": [
    {
     "name": "stderr",
     "output_type": "stream",
     "text": [
      "<ipython-input-210-ee7e6ff29352>:1: UserWarning: Pandas requires version '1.4.3' or newer of 'xlsxwriter' (version '1.3.7' currently installed).\n",
      "  with pd.ExcelWriter(r\"C:\\Users\\rana_\\OneDrive\\Bureau\\inserm\\travaux\\IFOP et LEEM\\transfer_5678355_files_71b8c3b2\\LEEM-2018\\Leem_2018_analyse\\Tableaux_croisés_Leem_2018.xlsx\") as engine:\n"
     ]
    }
   ],
   "source": [
    "with pd.ExcelWriter(r\"C:\\Users\\rana_\\OneDrive\\Bureau\\inserm\\travaux\\IFOP et LEEM\\transfer_5678355_files_71b8c3b2\\LEEM-2018\\Leem_2018_analyse\\Tableaux_croisés_Leem_2018.xlsx\") as engine:\n",
    "    for key, val in Tableaux.items():\n",
    "        val.to_excel(engine, sheet_name=key)"
   ]
  },
  {
   "cell_type": "code",
   "execution_count": null,
   "metadata": {},
   "outputs": [],
   "source": []
  }
 ],
 "metadata": {
  "kernelspec": {
   "display_name": "Python 3",
   "language": "python",
   "name": "python3"
  },
  "language_info": {
   "codemirror_mode": {
    "name": "ipython",
    "version": 3
   },
   "file_extension": ".py",
   "mimetype": "text/x-python",
   "name": "python",
   "nbconvert_exporter": "python",
   "pygments_lexer": "ipython3",
   "version": "3.8.5"
  }
 },
 "nbformat": 4,
 "nbformat_minor": 4
}
